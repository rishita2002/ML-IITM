{
 "cells": [
  {
   "cell_type": "markdown",
   "metadata": {},
   "source": [
    "## Lecture 6.3 Bernoulli Naive Bayes"
   ]
  },
  {
   "cell_type": "markdown",
   "metadata": {},
   "source": [
    "### Objective\n",
    "In this notebook we will implement Naive Bayes Classifier from scratch"
   ]
  },
  {
   "cell_type": "code",
   "execution_count": 1,
   "metadata": {},
   "outputs": [],
   "source": [
    "import numpy as np"
   ]
  },
  {
   "cell_type": "markdown",
   "metadata": {},
   "source": [
    "### Naive Bayes Classifier\n",
    "- Naive Bayes is a **generative classifier**.\n",
    "- It **estimates probability** of a sample belonging to a class using **Bayes Theorem**:\n",
    "$$\n",
    "\\begin{align}\n",
    "    \\text{posterior} &= \\frac{\\textcolor{blue}{\\text{prior}} \\times \\textcolor{purple}{\\text{likelihood}}}{\\text{evidence}} \\\\\n",
    "    p(y|\\textbf{x}) &= \\frac{\\textcolor{blue}{p(y)} \\times \\textcolor{purple}{p(\\textbf{x}|y)}}{p(\\textbf{x})}\n",
    "\\end{align}\n",
    "$$\n",
    "- It simplifies the calculation of **likelihood** with **conditional independence assumption**: Naive Bayes assumes that the features are *conditionally independent given labels*.\n",
    "  - The **likelihood** can be expressed as:\n",
    "$$\n",
    "\\begin{align}\n",
    "    p(\\textbf{x}|y) &= p(x_1, x_2, ... , x_m | y) \\\\\n",
    "    &= p(x_1|y) p(x_2|y)...p(x_m|y) \\\\\n",
    "    &= \\prod_{j=1}^m p(x_j|y)\n",
    "\\end{align}\n",
    "$$\n",
    "  - Substituting likelihood in the Bayes theorem gives us the formula:\n",
    "$$\n",
    "p(y = y_c | \\textbf{x}) = \\frac{\\textcolor{green}{\\prod_{j=1}^m p(x_j|y)}}{\\textcolor{red}{\\sum_{r=1}^k p(y_r)\\prod_{j=1}^m p(x_j|y_r)}}\n",
    "$$\n",
    "$\\text{where \\textit{k} is number of labels, \\textit{m} is number of features and \\textit{c} is the c-th label in the given \\textit{k} labels}$"
   ]
  },
  {
   "cell_type": "markdown",
   "metadata": {},
   "source": [
    "#### Inference\n",
    "- We perform this calculation in **log-space** to avoid issues with underflow due to multiplication of small numbers:\n",
    "  - The label that results in the **highest value of the numerator** i.e $\\text{\\textcolor{blue}{likelihood}} \\times \\text{\\textcolor{blue}{prior}}$ is assigned to the given example. *Note that the evidence is fixed for all the labels and acts as normalizing constant*.\n",
    "$$\n",
    "y = \\text{argmax}_y \\log p(y) + \\sum_{j=1}^m\\log p(x_j | y)\n",
    "$$\n",
    "- Posterior probability however needs full calculation of the Bayes formula:\n",
    "  - We first obtain the product of likelihood and prior for each label in log space:\n",
    "  $$\n",
    "  \\textcolor{blue}{\\log p(\\textbf{x}, y_r) = \\log p(y_r) + \\sum_{j=1}^m \\log p(x_j + y_r)}\n",
    "  $$\n",
    "    and convert that to probability by taking\n",
    "  $$\n",
    "  p(\\textbf{x}, y_r) = \\textcolor{red}{\\exp(\\log p(\\textbf{x}, y_r))}\n",
    "  $$\n",
    "  - Sum up these probabilities for obtaining the evidence or the denominator of the formula.\n",
    "  $$\n",
    "  p(\\textbf{x}) = \\sum_{r=1}^k p(\\textbf{x}, y_r) = \\sum_{r=1}^k \\exp(\\log p(\\textbf{x}, y_r))\n",
    "  $$\n",
    "  - Substituting these values one can obtain the posterior probability.\n",
    "  $$\n",
    "  p(y_r |\\textbf{x}) = \\frac{p(\\textbf{x},y_r)}{p({\\textbf{x}})}\n",
    "  $$\n",
    "\n",
    "Naive Bayes classifier is used in **document classification** and **spam filtering**.\n"
   ]
  },
  {
   "cell_type": "markdown",
   "metadata": {},
   "source": [
    "#### Learning Problem\n",
    "- $k$ prior probabilities to be estimated : $\\{p(y_1), p(y_2),...,p(y_k)\\}$\n",
    "- $k \\times m$ class probabilities: $\\{p(x_1|y_1),....,p(x_m|y_1),p(x_1|y_2),...,p(x_m|y_2),....,p(x_1|y_k),....,p(x_m|y_k)\\}$\n",
    "\n",
    "The class conditional densities depend on the nature of the features.\n",
    "The following are some popular class conditional densities that are used in NB classifier:\n",
    "- **Bernoulli distribution**: When $x_j$ is a **binary feature**, we use a Bernoulli distribution to model the class conditional density: $p(x_j|y_c)$.\n",
    "- **Categorical distribution**: When $x_j$ is a **categorical feature** i.e it takes one of the $e >2$ discrete values [e.g {red, green, blue} or roll of a dice], we use categorical distribution to model the class conditional density $p(x_j|y_c)$.\n",
    "- **Multinomial distribution**: When $\\textbf{x}$ is a count vector i.e in each component $x_j$ is a count of appearance in the object it represents and $\\sum x_j = l$, which is the length of the object, we use multinomial distribution to model $p(\\textbf{x}|y_c)$.\n",
    "- **Gaussian distribution**: When $x_j$ is a **continuous feature** i.e it takes real values, we use gaussian (normal) distribution to model the class conditional density $p(x_j|y_c)$.\n",
    "\n",
    "We will implement these different class conditional densities in different NB implementations."
   ]
  },
  {
   "cell_type": "markdown",
   "metadata": {},
   "source": [
    "### Bernoulli NB: Implementation"
   ]
  },
  {
   "cell_type": "markdown",
   "metadata": {},
   "source": [
    "#### Parameter estimation: class conditional density and prior\n",
    "\n",
    "Remember that the **class conditional density** for Bernoulli NB is calculated as follows:\n",
    "$$\n",
    "\\large\n",
    "w_{jy_c} = \\frac{\\sum_{i=1}^n \\mathbb{1}(y^{(i)} = y_c)x_j^{(i)}}{\\sum_{i=1}^n \\mathbb{1}(y^{(i)} = y_c)}\n",
    "$$\n",
    "What does it mean? **Average of feature value $x_j$ in the examples with label $y_c$**.\n",
    "- $\\mathbb{1}(y^{(i)} = y_c)$ gets us the examples with label $y_c$.\n",
    "- Numerator sums up $x_j$ across all examples with label $y_c$.\n",
    "- And is divided by total number of examples with label $y_c$.\n",
    "\n",
    "The class **prior** is obtained as follows:\n",
    "$$\n",
    "\\large\n",
    "w_{y_c} = \\frac{\\sum_{i=1}^n \\mathbb{1}(y^{(i)} = y_c)}{n}\n",
    "$$\n",
    "Here,\n",
    "- The numerator us **total number of examples with label** $y_c$ and is divided by the **total number of examples in the training set**.\n",
    "\n",
    "While estimating parameters of the model, we process examples from each label separately and estimate the parameters."
   ]
  },
  {
   "cell_type": "code",
   "execution_count": 2,
   "metadata": {},
   "outputs": [],
   "source": [
    "def fit (X, y):\n",
    "    n_samples, n_features = X.shape\n",
    "    class_count = np.unique(y)\n",
    "    n_classes = len(class_count)\n",
    "\n",
    "    # Initialize the weight vector.\n",
    "    w = np.zeros((n_classes, n_features), dtype=np.float64)\n",
    "    w_priors = np.zeros(n_classes, dtype=np.float64)\n",
    "\n",
    "    for c in range(n_classes): # Preprocessing the examples from each class separately.\n",
    "        # get examples with label = c\n",
    "        X_c = X[y == c]\n",
    "\n",
    "        # estimation of w_{jy_c}: The parameter of Bernoulli distribution\n",
    "        # p(x_j|y_c) - Ber(w_{jy_c})\n",
    "        # We have vectorized this operation and we obtain vector w_{y_c} that\n",
    "        # contains w_{jy_c} for each x_j.\n",
    "        w[c, :] = np.sum(X_c, axis=0)/X_c.shape[0]\n",
    "\n",
    "        #estimation of prior probability: w_{y_c}\n",
    "        w_priors[c] = X_c.shape[0]/np.float64(n_samples)\n",
    "\n",
    "    print('Weight Vector:', w)\n",
    "    print('Prior:', w_priors)\n",
    "    return w, w_priors"
   ]
  },
  {
   "cell_type": "markdown",
   "metadata": {},
   "source": [
    "Let's look at the parameter estimation in step by step manner:"
   ]
  },
  {
   "cell_type": "code",
   "execution_count": 3,
   "metadata": {},
   "outputs": [
    {
     "name": "stdout",
     "output_type": "stream",
     "text": [
      "Weight Vector: [[0. 1.]\n",
      " [1. 0.]]\n",
      "Prior: [0.5 0.5]\n"
     ]
    },
    {
     "data": {
      "text/plain": [
       "(array([[0., 1.],\n",
       "        [1., 0.]]),\n",
       " array([0.5, 0.5]))"
      ]
     },
     "execution_count": 3,
     "metadata": {},
     "output_type": "execute_result"
    }
   ],
   "source": [
    "# feature matrix with shape (4, 2). x_1 - Ber(w_1), x_2 - Ber(w_2)\n",
    "X = np.array([[1,0],[0,1],[0,1],[1,0]])\n",
    "\n",
    "# Label vector with shape (4,)\n",
    "y = np.array([1, 0, 0, 1])\n",
    "\n",
    "# call fit with feature matrix  and label vector as arguments.\n",
    "fit(X, y)\n",
    "\n",
    "#Returns the parameters of bernoulli distributions and priors."
   ]
  },
  {
   "cell_type": "markdown",
   "metadata": {},
   "source": [
    "A few observations:\n",
    "- Since there are 50% examples of each class 1 and 0, the prior probability vector has 0.5 for each class.\n",
    "- Note that:\n",
    "  - For class 0, $x_1 = 0 $ and $x_2 = 1$  and hence the parameters of bernoulli distributions are 0 and 1 respectively.\n",
    "    - $w_01 = 0, w_02 = 1$.\n",
    "  - For class 1, $x_1 = 1$ and $x_2 = 0$ and hence the parameters of bernoulli distributions are 1 and 0 respectively.\n",
    "    - $w_11 = 1, w_12 = 0$.\n",
    "\n",
    "Let's understand class conditional density calculation step by step:\n",
    "\n",
    "**STEP 1**: Filter examples for a class, say c=1"
   ]
  },
  {
   "cell_type": "code",
   "execution_count": 4,
   "metadata": {},
   "outputs": [
    {
     "data": {
      "text/plain": [
       "array([[1, 0],\n",
       "       [1, 0]])"
      ]
     },
     "execution_count": 4,
     "metadata": {},
     "output_type": "execute_result"
    }
   ],
   "source": [
    "X_c = X[y==1]; X_c"
   ]
  },
  {
   "cell_type": "markdown",
   "metadata": {},
   "source": [
    "**STEP 2**: Feature wise sum."
   ]
  },
  {
   "cell_type": "code",
   "execution_count": 5,
   "metadata": {},
   "outputs": [
    {
     "data": {
      "text/plain": [
       "array([2, 0])"
      ]
     },
     "execution_count": 5,
     "metadata": {},
     "output_type": "execute_result"
    }
   ],
   "source": [
    "np.sum(X_c, axis=0)"
   ]
  },
  {
   "cell_type": "markdown",
   "metadata": {},
   "source": [
    "**STEP 3**: Dividing by the class count"
   ]
  },
  {
   "cell_type": "code",
   "execution_count": 6,
   "metadata": {},
   "outputs": [
    {
     "data": {
      "text/plain": [
       "array([1., 0.])"
      ]
     },
     "execution_count": 6,
     "metadata": {},
     "output_type": "execute_result"
    }
   ],
   "source": [
    "w = np.sum(X_c, axis=0)/X_c.shape[0]\n",
    "w"
   ]
  },
  {
   "cell_type": "markdown",
   "metadata": {},
   "source": [
    "#### Incorporating Laplace Correction\n",
    "As we talked in the lecture slides, the 0 value for parameter is a problem as it leads to 0 posterior probability. We can fix this problem with **Laplace correction** or by adding small dummmy counts in each class feature.\n",
    "- The **class priors** with laplace correction can be calculated as follows:\n",
    "$$\n",
    "p (y = y_c)  = \\frac{\\sum_{i=1}^n \\mathbb{1}(y^{(i)} = y_c) + \\alpha}{n + k\\alpha}\n",
    "$$\n",
    "- The **class conditional density** with laplace correction is computed as follows:\n",
    "$$\n",
    "\\large\n",
    "w_{jy_c} = \\frac{\\sum_{i=1}^n \\mathbb{1}(y^{(i)} = y_c)x_j^{(i)} + \\alpha}{\\sum_{i=1}^n \\mathbb{1}(y^{(i)} = y_c) + 2\\alpha}\n",
    "$$\n",
    "In both cases, we use $\\alpha =1$ (**Laplace correction or smoothing**)"
   ]
  },
  {
   "cell_type": "markdown",
   "metadata": {},
   "source": [
    "#### Inference"
   ]
  },
  {
   "cell_type": "markdown",
   "metadata": {},
   "source": [
    "#### Determine the class label\n",
    "Remember that we assign class label $y_c$ that results in the largest product of likelihood and prior.\n",
    "$$\n",
    "\\large\n",
    "\\begin{align}\n",
    "    y_c &= \\text{argmax}_{y_c} \\left( \\sum_{j=1}^m \\log p(x_j|y_c; \\mathbf{w}) \\right) + \\log p(y_c; \\mathbf{w}) \\\\\n",
    "    &= \\text{argmax}_{y_c} \\left(\\sum_{j=1}^m \\log w_{jy_c}^{x_j}(1 - w_{jy_c})^{1 - x_j} \\right) + \\log p(y_c; \\mathbf{w}) \\\\\n",
    "    &= \\text{argmax}_{y_c} \\left(\\sum_{j=1}^m x_j\\log w_{jy_c} + (1 - x_j)\\log (1 - w_{jy_c}) \\right) + \\log p(y_c; \\mathbf{w})\n",
    "\\end{align}\n",
    "$$\n",
    "Note that we perform these computations in log space to avoid problem with the underflow.\n",
    "\n",
    "Further with vectorization, this is implemented as follows:\n",
    "$$\n",
    "\\large\n",
    "\\mathbf{y} = \\text{argmax}_{y}\\mathbf{X} \\log \\mathbf{w}^T + (1 - \\mathbf{X})\\log (1 -\\mathbf{w})^T + \\log \\mathbf{w}_{\\text{prior}}\n",
    "$$"
   ]
  },
  {
   "cell_type": "markdown",
   "metadata": {},
   "source": [
    "#### Implementation"
   ]
  },
  {
   "cell_type": "code",
   "execution_count": 7,
   "metadata": {},
   "outputs": [],
   "source": [
    "class BernoulliNB (object):\n",
    "    def __init__(self, alpha = 1.0):\n",
    "        self.alpha = alpha\n",
    "    \n",
    "    def fit(self, X, y):\n",
    "        n_samples , n_features = X.shape\n",
    "        class_count = np.unique(y)\n",
    "        n_classes = len(class_count)\n",
    "\n",
    "        self.w = np.zeros((n_classes, n_features), dtype = np.float64)\n",
    "        self.w_priors = np.zeros(n_classes, dtype = np.float64)\n",
    "\n",
    "        for c in range(n_classes):\n",
    "            X_c = X[y==c]\n",
    "            self.w[c, :] = (np.sum(X_c, axis=0) + self.alpha)/(X_c.shape[0] + 2 * self.alpha)\n",
    "            self.w_priors[c] = (X_c.shape[0] + self.alpha)/(float(n_samples) + n_classes * self.alpha)\n",
    "        \n",
    "        print('Class conditional density:', self.w)\n",
    "        print('Prior: ', self.w_priors)\n",
    "    \n",
    "    def log_likelihood_prior_prod(self, X):\n",
    "        return X @ (np.log(self.w).T) + (1 - X) @ np.log((1 - self.w).T) + np.log(self.w_priors)\n",
    "    \n",
    "    def predict_proba(self, X):\n",
    "        q = self.log_likelihood_prior_prod(X)\n",
    "        return np.exp(q)/np.expand_dims(np.sum(np.exp(q), axis=1), axis=1)\n",
    "    \n",
    "    def predict(self, X):\n",
    "        return np.argmax(self.log_likelihood_prior_prod(X), axis=1)"
   ]
  },
  {
   "cell_type": "markdown",
   "metadata": {},
   "source": [
    "#### Demo"
   ]
  },
  {
   "cell_type": "markdown",
   "metadata": {},
   "source": [
    "#### Binary Classification setup"
   ]
  },
  {
   "cell_type": "code",
   "execution_count": 8,
   "metadata": {},
   "outputs": [
    {
     "name": "stdout",
     "output_type": "stream",
     "text": [
      "Class conditional density: [[0.25 0.75]\n",
      " [0.75 0.25]]\n",
      "Prior:  [0.5 0.5]\n"
     ]
    }
   ],
   "source": [
    "bernoulli_nb = BernoulliNB()\n",
    "bernoulli_nb.fit(X, y)"
   ]
  },
  {
   "cell_type": "code",
   "execution_count": 9,
   "metadata": {},
   "outputs": [
    {
     "data": {
      "text/plain": [
       "array([1, 0, 0, 1])"
      ]
     },
     "execution_count": 9,
     "metadata": {},
     "output_type": "execute_result"
    }
   ],
   "source": [
    "# Let's predict classes for input example.\n",
    "bernoulli_nb.predict(X)"
   ]
  },
  {
   "cell_type": "code",
   "execution_count": 10,
   "metadata": {},
   "outputs": [
    {
     "data": {
      "text/plain": [
       "array([[-3.4657359 , -1.26851133],\n",
       "       [-1.26851133, -3.4657359 ],\n",
       "       [-1.26851133, -3.4657359 ],\n",
       "       [-3.4657359 , -1.26851133]])"
      ]
     },
     "execution_count": 10,
     "metadata": {},
     "output_type": "execute_result"
    }
   ],
   "source": [
    "# The class labels are inferred by selecting the label that results into\n",
    "# Highest value of product of likelihood and priors:\n",
    "bernoulli_nb.log_likelihood_prior_prod(X)"
   ]
  },
  {
   "cell_type": "markdown",
   "metadata": {},
   "source": [
    "Observe that based on this calculation, the first example gets class 1, the second one gets 0, third also gets 0 and last one gets class 1."
   ]
  },
  {
   "cell_type": "code",
   "execution_count": 11,
   "metadata": {},
   "outputs": [
    {
     "data": {
      "text/plain": [
       "array([[0.1, 0.9],\n",
       "       [0.9, 0.1],\n",
       "       [0.9, 0.1],\n",
       "       [0.1, 0.9]])"
      ]
     },
     "execution_count": 11,
     "metadata": {},
     "output_type": "execute_result"
    }
   ],
   "source": [
    "# Let's predict the probabilities for each example.\n",
    "bernoulli_nb.predict_proba(X)"
   ]
  },
  {
   "cell_type": "markdown",
   "metadata": {},
   "source": [
    "#### Multiclass classification setup\n",
    "The NB implementation also works in multiclass setting. Here's an example with three classes."
   ]
  },
  {
   "cell_type": "code",
   "execution_count": 12,
   "metadata": {},
   "outputs": [],
   "source": [
    "X = np.array([[1, 0], [0, 1], [0, 1], [1, 0], [1, 1], [1, 1]])\n",
    "y = np.array([1, 0, 0, 1, 2, 2])"
   ]
  },
  {
   "cell_type": "markdown",
   "metadata": {},
   "source": [
    "Estimation of parameters of Bernoulli distribution and class priors"
   ]
  },
  {
   "cell_type": "code",
   "execution_count": 13,
   "metadata": {},
   "outputs": [
    {
     "name": "stdout",
     "output_type": "stream",
     "text": [
      "Class conditional density: [[0.25 0.75]\n",
      " [0.75 0.25]\n",
      " [0.75 0.75]]\n",
      "Prior:  [0.33333333 0.33333333 0.33333333]\n"
     ]
    }
   ],
   "source": [
    "bernoulli_nb = BernoulliNB()\n",
    "bernoulli_nb.fit(X, y)"
   ]
  },
  {
   "cell_type": "code",
   "execution_count": 14,
   "metadata": {},
   "outputs": [
    {
     "data": {
      "text/plain": [
       "array([1, 0, 0, 1, 2, 2])"
      ]
     },
     "execution_count": 14,
     "metadata": {},
     "output_type": "execute_result"
    }
   ],
   "source": [
    "# Let's predict classes for each example.\n",
    "bernoulli_nb.predict(X)"
   ]
  },
  {
   "cell_type": "code",
   "execution_count": 15,
   "metadata": {},
   "outputs": [
    {
     "data": {
      "text/plain": [
       "array([[0.07692308, 0.69230769, 0.23076923],\n",
       "       [0.69230769, 0.07692308, 0.23076923],\n",
       "       [0.69230769, 0.07692308, 0.23076923],\n",
       "       [0.07692308, 0.69230769, 0.23076923],\n",
       "       [0.2       , 0.2       , 0.6       ],\n",
       "       [0.2       , 0.2       , 0.6       ]])"
      ]
     },
     "execution_count": 15,
     "metadata": {},
     "output_type": "execute_result"
    }
   ],
   "source": [
    "# Let's predict the probabilities for each example.\n",
    "bernoulli_nb.predict_proba(X)"
   ]
  },
  {
   "cell_type": "markdown",
   "metadata": {},
   "source": [
    "## Lecture 6.4: Gaussian Naive Bayes Implementation"
   ]
  },
  {
   "cell_type": "markdown",
   "metadata": {},
   "source": [
    "### Parameterization\n",
    "Here the features have real numbers or continuous values. And we assume that **each feature given label is drawn from a gaussian distribution**.\n",
    "\n",
    "Formally we write it as \n",
    "$$\n",
    "x_j|y_r \\sim \\mathcal{N}(\\mu, \\sigma^2)\n",
    "$$\n",
    "There are **two parameters** in Gaussian or normal distribution $\\mathcal{N}$:\n",
    "- Mean $\\mu$\n",
    "- Variance $\\sigma^2$\n",
    "\n",
    "There are $m \\times k$ ** Gaussian distributions - one for each feature and label.\n",
    "\n",
    "Each Gaussian distribution has **2 parameters** to estimate hence the **total number of parameters** are $2 \\times m \\times k$."
   ]
  },
  {
   "cell_type": "markdown",
   "metadata": {},
   "source": [
    "### Alternate parameterization through Multi-variate Gaussian\n",
    "Alternatively, for each label, we can assume a multi-variate Gaussian distribution with $m$ variables. Such a distribution will have\n",
    "- a **mean vector** ($\\mu$) with $m$ components - one mean per feature.\n",
    "- a **covariance matrix** ($\\Sigma$) with $m \\times m$ entries-\n",
    "  - However since we are making a conditional independence assumptions among variables, The covariance matrix is assumed to be diagonal-\n",
    "    - It's off-diagonal entries are 0 $\\Sigma_{jr} = 0$ where $j \\ne r$.\n",
    "    - The diagonal entries denote variance for each feature $\\Sigma_{jj} = \\sigma^2$\n",
    "\n",
    "In this scheme, we need to estimate $k$ multi-variate Gaussian distributions, one per label.\n",
    "For each distribution, we need to estimate\n",
    "- $m$ means\n",
    "- $m$ variances\n",
    "\n",
    "As such the number of parameters are the same in both the representations. However the later representation is more efficient in terms of computation."
   ]
  },
  {
   "cell_type": "markdown",
   "metadata": {},
   "source": [
    "### Parameter estimation\n",
    "Let $n_r$ is the **total number of samples with label** $y_r$\n",
    "$$\n",
    "n_r = \\sum_{i=1}^n \\mathbb{1}(y^{(i)} = y_r)\n",
    "$$\n",
    "The parameters for **multivariate Gaussian** for label $r$ can be calculated as follows:\n",
    "$$\n",
    "\\large\n",
    "\\begin{align}\n",
    "    \\mu_{r} &= \\frac{1}{n_r} \\sum_{i=1}^n \\mathbb{1}(y^{(i)} = y_r)\\mathbf{x}^{(i)} \\\\\n",
    "    \\Sigma_{jjr}^2 &= \\frac{1}{n_r} \\sum_{i=1}^n \\mathbb{1}(y^{(i)} = y_r)(\\mathbf{x}^{(i)} - \\mu_r)^2\n",
    "\\end{align}\n",
    "$$"
   ]
  },
  {
   "cell_type": "markdown",
   "metadata": {},
   "source": [
    "### Inference\n",
    "The posterior probability can be calculated based on Bayes theorem:\n",
    "$$\n",
    "p(y = y_c|\\mathbf{x}) = \\frac{p(\\mathbf{x}|y_c)p(y_c)}{p(\\mathbf{x})}\n",
    "$$\n",
    "The likelihood is computed with the folllowing formula:\n",
    "$$\n",
    "\\large\n",
    "p(x_j|y_c;\\mu_{jc},\\sigma_{jc}^2) = \\frac{1}{\\sqrt{2\\pi}\\sigma_{jc}}e^{-\\frac{1}{2}(\\frac{x_j - \\mu_{jc}}{\\sigma_{jc}})^2}\n",
    "$$\n",
    "This can be implemented with multi-variate  Gaussian distribution with diagonal covariance matrix:\n",
    "$$\n",
    "\\large\n",
    "p(\\mathbf{x}|y_c;\\mu_c,\\Sigma_c) = \\frac{1}{(2\\pi)^{\\frac{d}{2}}|\\Sigma_c|^{\\frac{1}{2}}} e^{-\\frac{1}{2}(\\mathbf{x}-\\mu_c)^T \\Sigma_c^{-1}(\\mathbf{x} - \\mu_c)}\n",
    "$$\n",
    "It is interesting to note that\n",
    "- We calculate the distance between the mean and the sample normalized by the variance : $\\large -\\frac{1}{2}(\\mathbf{x}-\\mu_c)^T \\Sigma_c^{-1}(\\mathbf{x} - \\mu_c)$\n",
    "\n",
    "\n",
    "- We calculate the exponential of this distance and convert it into probability by dividing it with $\\large {(2\\pi)^{\\frac{d}{2}}|\\Sigma_c|^{\\frac{1}{2}}}$\n",
    "\n",
    "Here $d$ is number of dimensions which in this case is $n$ the number of examples"
   ]
  },
  {
   "cell_type": "markdown",
   "metadata": {},
   "source": [
    "### Implementation"
   ]
  },
  {
   "cell_type": "code",
   "execution_count": 16,
   "metadata": {},
   "outputs": [],
   "source": [
    "class GaussianNB(object):\n",
    "    def fit(self, X, y):\n",
    "        '''\n",
    "        parameter estimation for gaussian distribution\n",
    "        '''\n",
    "        n_samples, n_features = X.shape\n",
    "        self._classes = np.unique(y)\n",
    "        n_classes = len(self._classes)\n",
    "\n",
    "        # Calculate the meean, var, and prior for each class.\n",
    "        self._mean = np.zeros((n_classes, n_features), dtype=np.float64)\n",
    "        self._var = np.zeros((n_classes, n_features), dtype=np.float64)\n",
    "        self._priors = np.zeros(n_classes, dtype=np.float64)\n",
    "\n",
    "        for idx, c in enumerate(self._classes):\n",
    "            # Get examples with label $c$.\n",
    "            X_c = X[y == c]\n",
    "\n",
    "            # Estimate mean from the training examples of class $c$.\n",
    "            self._mean[idx, :] = X_c.mean(axis=0)\n",
    "\n",
    "            # Estimate standard deviation from the training examples of class $c$.\n",
    "            self._var[idx, :] = X_c.var(axis=0)\n",
    "\n",
    "            # Estimate the priors - based on the fraction of examples with label c\n",
    "            # among all the training examples.\n",
    "            self._priors[idx] = X_c.shape[0]/float(n_samples)\n",
    "\n",
    "        print('Mean: ', self._mean)\n",
    "        print('Variance: ', self._var)\n",
    "        print('Priors: ', self._priors)\n",
    "    \n",
    "    def _calc_pdf(self, class_idx, X):\n",
    "        '''\n",
    "        Calculates probability density for samples for class label class_idx.\n",
    "        '''\n",
    "        mean = self._mean[class_idx]\n",
    "        var = np.diag(self._var[class_idx])\n",
    "        z = np.power(2 * np.pi, X.shape[0]/2) * np.power(np.linalg.det(var), 1/2)\n",
    "        return (1/z) * np.exp(-(1/2)*(X - mean).T @ (np.linalg.inv(var)) @ (X - mean))\n",
    "    \n",
    "    def _calc_prod_likelihood_prior(self, X):\n",
    "        '''\n",
    "        Calculates the product of likelihood and priors.\n",
    "        '''\n",
    "        self._prod_likelihood_prior = np.zeros((X.shape[0], len(self._classes)), dtype=np.float64)\n",
    "\n",
    "        for x_idx, x in enumerate(X):\n",
    "            for idx, c in enumerate(self._classes):\n",
    "                self._prod_likelihood_prior[x_idx, c] = (np.log(self._calc_pdf(idx, x)) + np.log(self._priors[idx]))\n",
    "    \n",
    "    def predict(self, X):\n",
    "        '''\n",
    "        predicts class labels for each example.\n",
    "        '''\n",
    "        self._calc_prod_likelihood_prior(X)\n",
    "        return np.argmax(self._prod_likelihood_prior, axis=1)\n",
    "    \n",
    "    def predict_proba(self, X):\n",
    "        '''\n",
    "        Calculates the probability of each example belonging to different classes\n",
    "        '''\n",
    "        self._calc_prod_likelihood_prior(X)\n",
    "        return np.exp(self._prod_likelihood_prior)/np.expand_dims(\n",
    "            np.sum(np.exp(self._prod_likelihood_prior), axis=1), axis=1)"
   ]
  },
  {
   "cell_type": "markdown",
   "metadata": {},
   "source": [
    "### Demo"
   ]
  },
  {
   "cell_type": "markdown",
   "metadata": {},
   "source": [
    "#### Binary Classification\n",
    "- Generates examples from two classes.\n",
    "- Divide the data into train and test split\n",
    "- Train the model on the examples from training set.\n",
    "- Evaluate the classification performance on the test set.\n",
    "\n",
    "**STEP 1**: Generate training data with two multi-variate Gaussian distribution one with mean [5,5] and the second one with [10, 10] and standard deviation of 1.5 for each Gaussian\n",
    "- The number of features per example = 2\n",
    "- Total number of examples = 100"
   ]
  },
  {
   "cell_type": "code",
   "execution_count": 17,
   "metadata": {},
   "outputs": [],
   "source": [
    "from sklearn.datasets import make_classification, make_blobs\n",
    "from sklearn.model_selection import train_test_split\n",
    "\n",
    "# generate artificial data points\n",
    "X, y = make_blobs(n_samples = 100,\n",
    "                  n_features = 2,\n",
    "                  centers = [[5,5],[10,10]],\n",
    "                  cluster_std = 1.5,\n",
    "                  random_state = 2)\n",
    "\n",
    "X_train, X_test, y_train, y_test = train_test_split(X, y, test_size=0.2, random_state=123)"
   ]
  },
  {
   "cell_type": "markdown",
   "metadata": {},
   "source": [
    "**STEP 2**: Train the Naive Bayes classifier"
   ]
  },
  {
   "cell_type": "code",
   "execution_count": 18,
   "metadata": {},
   "outputs": [
    {
     "name": "stdout",
     "output_type": "stream",
     "text": [
      "Mean:  [[ 4.55853975  5.01739665]\n",
      " [10.30431548 10.08580617]]\n",
      "Variance:  [[2.13298417 2.30222002]\n",
      " [3.22242307 2.20662074]]\n",
      "Priors:  [0.5125 0.4875]\n"
     ]
    }
   ],
   "source": [
    "gaussian_nb = GaussianNB()\n",
    "gaussian_nb.fit(X_train, y_train)"
   ]
  },
  {
   "cell_type": "markdown",
   "metadata": {},
   "source": [
    "Observe that since each example has two features and we have two classes, we have\n",
    "- A mean vector for each class has two components - mean for feature 1 and feature 2.\n",
    "- Variance also has two entries - one for variance of feature 1 and feature 2. Note that we are only storing the digital elements of covariance matrix for each class label.\n",
    "\n",
    "There are two priors - one for each class.\n",
    "\n",
    "Since we are performing parameter estimation on examples generated from the known distributions, we can compare estimated means with the actual means.\n",
    "- One distribution has mean close to [5,5] and the other one has mean close to [10, 10] which are **very close to actual means**."
   ]
  },
  {
   "cell_type": "markdown",
   "metadata": {},
   "source": [
    "**STEP 3**: Plot the gaussian distributions."
   ]
  },
  {
   "cell_type": "code",
   "execution_count": 19,
   "metadata": {},
   "outputs": [
    {
     "data": {
      "image/png": "[encoded data removed]",
      "image/svg+xml": "<?xml version=\"1.0\" encoding=\"utf-8\" standalone=\"no\"?>\n<!DOCTYPE svg PUBLIC \"-//W3C//DTD SVG 1.1//EN\"\n  \"http://www.w3.org/Graphics/SVG/1.1/DTD/svg11.dtd\">\n<svg height=\"263.63625pt\" version=\"1.1\" viewBox=\"0 0 368.925 263.63625\" width=\"368.925pt\" xmlns=\"http://www.w3.org/2000/svg\" xmlns:xlink=\"http://www.w3.org/1999/xlink\">\n <metadata>\n  <rdf:RDF xmlns:cc=\"http://creativecommons.org/ns#\" xmlns:dc=\"http://purl.org/dc/elements/1.1/\" xmlns:rdf=\"http://www.w3.org/1999/02/22-rdf-syntax-ns#\">\n   <cc:Work>\n    <dc:type rdf:resource=\"http://purl.org/dc/dcmitype/StillImage\"/>\n    <dc:date>2022-06-11T20:41:01.744516</dc:date>\n    <dc:format>image/svg+xml</dc:format>\n    <dc:creator>\n     <cc:Agent>\n      <dc:title>Matplotlib v3.4.3, https://matplotlib.org/</dc:title>\n     </cc:Agent>\n    </dc:creator>\n   </cc:Work>\n  </rdf:RDF>\n </metadata>\n <defs>\n  <style type=\"text/css\">*{stroke-linecap:butt;stroke-linejoin:round;}</style>\n </defs>\n <g id=\"figure_1\">\n  <g id=\"patch_1\">\n   <path d=\"M -0 263.63625 \nL 368.925 263.63625 \nL 368.925 0 \nL -0 0 \nz\n\" style=\"fill:none;\"/>\n  </g>\n  <g id=\"axes_1\">\n   <g id=\"patch_2\">\n    <path d=\"M 26.925 239.758125 \nL 361.725 239.758125 \nL 361.725 22.318125 \nL 26.925 22.318125 \nz\n\" style=\"fill:#ffffff;\"/>\n   </g>\n   <g clip-path=\"url(#p2255140cf3)\">\n    <image height=\"218\" id=\"image1505cadc59\" transform=\"scale(1 -1)translate(0 -218)\" width=\"335\" x=\"27\" xlink:href=\"data:image/png;base64,\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\" y=\"-21.63625\"/>\n   </g>\n   <g id=\"PathCollection_1\">\n    <defs>\n     <path d=\"M 0 3.535534 \nC 0.937635 3.535534 1.836992 3.163008 2.5 2.5 \nC 3.163008 1.836992 3.535534 0.937635 3.535534 -0 \nC 3.535534 -0.937635 3.163008 -1.836992 2.5 -2.5 \nC 1.836992 -3.163008 0.937635 -3.535534 0 -3.535534 \nC -0.937635 -3.535534 -1.836992 -3.163008 -2.5 -2.5 \nC -3.163008 -1.836992 -3.535534 -0.937635 -3.535534 0 \nC -3.535534 0.937635 -3.163008 1.836992 -2.5 2.5 \nC -1.836992 3.163008 -0.937635 3.535534 0 3.535534 \nz\n\" id=\"C0_0_4cf6d3d649\"/>\n    </defs>\n    <g clip-path=\"url(#p2255140cf3)\">\n     <use style=\"fill:#67001f;stroke:#67001f;\" x=\"123.401146\" xlink:href=\"#C0_0_4cf6d3d649\" y=\"151.262298\"/>\n    </g>\n    <g clip-path=\"url(#p2255140cf3)\">\n     <use style=\"fill:#67001f;stroke:#67001f;\" x=\"114.492595\" xlink:href=\"#C0_0_4cf6d3d649\" y=\"149.840846\"/>\n    </g>\n    <g clip-path=\"url(#p2255140cf3)\">\n     <use style=\"fill:#67001f;stroke:#67001f;\" x=\"144.808116\" xlink:href=\"#C0_0_4cf6d3d649\" y=\"191.378349\"/>\n    </g>\n    <g clip-path=\"url(#p2255140cf3)\">\n     <use style=\"fill:#67001f;stroke:#67001f;\" x=\"149.848892\" xlink:href=\"#C0_0_4cf6d3d649\" y=\"207.05985\"/>\n    </g>\n    <g clip-path=\"url(#p2255140cf3)\">\n     <use style=\"fill:#053061;stroke:#053061;\" x=\"228.599103\" xlink:href=\"#C0_0_4cf6d3d649\" y=\"84.881625\"/>\n    </g>\n    <g clip-path=\"url(#p2255140cf3)\">\n     <use style=\"fill:#67001f;stroke:#67001f;\" x=\"124.566724\" xlink:href=\"#C0_0_4cf6d3d649\" y=\"122.207255\"/>\n    </g>\n    <g clip-path=\"url(#p2255140cf3)\">\n     <use style=\"fill:#67001f;stroke:#67001f;\" x=\"75.607512\" xlink:href=\"#C0_0_4cf6d3d649\" y=\"133.967628\"/>\n    </g>\n    <g clip-path=\"url(#p2255140cf3)\">\n     <use style=\"fill:#053061;stroke:#053061;\" x=\"239.982556\" xlink:href=\"#C0_0_4cf6d3d649\" y=\"75.161861\"/>\n    </g>\n    <g clip-path=\"url(#p2255140cf3)\">\n     <use style=\"fill:#67001f;stroke:#67001f;\" x=\"78.121448\" xlink:href=\"#C0_0_4cf6d3d649\" y=\"165.681958\"/>\n    </g>\n    <g clip-path=\"url(#p2255140cf3)\">\n     <use style=\"fill:#053061;stroke:#053061;\" x=\"229.424206\" xlink:href=\"#C0_0_4cf6d3d649\" y=\"106.542255\"/>\n    </g>\n    <g clip-path=\"url(#p2255140cf3)\">\n     <use style=\"fill:#053061;stroke:#053061;\" x=\"248.339528\" xlink:href=\"#C0_0_4cf6d3d649\" y=\"105.738952\"/>\n    </g>\n    <g clip-path=\"url(#p2255140cf3)\">\n     <use style=\"fill:#053061;stroke:#053061;\" x=\"326.762983\" xlink:href=\"#C0_0_4cf6d3d649\" y=\"83.945746\"/>\n    </g>\n    <g clip-path=\"url(#p2255140cf3)\">\n     <use style=\"fill:#67001f;stroke:#67001f;\" x=\"144.78126\" xlink:href=\"#C0_0_4cf6d3d649\" y=\"183.398623\"/>\n    </g>\n    <g clip-path=\"url(#p2255140cf3)\">\n     <use style=\"fill:#053061;stroke:#053061;\" x=\"235.025748\" xlink:href=\"#C0_0_4cf6d3d649\" y=\"91.856824\"/>\n    </g>\n    <g clip-path=\"url(#p2255140cf3)\">\n     <use style=\"fill:#053061;stroke:#053061;\" x=\"180.917435\" xlink:href=\"#C0_0_4cf6d3d649\" y=\"107.007825\"/>\n    </g>\n    <g clip-path=\"url(#p2255140cf3)\">\n     <use style=\"fill:#053061;stroke:#053061;\" x=\"259.19192\" xlink:href=\"#C0_0_4cf6d3d649\" y=\"139.792807\"/>\n    </g>\n    <g clip-path=\"url(#p2255140cf3)\">\n     <use style=\"fill:#053061;stroke:#053061;\" x=\"210.503554\" xlink:href=\"#C0_0_4cf6d3d649\" y=\"111.429022\"/>\n    </g>\n    <g clip-path=\"url(#p2255140cf3)\">\n     <use style=\"fill:#67001f;stroke:#67001f;\" x=\"153.246765\" xlink:href=\"#C0_0_4cf6d3d649\" y=\"141.767963\"/>\n    </g>\n    <g clip-path=\"url(#p2255140cf3)\">\n     <use style=\"fill:#67001f;stroke:#67001f;\" x=\"119.507326\" xlink:href=\"#C0_0_4cf6d3d649\" y=\"159.621018\"/>\n    </g>\n    <g clip-path=\"url(#p2255140cf3)\">\n     <use style=\"fill:#67001f;stroke:#67001f;\" x=\"113.852126\" xlink:href=\"#C0_0_4cf6d3d649\" y=\"195.241152\"/>\n    </g>\n    <g clip-path=\"url(#p2255140cf3)\">\n     <use style=\"fill:#67001f;stroke:#67001f;\" x=\"167.472786\" xlink:href=\"#C0_0_4cf6d3d649\" y=\"142.371351\"/>\n    </g>\n    <g clip-path=\"url(#p2255140cf3)\">\n     <use style=\"fill:#67001f;stroke:#67001f;\" x=\"141.634915\" xlink:href=\"#C0_0_4cf6d3d649\" y=\"155.335706\"/>\n    </g>\n    <g clip-path=\"url(#p2255140cf3)\">\n     <use style=\"fill:#053061;stroke:#053061;\" x=\"213.041851\" xlink:href=\"#C0_0_4cf6d3d649\" y=\"141.459414\"/>\n    </g>\n    <g clip-path=\"url(#p2255140cf3)\">\n     <use style=\"fill:#67001f;stroke:#67001f;\" x=\"146.081764\" xlink:href=\"#C0_0_4cf6d3d649\" y=\"120.996766\"/>\n    </g>\n    <g clip-path=\"url(#p2255140cf3)\">\n     <use style=\"fill:#053061;stroke:#053061;\" x=\"244.220003\" xlink:href=\"#C0_0_4cf6d3d649\" y=\"85.194223\"/>\n    </g>\n    <g clip-path=\"url(#p2255140cf3)\">\n     <use style=\"fill:#67001f;stroke:#67001f;\" x=\"131.120174\" xlink:href=\"#C0_0_4cf6d3d649\" y=\"143.224574\"/>\n    </g>\n    <g clip-path=\"url(#p2255140cf3)\">\n     <use style=\"fill:#053061;stroke:#053061;\" x=\"206.7461\" xlink:href=\"#C0_0_4cf6d3d649\" y=\"125.246425\"/>\n    </g>\n    <g clip-path=\"url(#p2255140cf3)\">\n     <use style=\"fill:#67001f;stroke:#67001f;\" x=\"94.355339\" xlink:href=\"#C0_0_4cf6d3d649\" y=\"169.656173\"/>\n    </g>\n    <g clip-path=\"url(#p2255140cf3)\">\n     <use style=\"fill:#67001f;stroke:#67001f;\" x=\"121.617865\" xlink:href=\"#C0_0_4cf6d3d649\" y=\"165.279395\"/>\n    </g>\n    <g clip-path=\"url(#p2255140cf3)\">\n     <use style=\"fill:#053061;stroke:#053061;\" x=\"232.083591\" xlink:href=\"#C0_0_4cf6d3d649\" y=\"97.765754\"/>\n    </g>\n    <g clip-path=\"url(#p2255140cf3)\">\n     <use style=\"fill:#053061;stroke:#053061;\" x=\"228.443866\" xlink:href=\"#C0_0_4cf6d3d649\" y=\"87.903045\"/>\n    </g>\n    <g clip-path=\"url(#p2255140cf3)\">\n     <use style=\"fill:#053061;stroke:#053061;\" x=\"200.166923\" xlink:href=\"#C0_0_4cf6d3d649\" y=\"111.89021\"/>\n    </g>\n    <g clip-path=\"url(#p2255140cf3)\">\n     <use style=\"fill:#67001f;stroke:#67001f;\" x=\"103.880697\" xlink:href=\"#C0_0_4cf6d3d649\" y=\"184.687755\"/>\n    </g>\n    <g clip-path=\"url(#p2255140cf3)\">\n     <use style=\"fill:#67001f;stroke:#67001f;\" x=\"130.584213\" xlink:href=\"#C0_0_4cf6d3d649\" y=\"160.116128\"/>\n    </g>\n    <g clip-path=\"url(#p2255140cf3)\">\n     <use style=\"fill:#67001f;stroke:#67001f;\" x=\"122.73738\" xlink:href=\"#C0_0_4cf6d3d649\" y=\"171.30134\"/>\n    </g>\n    <g clip-path=\"url(#p2255140cf3)\">\n     <use style=\"fill:#67001f;stroke:#67001f;\" x=\"131.622061\" xlink:href=\"#C0_0_4cf6d3d649\" y=\"155.811673\"/>\n    </g>\n    <g clip-path=\"url(#p2255140cf3)\">\n     <use style=\"fill:#053061;stroke:#053061;\" x=\"203.457678\" xlink:href=\"#C0_0_4cf6d3d649\" y=\"77.412345\"/>\n    </g>\n    <g clip-path=\"url(#p2255140cf3)\">\n     <use style=\"fill:#053061;stroke:#053061;\" x=\"285.903196\" xlink:href=\"#C0_0_4cf6d3d649\" y=\"129.592738\"/>\n    </g>\n    <g clip-path=\"url(#p2255140cf3)\">\n     <use style=\"fill:#053061;stroke:#053061;\" x=\"254.047412\" xlink:href=\"#C0_0_4cf6d3d649\" y=\"94.26159\"/>\n    </g>\n    <g clip-path=\"url(#p2255140cf3)\">\n     <use style=\"fill:#053061;stroke:#053061;\" x=\"237.282211\" xlink:href=\"#C0_0_4cf6d3d649\" y=\"86.406958\"/>\n    </g>\n    <g clip-path=\"url(#p2255140cf3)\">\n     <use style=\"fill:#67001f;stroke:#67001f;\" x=\"84.595211\" xlink:href=\"#C0_0_4cf6d3d649\" y=\"183.349553\"/>\n    </g>\n    <g clip-path=\"url(#p2255140cf3)\">\n     <use style=\"fill:#67001f;stroke:#67001f;\" x=\"157.852912\" xlink:href=\"#C0_0_4cf6d3d649\" y=\"174.184422\"/>\n    </g>\n    <g clip-path=\"url(#p2255140cf3)\">\n     <use style=\"fill:#053061;stroke:#053061;\" x=\"192.243808\" xlink:href=\"#C0_0_4cf6d3d649\" y=\"91.679774\"/>\n    </g>\n    <g clip-path=\"url(#p2255140cf3)\">\n     <use style=\"fill:#053061;stroke:#053061;\" x=\"216.026548\" xlink:href=\"#C0_0_4cf6d3d649\" y=\"110.194278\"/>\n    </g>\n    <g clip-path=\"url(#p2255140cf3)\">\n     <use style=\"fill:#67001f;stroke:#67001f;\" x=\"61.887017\" xlink:href=\"#C0_0_4cf6d3d649\" y=\"168.421782\"/>\n    </g>\n    <g clip-path=\"url(#p2255140cf3)\">\n     <use style=\"fill:#053061;stroke:#053061;\" x=\"211.053241\" xlink:href=\"#C0_0_4cf6d3d649\" y=\"48.84596\"/>\n    </g>\n    <g clip-path=\"url(#p2255140cf3)\">\n     <use style=\"fill:#053061;stroke:#053061;\" x=\"246.114432\" xlink:href=\"#C0_0_4cf6d3d649\" y=\"106.828457\"/>\n    </g>\n    <g clip-path=\"url(#p2255140cf3)\">\n     <use style=\"fill:#67001f;stroke:#67001f;\" x=\"109.880623\" xlink:href=\"#C0_0_4cf6d3d649\" y=\"164.85718\"/>\n    </g>\n    <g clip-path=\"url(#p2255140cf3)\">\n     <use style=\"fill:#053061;stroke:#053061;\" x=\"209.469654\" xlink:href=\"#C0_0_4cf6d3d649\" y=\"117.711045\"/>\n    </g>\n    <g clip-path=\"url(#p2255140cf3)\">\n     <use style=\"fill:#053061;stroke:#053061;\" x=\"207.116306\" xlink:href=\"#C0_0_4cf6d3d649\" y=\"90.04881\"/>\n    </g>\n    <g clip-path=\"url(#p2255140cf3)\">\n     <use style=\"fill:#67001f;stroke:#67001f;\" x=\"145.756729\" xlink:href=\"#C0_0_4cf6d3d649\" y=\"178.463371\"/>\n    </g>\n    <g clip-path=\"url(#p2255140cf3)\">\n     <use style=\"fill:#67001f;stroke:#67001f;\" x=\"141.598355\" xlink:href=\"#C0_0_4cf6d3d649\" y=\"170.922348\"/>\n    </g>\n    <g clip-path=\"url(#p2255140cf3)\">\n     <use style=\"fill:#053061;stroke:#053061;\" x=\"210.542088\" xlink:href=\"#C0_0_4cf6d3d649\" y=\"91.850302\"/>\n    </g>\n    <g clip-path=\"url(#p2255140cf3)\">\n     <use style=\"fill:#053061;stroke:#053061;\" x=\"267.152047\" xlink:href=\"#C0_0_4cf6d3d649\" y=\"91.514755\"/>\n    </g>\n    <g clip-path=\"url(#p2255140cf3)\">\n     <use style=\"fill:#053061;stroke:#053061;\" x=\"191.211092\" xlink:href=\"#C0_0_4cf6d3d649\" y=\"88.510942\"/>\n    </g>\n    <g clip-path=\"url(#p2255140cf3)\">\n     <use style=\"fill:#67001f;stroke:#67001f;\" x=\"121.031138\" xlink:href=\"#C0_0_4cf6d3d649\" y=\"194.148464\"/>\n    </g>\n    <g clip-path=\"url(#p2255140cf3)\">\n     <use style=\"fill:#053061;stroke:#053061;\" x=\"200.708762\" xlink:href=\"#C0_0_4cf6d3d649\" y=\"118.763784\"/>\n    </g>\n    <g clip-path=\"url(#p2255140cf3)\">\n     <use style=\"fill:#67001f;stroke:#67001f;\" x=\"136.976447\" xlink:href=\"#C0_0_4cf6d3d649\" y=\"138.614798\"/>\n    </g>\n    <g clip-path=\"url(#p2255140cf3)\">\n     <use style=\"fill:#053061;stroke:#053061;\" x=\"249.483698\" xlink:href=\"#C0_0_4cf6d3d649\" y=\"92.601305\"/>\n    </g>\n    <g clip-path=\"url(#p2255140cf3)\">\n     <use style=\"fill:#67001f;stroke:#67001f;\" x=\"112.011497\" xlink:href=\"#C0_0_4cf6d3d649\" y=\"166.422687\"/>\n    </g>\n    <g clip-path=\"url(#p2255140cf3)\">\n     <use style=\"fill:#053061;stroke:#053061;\" x=\"248.110262\" xlink:href=\"#C0_0_4cf6d3d649\" y=\"135.39725\"/>\n    </g>\n    <g clip-path=\"url(#p2255140cf3)\">\n     <use style=\"fill:#67001f;stroke:#67001f;\" x=\"67.778516\" xlink:href=\"#C0_0_4cf6d3d649\" y=\"164.359459\"/>\n    </g>\n    <g clip-path=\"url(#p2255140cf3)\">\n     <use style=\"fill:#67001f;stroke:#67001f;\" x=\"114.979553\" xlink:href=\"#C0_0_4cf6d3d649\" y=\"156.487263\"/>\n    </g>\n    <g clip-path=\"url(#p2255140cf3)\">\n     <use style=\"fill:#053061;stroke:#053061;\" x=\"238.744503\" xlink:href=\"#C0_0_4cf6d3d649\" y=\"120.054411\"/>\n    </g>\n    <g clip-path=\"url(#p2255140cf3)\">\n     <use style=\"fill:#053061;stroke:#053061;\" x=\"234.799502\" xlink:href=\"#C0_0_4cf6d3d649\" y=\"100.209857\"/>\n    </g>\n    <g clip-path=\"url(#p2255140cf3)\">\n     <use style=\"fill:#67001f;stroke:#67001f;\" x=\"147.652085\" xlink:href=\"#C0_0_4cf6d3d649\" y=\"165.647835\"/>\n    </g>\n    <g clip-path=\"url(#p2255140cf3)\">\n     <use style=\"fill:#053061;stroke:#053061;\" x=\"214.221583\" xlink:href=\"#C0_0_4cf6d3d649\" y=\"79.991762\"/>\n    </g>\n    <g clip-path=\"url(#p2255140cf3)\">\n     <use style=\"fill:#053061;stroke:#053061;\" x=\"189.314379\" xlink:href=\"#C0_0_4cf6d3d649\" y=\"91.66591\"/>\n    </g>\n    <g clip-path=\"url(#p2255140cf3)\">\n     <use style=\"fill:#053061;stroke:#053061;\" x=\"178.470699\" xlink:href=\"#C0_0_4cf6d3d649\" y=\"141.71885\"/>\n    </g>\n    <g clip-path=\"url(#p2255140cf3)\">\n     <use style=\"fill:#67001f;stroke:#67001f;\" x=\"121.771184\" xlink:href=\"#C0_0_4cf6d3d649\" y=\"168.083913\"/>\n    </g>\n    <g clip-path=\"url(#p2255140cf3)\">\n     <use style=\"fill:#053061;stroke:#053061;\" x=\"305.026733\" xlink:href=\"#C0_0_4cf6d3d649\" y=\"80.966529\"/>\n    </g>\n    <g clip-path=\"url(#p2255140cf3)\">\n     <use style=\"fill:#67001f;stroke:#67001f;\" x=\"120.693784\" xlink:href=\"#C0_0_4cf6d3d649\" y=\"167.72173\"/>\n    </g>\n    <g clip-path=\"url(#p2255140cf3)\">\n     <use style=\"fill:#67001f;stroke:#67001f;\" x=\"170.106542\" xlink:href=\"#C0_0_4cf6d3d649\" y=\"173.280847\"/>\n    </g>\n    <g clip-path=\"url(#p2255140cf3)\">\n     <use style=\"fill:#67001f;stroke:#67001f;\" x=\"145.36965\" xlink:href=\"#C0_0_4cf6d3d649\" y=\"151.973221\"/>\n    </g>\n    <g clip-path=\"url(#p2255140cf3)\">\n     <use style=\"fill:#053061;stroke:#053061;\" x=\"195.36859\" xlink:href=\"#C0_0_4cf6d3d649\" y=\"112.040577\"/>\n    </g>\n    <g clip-path=\"url(#p2255140cf3)\">\n     <use style=\"fill:#67001f;stroke:#67001f;\" x=\"86.049877\" xlink:href=\"#C0_0_4cf6d3d649\" y=\"145.894148\"/>\n    </g>\n    <g clip-path=\"url(#p2255140cf3)\">\n     <use style=\"fill:#67001f;stroke:#67001f;\" x=\"137.288693\" xlink:href=\"#C0_0_4cf6d3d649\" y=\"203.580974\"/>\n    </g>\n    <g clip-path=\"url(#p2255140cf3)\">\n     <use style=\"fill:#053061;stroke:#053061;\" x=\"211.785003\" xlink:href=\"#C0_0_4cf6d3d649\" y=\"110.566523\"/>\n    </g>\n    <g clip-path=\"url(#p2255140cf3)\">\n     <use style=\"fill:#053061;stroke:#053061;\" x=\"181.823488\" xlink:href=\"#C0_0_4cf6d3d649\" y=\"105.291932\"/>\n    </g>\n    <g clip-path=\"url(#p2255140cf3)\">\n     <use style=\"fill:#67001f;stroke:#67001f;\" x=\"102.811207\" xlink:href=\"#C0_0_4cf6d3d649\" y=\"135.077494\"/>\n    </g>\n    <g clip-path=\"url(#p2255140cf3)\">\n     <use style=\"fill:#053061;stroke:#053061;\" x=\"240.776502\" xlink:href=\"#C0_0_4cf6d3d649\" y=\"87.735889\"/>\n    </g>\n    <g clip-path=\"url(#p2255140cf3)\">\n     <use style=\"fill:#053061;stroke:#053061;\" x=\"186.107646\" xlink:href=\"#C0_0_4cf6d3d649\" y=\"81.617078\"/>\n    </g>\n    <g clip-path=\"url(#p2255140cf3)\">\n     <use style=\"fill:#053061;stroke:#053061;\" x=\"189.283301\" xlink:href=\"#C0_0_4cf6d3d649\" y=\"114.357424\"/>\n    </g>\n    <g clip-path=\"url(#p2255140cf3)\">\n     <use style=\"fill:#67001f;stroke:#67001f;\" x=\"132.71103\" xlink:href=\"#C0_0_4cf6d3d649\" y=\"188.844358\"/>\n    </g>\n    <g clip-path=\"url(#p2255140cf3)\">\n     <use style=\"fill:#053061;stroke:#053061;\" x=\"222.299912\" xlink:href=\"#C0_0_4cf6d3d649\" y=\"85.231393\"/>\n    </g>\n    <g clip-path=\"url(#p2255140cf3)\">\n     <use style=\"fill:#67001f;stroke:#67001f;\" x=\"120.626692\" xlink:href=\"#C0_0_4cf6d3d649\" y=\"169.235051\"/>\n    </g>\n    <g clip-path=\"url(#p2255140cf3)\">\n     <use style=\"fill:#67001f;stroke:#67001f;\" x=\"114.901526\" xlink:href=\"#C0_0_4cf6d3d649\" y=\"190.230839\"/>\n    </g>\n    <g clip-path=\"url(#p2255140cf3)\">\n     <use style=\"fill:#053061;stroke:#053061;\" x=\"180.15436\" xlink:href=\"#C0_0_4cf6d3d649\" y=\"83.444549\"/>\n    </g>\n    <g clip-path=\"url(#p2255140cf3)\">\n     <use style=\"fill:#67001f;stroke:#67001f;\" x=\"162.393576\" xlink:href=\"#C0_0_4cf6d3d649\" y=\"213.23029\"/>\n    </g>\n    <g clip-path=\"url(#p2255140cf3)\">\n     <use style=\"fill:#67001f;stroke:#67001f;\" x=\"108.596487\" xlink:href=\"#C0_0_4cf6d3d649\" y=\"169.714647\"/>\n    </g>\n    <g clip-path=\"url(#p2255140cf3)\">\n     <use style=\"fill:#053061;stroke:#053061;\" x=\"264.699798\" xlink:href=\"#C0_0_4cf6d3d649\" y=\"109.186087\"/>\n    </g>\n    <g clip-path=\"url(#p2255140cf3)\">\n     <use style=\"fill:#67001f;stroke:#67001f;\" x=\"126.653634\" xlink:href=\"#C0_0_4cf6d3d649\" y=\"168.138585\"/>\n    </g>\n    <g clip-path=\"url(#p2255140cf3)\">\n     <use style=\"fill:#67001f;stroke:#67001f;\" x=\"141.335421\" xlink:href=\"#C0_0_4cf6d3d649\" y=\"139.551145\"/>\n    </g>\n    <g clip-path=\"url(#p2255140cf3)\">\n     <use style=\"fill:#053061;stroke:#053061;\" x=\"266.031343\" xlink:href=\"#C0_0_4cf6d3d649\" y=\"108.818261\"/>\n    </g>\n    <g clip-path=\"url(#p2255140cf3)\">\n     <use style=\"fill:#053061;stroke:#053061;\" x=\"225.357759\" xlink:href=\"#C0_0_4cf6d3d649\" y=\"90.385947\"/>\n    </g>\n    <g clip-path=\"url(#p2255140cf3)\">\n     <use style=\"fill:#67001f;stroke:#67001f;\" x=\"142.988734\" xlink:href=\"#C0_0_4cf6d3d649\" y=\"141.167777\"/>\n    </g>\n    <g clip-path=\"url(#p2255140cf3)\">\n     <use style=\"fill:#053061;stroke:#053061;\" x=\"186.999127\" xlink:href=\"#C0_0_4cf6d3d649\" y=\"64.381022\"/>\n    </g>\n    <g clip-path=\"url(#p2255140cf3)\">\n     <use style=\"fill:#67001f;stroke:#67001f;\" x=\"82.637642\" xlink:href=\"#C0_0_4cf6d3d649\" y=\"132.158817\"/>\n    </g>\n    <g clip-path=\"url(#p2255140cf3)\">\n     <use style=\"fill:#67001f;stroke:#67001f;\" x=\"138.34947\" xlink:href=\"#C0_0_4cf6d3d649\" y=\"186.274877\"/>\n    </g>\n    <g clip-path=\"url(#p2255140cf3)\">\n     <use style=\"fill:#053061;stroke:#053061;\" x=\"223.757465\" xlink:href=\"#C0_0_4cf6d3d649\" y=\"89.276978\"/>\n    </g>\n   </g>\n   <g id=\"matplotlib.axis_1\">\n    <g id=\"xtick_1\">\n     <g id=\"line2d_1\">\n      <defs>\n       <path d=\"M 0 0 \nL 0 3.5 \n\" id=\"m50438aa60d\" style=\"stroke:#000000;stroke-width:0.8;\"/>\n      </defs>\n      <g>\n       <use style=\"stroke:#000000;stroke-width:0.8;\" x=\"44.216762\" xlink:href=\"#m50438aa60d\" y=\"239.758125\"/>\n      </g>\n     </g>\n     <g id=\"text_1\">\n      <!-- 0.0 -->\n      <g transform=\"translate(36.2652 254.356563)scale(0.1 -0.1)\">\n       <defs>\n        <path d=\"M 2034 4250 \nQ 1547 4250 1301 3770 \nQ 1056 3291 1056 2328 \nQ 1056 1369 1301 889 \nQ 1547 409 2034 409 \nQ 2525 409 2770 889 \nQ 3016 1369 3016 2328 \nQ 3016 3291 2770 3770 \nQ 2525 4250 2034 4250 \nz\nM 2034 4750 \nQ 2819 4750 3233 4129 \nQ 3647 3509 3647 2328 \nQ 3647 1150 3233 529 \nQ 2819 -91 2034 -91 \nQ 1250 -91 836 529 \nQ 422 1150 422 2328 \nQ 422 3509 836 4129 \nQ 1250 4750 2034 4750 \nz\n\" id=\"DejaVuSans-30\" transform=\"scale(0.015625)\"/>\n        <path d=\"M 684 794 \nL 1344 794 \nL 1344 0 \nL 684 0 \nL 684 794 \nz\n\" id=\"DejaVuSans-2e\" transform=\"scale(0.015625)\"/>\n       </defs>\n       <use xlink:href=\"#DejaVuSans-30\"/>\n       <use x=\"63.623047\" xlink:href=\"#DejaVuSans-2e\"/>\n       <use x=\"95.410156\" xlink:href=\"#DejaVuSans-30\"/>\n      </g>\n     </g>\n    </g>\n    <g id=\"xtick_2\">\n     <g id=\"line2d_2\">\n      <g>\n       <use style=\"stroke:#000000;stroke-width:0.8;\" x=\"87.919284\" xlink:href=\"#m50438aa60d\" y=\"239.758125\"/>\n      </g>\n     </g>\n     <g id=\"text_2\">\n      <!-- 2.5 -->\n      <g transform=\"translate(79.967721 254.356563)scale(0.1 -0.1)\">\n       <defs>\n        <path d=\"M 1228 531 \nL 3431 531 \nL 3431 0 \nL 469 0 \nL 469 531 \nQ 828 903 1448 1529 \nQ 2069 2156 2228 2338 \nQ 2531 2678 2651 2914 \nQ 2772 3150 2772 3378 \nQ 2772 3750 2511 3984 \nQ 2250 4219 1831 4219 \nQ 1534 4219 1204 4116 \nQ 875 4013 500 3803 \nL 500 4441 \nQ 881 4594 1212 4672 \nQ 1544 4750 1819 4750 \nQ 2544 4750 2975 4387 \nQ 3406 4025 3406 3419 \nQ 3406 3131 3298 2873 \nQ 3191 2616 2906 2266 \nQ 2828 2175 2409 1742 \nQ 1991 1309 1228 531 \nz\n\" id=\"DejaVuSans-32\" transform=\"scale(0.015625)\"/>\n        <path d=\"M 691 4666 \nL 3169 4666 \nL 3169 4134 \nL 1269 4134 \nL 1269 2991 \nQ 1406 3038 1543 3061 \nQ 1681 3084 1819 3084 \nQ 2600 3084 3056 2656 \nQ 3513 2228 3513 1497 \nQ 3513 744 3044 326 \nQ 2575 -91 1722 -91 \nQ 1428 -91 1123 -41 \nQ 819 9 494 109 \nL 494 744 \nQ 775 591 1075 516 \nQ 1375 441 1709 441 \nQ 2250 441 2565 725 \nQ 2881 1009 2881 1497 \nQ 2881 1984 2565 2268 \nQ 2250 2553 1709 2553 \nQ 1456 2553 1204 2497 \nQ 953 2441 691 2322 \nL 691 4666 \nz\n\" id=\"DejaVuSans-35\" transform=\"scale(0.015625)\"/>\n       </defs>\n       <use xlink:href=\"#DejaVuSans-32\"/>\n       <use x=\"63.623047\" xlink:href=\"#DejaVuSans-2e\"/>\n       <use x=\"95.410156\" xlink:href=\"#DejaVuSans-35\"/>\n      </g>\n     </g>\n    </g>\n    <g id=\"xtick_3\">\n     <g id=\"line2d_3\">\n      <g>\n       <use style=\"stroke:#000000;stroke-width:0.8;\" x=\"131.621805\" xlink:href=\"#m50438aa60d\" y=\"239.758125\"/>\n      </g>\n     </g>\n     <g id=\"text_3\">\n      <!-- 5.0 -->\n      <g transform=\"translate(123.670242 254.356563)scale(0.1 -0.1)\">\n       <use xlink:href=\"#DejaVuSans-35\"/>\n       <use x=\"63.623047\" xlink:href=\"#DejaVuSans-2e\"/>\n       <use x=\"95.410156\" xlink:href=\"#DejaVuSans-30\"/>\n      </g>\n     </g>\n    </g>\n    <g id=\"xtick_4\">\n     <g id=\"line2d_4\">\n      <g>\n       <use style=\"stroke:#000000;stroke-width:0.8;\" x=\"175.324326\" xlink:href=\"#m50438aa60d\" y=\"239.758125\"/>\n      </g>\n     </g>\n     <g id=\"text_4\">\n      <!-- 7.5 -->\n      <g transform=\"translate(167.372763 254.356563)scale(0.1 -0.1)\">\n       <defs>\n        <path d=\"M 525 4666 \nL 3525 4666 \nL 3525 4397 \nL 1831 0 \nL 1172 0 \nL 2766 4134 \nL 525 4134 \nL 525 4666 \nz\n\" id=\"DejaVuSans-37\" transform=\"scale(0.015625)\"/>\n       </defs>\n       <use xlink:href=\"#DejaVuSans-37\"/>\n       <use x=\"63.623047\" xlink:href=\"#DejaVuSans-2e\"/>\n       <use x=\"95.410156\" xlink:href=\"#DejaVuSans-35\"/>\n      </g>\n     </g>\n    </g>\n    <g id=\"xtick_5\">\n     <g id=\"line2d_5\">\n      <g>\n       <use style=\"stroke:#000000;stroke-width:0.8;\" x=\"219.026847\" xlink:href=\"#m50438aa60d\" y=\"239.758125\"/>\n      </g>\n     </g>\n     <g id=\"text_5\">\n      <!-- 10.0 -->\n      <g transform=\"translate(207.894035 254.356563)scale(0.1 -0.1)\">\n       <defs>\n        <path d=\"M 794 531 \nL 1825 531 \nL 1825 4091 \nL 703 3866 \nL 703 4441 \nL 1819 4666 \nL 2450 4666 \nL 2450 531 \nL 3481 531 \nL 3481 0 \nL 794 0 \nL 794 531 \nz\n\" id=\"DejaVuSans-31\" transform=\"scale(0.015625)\"/>\n       </defs>\n       <use xlink:href=\"#DejaVuSans-31\"/>\n       <use x=\"63.623047\" xlink:href=\"#DejaVuSans-30\"/>\n       <use x=\"127.246094\" xlink:href=\"#DejaVuSans-2e\"/>\n       <use x=\"159.033203\" xlink:href=\"#DejaVuSans-30\"/>\n      </g>\n     </g>\n    </g>\n    <g id=\"xtick_6\">\n     <g id=\"line2d_6\">\n      <g>\n       <use style=\"stroke:#000000;stroke-width:0.8;\" x=\"262.729368\" xlink:href=\"#m50438aa60d\" y=\"239.758125\"/>\n      </g>\n     </g>\n     <g id=\"text_6\">\n      <!-- 12.5 -->\n      <g transform=\"translate(251.596556 254.356563)scale(0.1 -0.1)\">\n       <use xlink:href=\"#DejaVuSans-31\"/>\n       <use x=\"63.623047\" xlink:href=\"#DejaVuSans-32\"/>\n       <use x=\"127.246094\" xlink:href=\"#DejaVuSans-2e\"/>\n       <use x=\"159.033203\" xlink:href=\"#DejaVuSans-35\"/>\n      </g>\n     </g>\n    </g>\n    <g id=\"xtick_7\">\n     <g id=\"line2d_7\">\n      <g>\n       <use style=\"stroke:#000000;stroke-width:0.8;\" x=\"306.43189\" xlink:href=\"#m50438aa60d\" y=\"239.758125\"/>\n      </g>\n     </g>\n     <g id=\"text_7\">\n      <!-- 15.0 -->\n      <g transform=\"translate(295.299077 254.356563)scale(0.1 -0.1)\">\n       <use xlink:href=\"#DejaVuSans-31\"/>\n       <use x=\"63.623047\" xlink:href=\"#DejaVuSans-35\"/>\n       <use x=\"127.246094\" xlink:href=\"#DejaVuSans-2e\"/>\n       <use x=\"159.033203\" xlink:href=\"#DejaVuSans-30\"/>\n      </g>\n     </g>\n    </g>\n    <g id=\"xtick_8\">\n     <g id=\"line2d_8\">\n      <g>\n       <use style=\"stroke:#000000;stroke-width:0.8;\" x=\"350.134411\" xlink:href=\"#m50438aa60d\" y=\"239.758125\"/>\n      </g>\n     </g>\n     <g id=\"text_8\">\n      <!-- 17.5 -->\n      <g transform=\"translate(339.001598 254.356563)scale(0.1 -0.1)\">\n       <use xlink:href=\"#DejaVuSans-31\"/>\n       <use x=\"63.623047\" xlink:href=\"#DejaVuSans-37\"/>\n       <use x=\"127.246094\" xlink:href=\"#DejaVuSans-2e\"/>\n       <use x=\"159.033203\" xlink:href=\"#DejaVuSans-35\"/>\n      </g>\n     </g>\n    </g>\n   </g>\n   <g id=\"matplotlib.axis_2\">\n    <g id=\"ytick_1\">\n     <g id=\"line2d_9\">\n      <defs>\n       <path d=\"M 0 0 \nL -3.5 0 \n\" id=\"mf3b39f88f4\" style=\"stroke:#000000;stroke-width:0.8;\"/>\n      </defs>\n      <g>\n       <use style=\"stroke:#000000;stroke-width:0.8;\" x=\"26.925\" xlink:href=\"#mf3b39f88f4\" y=\"232.921839\"/>\n      </g>\n     </g>\n     <g id=\"text_9\">\n      <!-- 0 -->\n      <g transform=\"translate(13.5625 236.721057)scale(0.1 -0.1)\">\n       <use xlink:href=\"#DejaVuSans-30\"/>\n      </g>\n     </g>\n    </g>\n    <g id=\"ytick_2\">\n     <g id=\"line2d_10\">\n      <g>\n       <use style=\"stroke:#000000;stroke-width:0.8;\" x=\"26.925\" xlink:href=\"#mf3b39f88f4\" y=\"206.394004\"/>\n      </g>\n     </g>\n     <g id=\"text_10\">\n      <!-- 2 -->\n      <g transform=\"translate(13.5625 210.193223)scale(0.1 -0.1)\">\n       <use xlink:href=\"#DejaVuSans-32\"/>\n      </g>\n     </g>\n    </g>\n    <g id=\"ytick_3\">\n     <g id=\"line2d_11\">\n      <g>\n       <use style=\"stroke:#000000;stroke-width:0.8;\" x=\"26.925\" xlink:href=\"#mf3b39f88f4\" y=\"179.866169\"/>\n      </g>\n     </g>\n     <g id=\"text_11\">\n      <!-- 4 -->\n      <g transform=\"translate(13.5625 183.665388)scale(0.1 -0.1)\">\n       <defs>\n        <path d=\"M 2419 4116 \nL 825 1625 \nL 2419 1625 \nL 2419 4116 \nz\nM 2253 4666 \nL 3047 4666 \nL 3047 1625 \nL 3713 1625 \nL 3713 1100 \nL 3047 1100 \nL 3047 0 \nL 2419 0 \nL 2419 1100 \nL 313 1100 \nL 313 1709 \nL 2253 4666 \nz\n\" id=\"DejaVuSans-34\" transform=\"scale(0.015625)\"/>\n       </defs>\n       <use xlink:href=\"#DejaVuSans-34\"/>\n      </g>\n     </g>\n    </g>\n    <g id=\"ytick_4\">\n     <g id=\"line2d_12\">\n      <g>\n       <use style=\"stroke:#000000;stroke-width:0.8;\" x=\"26.925\" xlink:href=\"#mf3b39f88f4\" y=\"153.338335\"/>\n      </g>\n     </g>\n     <g id=\"text_12\">\n      <!-- 6 -->\n      <g transform=\"translate(13.5625 157.137554)scale(0.1 -0.1)\">\n       <defs>\n        <path d=\"M 2113 2584 \nQ 1688 2584 1439 2293 \nQ 1191 2003 1191 1497 \nQ 1191 994 1439 701 \nQ 1688 409 2113 409 \nQ 2538 409 2786 701 \nQ 3034 994 3034 1497 \nQ 3034 2003 2786 2293 \nQ 2538 2584 2113 2584 \nz\nM 3366 4563 \nL 3366 3988 \nQ 3128 4100 2886 4159 \nQ 2644 4219 2406 4219 \nQ 1781 4219 1451 3797 \nQ 1122 3375 1075 2522 \nQ 1259 2794 1537 2939 \nQ 1816 3084 2150 3084 \nQ 2853 3084 3261 2657 \nQ 3669 2231 3669 1497 \nQ 3669 778 3244 343 \nQ 2819 -91 2113 -91 \nQ 1303 -91 875 529 \nQ 447 1150 447 2328 \nQ 447 3434 972 4092 \nQ 1497 4750 2381 4750 \nQ 2619 4750 2861 4703 \nQ 3103 4656 3366 4563 \nz\n\" id=\"DejaVuSans-36\" transform=\"scale(0.015625)\"/>\n       </defs>\n       <use xlink:href=\"#DejaVuSans-36\"/>\n      </g>\n     </g>\n    </g>\n    <g id=\"ytick_5\">\n     <g id=\"line2d_13\">\n      <g>\n       <use style=\"stroke:#000000;stroke-width:0.8;\" x=\"26.925\" xlink:href=\"#mf3b39f88f4\" y=\"126.8105\"/>\n      </g>\n     </g>\n     <g id=\"text_13\">\n      <!-- 8 -->\n      <g transform=\"translate(13.5625 130.609719)scale(0.1 -0.1)\">\n       <defs>\n        <path d=\"M 2034 2216 \nQ 1584 2216 1326 1975 \nQ 1069 1734 1069 1313 \nQ 1069 891 1326 650 \nQ 1584 409 2034 409 \nQ 2484 409 2743 651 \nQ 3003 894 3003 1313 \nQ 3003 1734 2745 1975 \nQ 2488 2216 2034 2216 \nz\nM 1403 2484 \nQ 997 2584 770 2862 \nQ 544 3141 544 3541 \nQ 544 4100 942 4425 \nQ 1341 4750 2034 4750 \nQ 2731 4750 3128 4425 \nQ 3525 4100 3525 3541 \nQ 3525 3141 3298 2862 \nQ 3072 2584 2669 2484 \nQ 3125 2378 3379 2068 \nQ 3634 1759 3634 1313 \nQ 3634 634 3220 271 \nQ 2806 -91 2034 -91 \nQ 1263 -91 848 271 \nQ 434 634 434 1313 \nQ 434 1759 690 2068 \nQ 947 2378 1403 2484 \nz\nM 1172 3481 \nQ 1172 3119 1398 2916 \nQ 1625 2713 2034 2713 \nQ 2441 2713 2670 2916 \nQ 2900 3119 2900 3481 \nQ 2900 3844 2670 4047 \nQ 2441 4250 2034 4250 \nQ 1625 4250 1398 4047 \nQ 1172 3844 1172 3481 \nz\n\" id=\"DejaVuSans-38\" transform=\"scale(0.015625)\"/>\n       </defs>\n       <use xlink:href=\"#DejaVuSans-38\"/>\n      </g>\n     </g>\n    </g>\n    <g id=\"ytick_6\">\n     <g id=\"line2d_14\">\n      <g>\n       <use style=\"stroke:#000000;stroke-width:0.8;\" x=\"26.925\" xlink:href=\"#mf3b39f88f4\" y=\"100.282666\"/>\n      </g>\n     </g>\n     <g id=\"text_14\">\n      <!-- 10 -->\n      <g transform=\"translate(7.2 104.081884)scale(0.1 -0.1)\">\n       <use xlink:href=\"#DejaVuSans-31\"/>\n       <use x=\"63.623047\" xlink:href=\"#DejaVuSans-30\"/>\n      </g>\n     </g>\n    </g>\n    <g id=\"ytick_7\">\n     <g id=\"line2d_15\">\n      <g>\n       <use style=\"stroke:#000000;stroke-width:0.8;\" x=\"26.925\" xlink:href=\"#mf3b39f88f4\" y=\"73.754831\"/>\n      </g>\n     </g>\n     <g id=\"text_15\">\n      <!-- 12 -->\n      <g transform=\"translate(7.2 77.55405)scale(0.1 -0.1)\">\n       <use xlink:href=\"#DejaVuSans-31\"/>\n       <use x=\"63.623047\" xlink:href=\"#DejaVuSans-32\"/>\n      </g>\n     </g>\n    </g>\n    <g id=\"ytick_8\">\n     <g id=\"line2d_16\">\n      <g>\n       <use style=\"stroke:#000000;stroke-width:0.8;\" x=\"26.925\" xlink:href=\"#mf3b39f88f4\" y=\"47.226996\"/>\n      </g>\n     </g>\n     <g id=\"text_16\">\n      <!-- 14 -->\n      <g transform=\"translate(7.2 51.026215)scale(0.1 -0.1)\">\n       <use xlink:href=\"#DejaVuSans-31\"/>\n       <use x=\"63.623047\" xlink:href=\"#DejaVuSans-34\"/>\n      </g>\n     </g>\n    </g>\n   </g>\n   <g id=\"LineCollection_1\">\n    <path clip-path=\"url(#p2255140cf3)\" d=\"M 112.043644 228.691062 \nL 117.71822 229.444722 \nL 123.392797 229.705025 \nL 129.067373 229.512534 \nL 134.741949 228.837328 \nL 135.879666 228.607356 \nL 140.416525 228.088941 \nL 146.091102 227.051694 \nL 151.765678 225.417398 \nL 157.124237 223.031971 \nL 157.440254 222.932117 \nL 163.114831 220.713595 \nL 168.365651 217.456587 \nL 168.789407 217.233431 \nL 174.463983 213.632495 \nL 176.62562 211.881202 \nL 180.138559 208.984161 \nL 182.940702 206.305817 \nL 185.813136 203.108801 \nL 187.908484 200.730433 \nL 191.487712 195.291591 \nL 191.587692 195.155048 \nL 195.065468 189.579663 \nL 197.107718 184.004279 \nL 197.162288 183.795724 \nL 199.193366 178.428894 \nL 200.380408 172.85351 \nL 200.902111 167.278125 \nL 200.871865 161.70274 \nL 200.283229 156.127356 \nL 199.0076 150.551971 \nL 197.162288 145.838401 \nL 196.927208 144.976587 \nL 194.760161 139.401202 \nL 191.487712 134.295485 \nL 191.233127 133.825817 \nL 187.347914 128.250433 \nL 185.813136 126.530091 \nL 182.278486 122.675048 \nL 180.138559 120.651203 \nL 175.752355 117.099663 \nL 174.463983 116.065281 \nL 168.789407 112.254396 \nL 167.379482 111.524279 \nL 163.114831 108.899669 \nL 157.440254 106.530707 \nL 155.570023 105.948894 \nL 151.765678 104.26694 \nL 146.091102 102.506545 \nL 140.416525 101.389266 \nL 134.741949 100.706921 \nL 129.574466 100.37351 \nL 129.067373 100.312121 \nL 123.392797 100.102997 \nL 117.957942 100.37351 \nL 117.71822 100.379602 \nL 112.043644 100.785742 \nL 106.369068 101.523362 \nL 100.694492 102.719806 \nL 95.019915 104.601325 \nL 92.042236 105.948894 \nL 89.345339 106.814115 \nL 83.670763 109.358371 \nL 80.208114 111.524279 \nL 77.996186 112.697158 \nL 72.32161 116.82954 \nL 71.98922 117.099663 \nL 66.647034 121.510856 \nL 65.429157 122.675048 \nL 60.972458 127.6247 \nL 60.419495 128.250433 \nL 56.242346 133.825817 \nL 55.297881 135.59798 \nL 52.880879 139.401202 \nL 50.531232 144.976587 \nL 49.623305 148.358596 \nL 48.771168 150.551971 \nL 47.376531 156.127356 \nL 46.732978 161.70274 \nL 46.69991 167.278125 \nL 47.270286 172.85351 \nL 48.568072 178.428894 \nL 49.623305 181.238614 \nL 50.335512 184.004279 \nL 52.549846 189.579663 \nL 55.297881 193.986353 \nL 55.904352 195.155048 \nL 59.816804 200.730433 \nL 60.972458 202.054698 \nL 64.723309 206.305817 \nL 66.647034 208.164314 \nL 71.066668 211.881202 \nL 72.32161 212.91034 \nL 77.996186 216.815062 \nL 79.185884 217.456587 \nL 83.670763 220.284023 \nL 89.345339 222.666707 \nL 90.466262 223.031971 \nL 95.019915 225.106965 \nL 100.694492 226.853709 \nL 106.369068 227.96445 \nL 111.651906 228.607356 \nL 112.043644 228.691062 \n\" style=\"fill:none;stroke:#ff0000;stroke-opacity:0.2;stroke-width:1.5;\"/>\n   </g>\n   <g id=\"LineCollection_2\">\n    <path clip-path=\"url(#p2255140cf3)\" d=\"M 106.369068 208.33242 \nL 112.043644 209.700343 \nL 117.71822 210.453534 \nL 123.392797 210.713675 \nL 129.067373 210.521304 \nL 134.741949 209.846518 \nL 140.416525 208.581103 \nL 146.091102 206.509099 \nL 146.525905 206.305817 \nL 151.765678 204.197128 \nL 157.354478 200.730433 \nL 157.440254 200.677778 \nL 163.114831 196.421816 \nL 164.497685 195.155048 \nL 168.789407 190.414411 \nL 169.495616 189.579663 \nL 173.215501 184.004279 \nL 174.463983 181.104337 \nL 175.78058 178.428894 \nL 177.489316 172.85351 \nL 178.240304 167.278125 \nL 178.196764 161.70274 \nL 177.349428 156.127356 \nL 175.513173 150.551971 \nL 174.463983 148.490935 \nL 172.886708 144.976587 \nL 168.93951 139.401202 \nL 168.789407 139.227103 \nL 163.767531 133.825817 \nL 163.114831 133.236928 \nL 157.440254 128.86304 \nL 156.41914 128.250433 \nL 151.765678 125.399942 \nL 146.091102 123.064821 \nL 144.780585 122.675048 \nL 140.416525 121.073831 \nL 134.741949 119.746976 \nL 129.067373 119.039428 \nL 123.392797 118.837716 \nL 117.71822 119.110488 \nL 112.043644 119.900248 \nL 106.369068 121.334588 \nL 102.854227 122.675048 \nL 100.694492 123.347706 \nL 95.019915 125.843496 \nL 91.181231 128.250433 \nL 89.345339 129.386304 \nL 83.898129 133.825817 \nL 83.670763 134.037441 \nL 78.627992 139.401202 \nL 77.996186 140.300409 \nL 74.701305 144.976587 \nL 72.32161 150.393478 \nL 72.241901 150.551971 \nL 70.302007 156.127356 \nL 69.406848 161.70274 \nL 69.360851 167.278125 \nL 70.154224 172.85351 \nL 71.959402 178.428894 \nL 72.32161 179.173926 \nL 74.357153 184.004279 \nL 77.996186 189.297057 \nL 78.188452 189.579663 \nL 83.195291 195.155048 \nL 83.670763 195.597734 \nL 89.345339 200.168622 \nL 90.232798 200.730433 \nL 95.019915 203.769988 \nL 100.694492 206.173421 \nL 101.111043 206.305817 \nL 106.369068 208.33242 \n\" style=\"fill:none;stroke:#ff0000;stroke-opacity:0.2;stroke-width:1.5;\"/>\n   </g>\n   <g id=\"LineCollection_3\">\n    <path clip-path=\"url(#p2255140cf3)\" d=\"M 123.392797 189.892183 \nL 127.700019 189.579663 \nL 129.067373 189.4858 \nL 134.741949 188.141431 \nL 140.416525 185.620354 \nL 142.875134 184.004279 \nL 146.091102 181.342968 \nL 148.803581 178.428894 \nL 151.765678 173.330016 \nL 152.018694 172.85351 \nL 153.489377 167.278125 \nL 153.404112 161.70274 \nL 151.765678 156.192825 \nL 151.745635 156.127356 \nL 148.302114 150.551971 \nL 146.091102 148.255749 \nL 141.960165 144.976587 \nL 140.416525 143.986504 \nL 134.741949 141.458987 \nL 129.067373 140.111184 \nL 123.392797 139.726944 \nL 117.71822 140.246545 \nL 112.043644 141.750954 \nL 106.369068 144.483219 \nL 105.629025 144.976587 \nL 100.694492 149.078482 \nL 99.31664 150.551971 \nL 95.871374 156.127356 \nL 95.019915 159.012739 \nL 94.238472 161.70274 \nL 94.152013 167.278125 \nL 95.019915 170.61017 \nL 95.608911 172.85351 \nL 98.814919 178.428894 \nL 100.694492 180.508183 \nL 104.728856 184.004279 \nL 106.369068 185.124905 \nL 112.043644 187.850208 \nL 117.71822 189.350784 \nL 120.183832 189.579663 \nL 123.392797 189.892183 \n\" style=\"fill:none;stroke:#ff0000;stroke-opacity:0.2;stroke-width:1.5;\"/>\n   </g>\n   <g id=\"LineCollection_4\">\n    <path clip-path=\"url(#p2255140cf3)\" d=\"M 117.71822 173.071614 \nL 123.392797 174.338851 \nL 129.067373 173.401742 \nL 130.071787 172.85351 \nL 134.741949 167.740674 \nL 134.998348 167.278125 \nL 134.80819 161.70274 \nL 134.741949 161.595592 \nL 129.128098 156.127356 \nL 129.067373 156.09591 \nL 123.392797 155.196484 \nL 119.020564 156.127356 \nL 117.71822 156.627014 \nL 112.982545 161.70274 \nL 112.713453 167.278125 \nL 117.354855 172.85351 \nL 117.71822 173.071614 \n\" style=\"fill:none;stroke:#ff0000;stroke-opacity:0.2;stroke-width:1.5;\"/>\n   </g>\n   <g id=\"LineCollection_5\">\n    <path clip-path=\"url(#p2255140cf3)\" d=\"M 202.836864 157.180368 \nL 208.511441 158.035724 \nL 214.186017 158.586947 \nL 219.860593 158.88987 \nL 225.535169 158.974011 \nL 231.209746 158.847417 \nL 236.884322 158.497956 \nL 242.558898 157.891363 \nL 248.233475 156.965582 \nL 251.957021 156.127356 \nL 253.908051 155.884117 \nL 259.582627 154.962264 \nL 265.257203 153.646383 \nL 270.93178 151.752626 \nL 273.777062 150.551971 \nL 276.606356 149.729265 \nL 282.280932 147.568256 \nL 287.050846 144.976587 \nL 287.955508 144.579674 \nL 293.630085 141.635709 \nL 296.898223 139.401202 \nL 299.304661 137.83835 \nL 304.280693 133.825817 \nL 304.979237 133.212358 \nL 310.107968 128.250433 \nL 310.653814 127.585003 \nL 314.771262 122.675048 \nL 316.32839 119.924912 \nL 318.169109 117.099663 \nL 320.545561 111.524279 \nL 321.777108 105.948894 \nL 322.002966 103.095277 \nL 322.332167 100.37351 \nL 322.002966 95.920432 \nL 321.94977 94.798125 \nL 320.936654 89.22274 \nL 318.890983 83.647356 \nL 316.32839 79.468313 \nL 315.599319 78.071971 \nL 311.33861 72.496587 \nL 310.653814 71.773745 \nL 305.866836 66.921202 \nL 304.979237 66.141963 \nL 299.304661 61.703837 \nL 298.779742 61.345817 \nL 293.630085 57.740574 \nL 289.768165 55.770433 \nL 287.955508 54.687039 \nL 282.280932 51.847844 \nL 277.46995 50.195048 \nL 276.606356 49.787395 \nL 270.93178 47.447981 \nL 265.257203 45.844937 \nL 259.582627 44.731057 \nL 258.886927 44.619663 \nL 253.908051 43.255937 \nL 248.233475 42.142591 \nL 242.558898 41.376546 \nL 236.884322 40.874617 \nL 231.209746 40.585453 \nL 225.535169 40.480701 \nL 219.860593 40.550325 \nL 214.186017 40.800981 \nL 208.511441 41.257094 \nL 202.836864 41.964864 \nL 197.162288 43.000146 \nL 191.487712 44.482089 \nL 191.042858 44.619663 \nL 185.813136 45.589115 \nL 180.138559 47.078181 \nL 174.463983 49.244442 \nL 172.413444 50.195048 \nL 168.789407 51.410142 \nL 163.114831 54.018041 \nL 160.140202 55.770433 \nL 157.440254 57.119573 \nL 151.765678 60.895923 \nL 151.154325 61.345817 \nL 146.091102 65.067915 \nL 143.956976 66.921202 \nL 140.416525 70.449093 \nL 138.457264 72.496587 \nL 134.741949 77.666996 \nL 134.429593 78.071971 \nL 131.055277 83.647356 \nL 129.187454 89.22274 \nL 129.067373 89.877555 \nL 127.780987 94.798125 \nL 127.404864 100.37351 \nL 128.032926 105.948894 \nL 129.067373 109.33958 \nL 129.544546 111.524279 \nL 131.714392 117.099663 \nL 134.741949 121.703734 \nL 135.300936 122.675048 \nL 139.839824 128.250433 \nL 140.416525 128.832192 \nL 145.715115 133.825817 \nL 146.091102 134.14313 \nL 151.765678 138.556053 \nL 153.092417 139.401202 \nL 157.440254 142.33533 \nL 162.964172 144.976587 \nL 163.114831 145.063589 \nL 168.789407 148.073417 \nL 174.463983 150.066882 \nL 176.177514 150.551971 \nL 180.138559 152.18949 \nL 185.813136 153.948597 \nL 191.487712 155.173581 \nL 197.162288 156.032344 \nL 197.961572 156.127356 \nL 202.836864 157.180368 \n\" style=\"fill:none;stroke:#0000ff;stroke-opacity:0.2;stroke-width:1.5;\"/>\n   </g>\n   <g id=\"LineCollection_6\">\n    <path clip-path=\"url(#p2255140cf3)\" d=\"M 208.511441 140.169454 \nL 214.186017 140.975458 \nL 219.860593 141.418396 \nL 225.535169 141.541429 \nL 231.209746 141.356321 \nL 236.884322 140.845334 \nL 242.558898 139.958367 \nL 245.050863 139.401202 \nL 248.233475 138.891337 \nL 253.908051 137.631972 \nL 259.582627 135.832516 \nL 264.204688 133.825817 \nL 265.257203 133.426143 \nL 270.93178 130.796779 \nL 275.022378 128.250433 \nL 276.606356 127.220876 \nL 282.280284 122.675048 \nL 282.280932 122.67441 \nL 287.493314 117.099663 \nL 287.955508 116.363858 \nL 291.116623 111.524279 \nL 293.064406 105.948894 \nL 293.630085 101.357165 \nL 293.784702 100.37351 \nL 293.630085 98.764154 \nL 293.337483 94.798125 \nL 291.735166 89.22274 \nL 288.499786 83.647356 \nL 287.955508 82.980425 \nL 283.854692 78.071971 \nL 282.280932 76.636958 \nL 277.023422 72.496587 \nL 276.606356 72.200808 \nL 270.93178 68.611326 \nL 267.334979 66.921202 \nL 265.257203 65.868337 \nL 259.582627 63.529921 \nL 253.908051 61.89172 \nL 251.409034 61.345817 \nL 248.233475 60.430994 \nL 242.558898 59.229425 \nL 236.884322 58.442131 \nL 231.209746 57.988567 \nL 225.535169 57.82426 \nL 219.860593 57.933467 \nL 214.186017 58.32663 \nL 208.511441 59.04206 \nL 202.836864 60.152224 \nL 198.518581 61.345817 \nL 197.162288 61.62831 \nL 191.487712 63.154394 \nL 185.813136 65.33128 \nL 182.600409 66.921202 \nL 180.138559 68.043923 \nL 174.463983 71.367727 \nL 172.843195 72.496587 \nL 168.789407 75.612261 \nL 166.048141 78.071971 \nL 163.114831 81.505398 \nL 161.341366 83.647356 \nL 158.277441 89.22274 \nL 157.440254 92.140561 \nL 156.533283 94.798125 \nL 156.018507 100.37351 \nL 156.878096 105.948894 \nL 157.440254 107.360404 \nL 158.863204 111.524279 \nL 162.422559 117.099663 \nL 163.114831 117.886594 \nL 167.551095 122.675048 \nL 168.789407 123.737149 \nL 174.463983 127.931185 \nL 174.968486 128.250433 \nL 180.138559 131.403337 \nL 185.754869 133.825817 \nL 185.813136 133.85384 \nL 191.487712 136.245007 \nL 197.162288 137.921311 \nL 202.836864 139.092373 \nL 204.884481 139.401202 \nL 208.511441 140.169454 \n\" style=\"fill:none;stroke:#0000ff;stroke-opacity:0.2;stroke-width:1.5;\"/>\n   </g>\n   <g id=\"LineCollection_7\">\n    <path clip-path=\"url(#p2255140cf3)\" d=\"M 202.836864 118.156524 \nL 208.511441 120.21988 \nL 214.186017 121.549581 \nL 219.860593 122.280316 \nL 225.535169 122.483288 \nL 231.209746 122.177907 \nL 236.884322 121.33491 \nL 242.558898 119.871641 \nL 248.233475 117.6384 \nL 249.294055 117.099663 \nL 253.908051 114.208735 \nL 257.228363 111.524279 \nL 259.582627 108.446454 \nL 261.296875 105.948894 \nL 262.740738 100.37351 \nL 261.876062 94.798125 \nL 259.582627 90.898762 \nL 258.506254 89.22274 \nL 253.908051 85.160478 \nL 251.742603 83.647356 \nL 248.233475 81.753442 \nL 242.558898 79.521551 \nL 236.938185 78.071971 \nL 236.884322 78.058375 \nL 231.209746 77.163825 \nL 225.535169 76.839768 \nL 219.860593 77.055154 \nL 214.186017 77.830576 \nL 213.153219 78.071971 \nL 208.511441 79.173523 \nL 202.836864 81.235631 \nL 198.17952 83.647356 \nL 197.162288 84.325082 \nL 191.487712 89.165011 \nL 191.429837 89.22274 \nL 188.064654 94.798125 \nL 187.208445 100.37351 \nL 188.638171 105.948894 \nL 191.487712 109.986938 \nL 192.711117 111.524279 \nL 197.162288 115.005109 \nL 200.66838 117.099663 \nL 202.836864 118.156524 \n\" style=\"fill:none;stroke:#0000ff;stroke-opacity:0.2;stroke-width:1.5;\"/>\n   </g>\n   <g id=\"LineCollection_8\">\n    <path clip-path=\"url(#p2255140cf3)\" d=\"M 219.860593 107.700399 \nL 225.535169 108.229809 \nL 231.209746 107.43329 \nL 235.102485 105.948894 \nL 236.884322 104.25233 \nL 239.426416 100.37351 \nL 237.202868 94.798125 \nL 236.884322 94.571316 \nL 231.209746 92.057223 \nL 225.535169 91.146476 \nL 219.860593 91.751807 \nL 214.186017 93.931098 \nL 212.870928 94.798125 \nL 210.499463 100.37351 \nL 214.186017 105.582079 \nL 214.62768 105.948894 \nL 219.860593 107.700399 \n\" style=\"fill:none;stroke:#0000ff;stroke-opacity:0.2;stroke-width:1.5;\"/>\n   </g>\n   <g id=\"patch_3\">\n    <path d=\"M 26.925 239.758125 \nL 26.925 22.318125 \n\" style=\"fill:none;stroke:#000000;stroke-linecap:square;stroke-linejoin:miter;stroke-width:0.8;\"/>\n   </g>\n   <g id=\"patch_4\">\n    <path d=\"M 361.725 239.758125 \nL 361.725 22.318125 \n\" style=\"fill:none;stroke:#000000;stroke-linecap:square;stroke-linejoin:miter;stroke-width:0.8;\"/>\n   </g>\n   <g id=\"patch_5\">\n    <path d=\"M 26.925 239.758125 \nL 361.725 239.758125 \n\" style=\"fill:none;stroke:#000000;stroke-linecap:square;stroke-linejoin:miter;stroke-width:0.8;\"/>\n   </g>\n   <g id=\"patch_6\">\n    <path d=\"M 26.925 22.318125 \nL 361.725 22.318125 \n\" style=\"fill:none;stroke:#000000;stroke-linecap:square;stroke-linejoin:miter;stroke-width:0.8;\"/>\n   </g>\n   <g id=\"text_17\">\n    <!-- Gaussian distribution of data -->\n    <g transform=\"translate(107.588438 16.318125)scale(0.12 -0.12)\">\n     <defs>\n      <path d=\"M 3809 666 \nL 3809 1919 \nL 2778 1919 \nL 2778 2438 \nL 4434 2438 \nL 4434 434 \nQ 4069 175 3628 42 \nQ 3188 -91 2688 -91 \nQ 1594 -91 976 548 \nQ 359 1188 359 2328 \nQ 359 3472 976 4111 \nQ 1594 4750 2688 4750 \nQ 3144 4750 3555 4637 \nQ 3966 4525 4313 4306 \nL 4313 3634 \nQ 3963 3931 3569 4081 \nQ 3175 4231 2741 4231 \nQ 1884 4231 1454 3753 \nQ 1025 3275 1025 2328 \nQ 1025 1384 1454 906 \nQ 1884 428 2741 428 \nQ 3075 428 3337 486 \nQ 3600 544 3809 666 \nz\n\" id=\"DejaVuSans-47\" transform=\"scale(0.015625)\"/>\n      <path d=\"M 2194 1759 \nQ 1497 1759 1228 1600 \nQ 959 1441 959 1056 \nQ 959 750 1161 570 \nQ 1363 391 1709 391 \nQ 2188 391 2477 730 \nQ 2766 1069 2766 1631 \nL 2766 1759 \nL 2194 1759 \nz\nM 3341 1997 \nL 3341 0 \nL 2766 0 \nL 2766 531 \nQ 2569 213 2275 61 \nQ 1981 -91 1556 -91 \nQ 1019 -91 701 211 \nQ 384 513 384 1019 \nQ 384 1609 779 1909 \nQ 1175 2209 1959 2209 \nL 2766 2209 \nL 2766 2266 \nQ 2766 2663 2505 2880 \nQ 2244 3097 1772 3097 \nQ 1472 3097 1187 3025 \nQ 903 2953 641 2809 \nL 641 3341 \nQ 956 3463 1253 3523 \nQ 1550 3584 1831 3584 \nQ 2591 3584 2966 3190 \nQ 3341 2797 3341 1997 \nz\n\" id=\"DejaVuSans-61\" transform=\"scale(0.015625)\"/>\n      <path d=\"M 544 1381 \nL 544 3500 \nL 1119 3500 \nL 1119 1403 \nQ 1119 906 1312 657 \nQ 1506 409 1894 409 \nQ 2359 409 2629 706 \nQ 2900 1003 2900 1516 \nL 2900 3500 \nL 3475 3500 \nL 3475 0 \nL 2900 0 \nL 2900 538 \nQ 2691 219 2414 64 \nQ 2138 -91 1772 -91 \nQ 1169 -91 856 284 \nQ 544 659 544 1381 \nz\nM 1991 3584 \nL 1991 3584 \nz\n\" id=\"DejaVuSans-75\" transform=\"scale(0.015625)\"/>\n      <path d=\"M 2834 3397 \nL 2834 2853 \nQ 2591 2978 2328 3040 \nQ 2066 3103 1784 3103 \nQ 1356 3103 1142 2972 \nQ 928 2841 928 2578 \nQ 928 2378 1081 2264 \nQ 1234 2150 1697 2047 \nL 1894 2003 \nQ 2506 1872 2764 1633 \nQ 3022 1394 3022 966 \nQ 3022 478 2636 193 \nQ 2250 -91 1575 -91 \nQ 1294 -91 989 -36 \nQ 684 19 347 128 \nL 347 722 \nQ 666 556 975 473 \nQ 1284 391 1588 391 \nQ 1994 391 2212 530 \nQ 2431 669 2431 922 \nQ 2431 1156 2273 1281 \nQ 2116 1406 1581 1522 \nL 1381 1569 \nQ 847 1681 609 1914 \nQ 372 2147 372 2553 \nQ 372 3047 722 3315 \nQ 1072 3584 1716 3584 \nQ 2034 3584 2315 3537 \nQ 2597 3491 2834 3397 \nz\n\" id=\"DejaVuSans-73\" transform=\"scale(0.015625)\"/>\n      <path d=\"M 603 3500 \nL 1178 3500 \nL 1178 0 \nL 603 0 \nL 603 3500 \nz\nM 603 4863 \nL 1178 4863 \nL 1178 4134 \nL 603 4134 \nL 603 4863 \nz\n\" id=\"DejaVuSans-69\" transform=\"scale(0.015625)\"/>\n      <path d=\"M 3513 2113 \nL 3513 0 \nL 2938 0 \nL 2938 2094 \nQ 2938 2591 2744 2837 \nQ 2550 3084 2163 3084 \nQ 1697 3084 1428 2787 \nQ 1159 2491 1159 1978 \nL 1159 0 \nL 581 0 \nL 581 3500 \nL 1159 3500 \nL 1159 2956 \nQ 1366 3272 1645 3428 \nQ 1925 3584 2291 3584 \nQ 2894 3584 3203 3211 \nQ 3513 2838 3513 2113 \nz\n\" id=\"DejaVuSans-6e\" transform=\"scale(0.015625)\"/>\n      <path id=\"DejaVuSans-20\" transform=\"scale(0.015625)\"/>\n      <path d=\"M 2906 2969 \nL 2906 4863 \nL 3481 4863 \nL 3481 0 \nL 2906 0 \nL 2906 525 \nQ 2725 213 2448 61 \nQ 2172 -91 1784 -91 \nQ 1150 -91 751 415 \nQ 353 922 353 1747 \nQ 353 2572 751 3078 \nQ 1150 3584 1784 3584 \nQ 2172 3584 2448 3432 \nQ 2725 3281 2906 2969 \nz\nM 947 1747 \nQ 947 1113 1208 752 \nQ 1469 391 1925 391 \nQ 2381 391 2643 752 \nQ 2906 1113 2906 1747 \nQ 2906 2381 2643 2742 \nQ 2381 3103 1925 3103 \nQ 1469 3103 1208 2742 \nQ 947 2381 947 1747 \nz\n\" id=\"DejaVuSans-64\" transform=\"scale(0.015625)\"/>\n      <path d=\"M 1172 4494 \nL 1172 3500 \nL 2356 3500 \nL 2356 3053 \nL 1172 3053 \nL 1172 1153 \nQ 1172 725 1289 603 \nQ 1406 481 1766 481 \nL 2356 481 \nL 2356 0 \nL 1766 0 \nQ 1100 0 847 248 \nQ 594 497 594 1153 \nL 594 3053 \nL 172 3053 \nL 172 3500 \nL 594 3500 \nL 594 4494 \nL 1172 4494 \nz\n\" id=\"DejaVuSans-74\" transform=\"scale(0.015625)\"/>\n      <path d=\"M 2631 2963 \nQ 2534 3019 2420 3045 \nQ 2306 3072 2169 3072 \nQ 1681 3072 1420 2755 \nQ 1159 2438 1159 1844 \nL 1159 0 \nL 581 0 \nL 581 3500 \nL 1159 3500 \nL 1159 2956 \nQ 1341 3275 1631 3429 \nQ 1922 3584 2338 3584 \nQ 2397 3584 2469 3576 \nQ 2541 3569 2628 3553 \nL 2631 2963 \nz\n\" id=\"DejaVuSans-72\" transform=\"scale(0.015625)\"/>\n      <path d=\"M 3116 1747 \nQ 3116 2381 2855 2742 \nQ 2594 3103 2138 3103 \nQ 1681 3103 1420 2742 \nQ 1159 2381 1159 1747 \nQ 1159 1113 1420 752 \nQ 1681 391 2138 391 \nQ 2594 391 2855 752 \nQ 3116 1113 3116 1747 \nz\nM 1159 2969 \nQ 1341 3281 1617 3432 \nQ 1894 3584 2278 3584 \nQ 2916 3584 3314 3078 \nQ 3713 2572 3713 1747 \nQ 3713 922 3314 415 \nQ 2916 -91 2278 -91 \nQ 1894 -91 1617 61 \nQ 1341 213 1159 525 \nL 1159 0 \nL 581 0 \nL 581 4863 \nL 1159 4863 \nL 1159 2969 \nz\n\" id=\"DejaVuSans-62\" transform=\"scale(0.015625)\"/>\n      <path d=\"M 1959 3097 \nQ 1497 3097 1228 2736 \nQ 959 2375 959 1747 \nQ 959 1119 1226 758 \nQ 1494 397 1959 397 \nQ 2419 397 2687 759 \nQ 2956 1122 2956 1747 \nQ 2956 2369 2687 2733 \nQ 2419 3097 1959 3097 \nz\nM 1959 3584 \nQ 2709 3584 3137 3096 \nQ 3566 2609 3566 1747 \nQ 3566 888 3137 398 \nQ 2709 -91 1959 -91 \nQ 1206 -91 779 398 \nQ 353 888 353 1747 \nQ 353 2609 779 3096 \nQ 1206 3584 1959 3584 \nz\n\" id=\"DejaVuSans-6f\" transform=\"scale(0.015625)\"/>\n      <path d=\"M 2375 4863 \nL 2375 4384 \nL 1825 4384 \nQ 1516 4384 1395 4259 \nQ 1275 4134 1275 3809 \nL 1275 3500 \nL 2222 3500 \nL 2222 3053 \nL 1275 3053 \nL 1275 0 \nL 697 0 \nL 697 3053 \nL 147 3053 \nL 147 3500 \nL 697 3500 \nL 697 3744 \nQ 697 4328 969 4595 \nQ 1241 4863 1831 4863 \nL 2375 4863 \nz\n\" id=\"DejaVuSans-66\" transform=\"scale(0.015625)\"/>\n     </defs>\n     <use xlink:href=\"#DejaVuSans-47\"/>\n     <use x=\"77.490234\" xlink:href=\"#DejaVuSans-61\"/>\n     <use x=\"138.769531\" xlink:href=\"#DejaVuSans-75\"/>\n     <use x=\"202.148438\" xlink:href=\"#DejaVuSans-73\"/>\n     <use x=\"254.248047\" xlink:href=\"#DejaVuSans-73\"/>\n     <use x=\"306.347656\" xlink:href=\"#DejaVuSans-69\"/>\n     <use x=\"334.130859\" xlink:href=\"#DejaVuSans-61\"/>\n     <use x=\"395.410156\" xlink:href=\"#DejaVuSans-6e\"/>\n     <use x=\"458.789062\" xlink:href=\"#DejaVuSans-20\"/>\n     <use x=\"490.576172\" xlink:href=\"#DejaVuSans-64\"/>\n     <use x=\"554.052734\" xlink:href=\"#DejaVuSans-69\"/>\n     <use x=\"581.835938\" xlink:href=\"#DejaVuSans-73\"/>\n     <use x=\"633.935547\" xlink:href=\"#DejaVuSans-74\"/>\n     <use x=\"673.144531\" xlink:href=\"#DejaVuSans-72\"/>\n     <use x=\"714.257812\" xlink:href=\"#DejaVuSans-69\"/>\n     <use x=\"742.041016\" xlink:href=\"#DejaVuSans-62\"/>\n     <use x=\"805.517578\" xlink:href=\"#DejaVuSans-75\"/>\n     <use x=\"868.896484\" xlink:href=\"#DejaVuSans-74\"/>\n     <use x=\"908.105469\" xlink:href=\"#DejaVuSans-69\"/>\n     <use x=\"935.888672\" xlink:href=\"#DejaVuSans-6f\"/>\n     <use x=\"997.070312\" xlink:href=\"#DejaVuSans-6e\"/>\n     <use x=\"1060.449219\" xlink:href=\"#DejaVuSans-20\"/>\n     <use x=\"1092.236328\" xlink:href=\"#DejaVuSans-6f\"/>\n     <use x=\"1153.417969\" xlink:href=\"#DejaVuSans-66\"/>\n     <use x=\"1188.623047\" xlink:href=\"#DejaVuSans-20\"/>\n     <use x=\"1220.410156\" xlink:href=\"#DejaVuSans-64\"/>\n     <use x=\"1283.886719\" xlink:href=\"#DejaVuSans-61\"/>\n     <use x=\"1345.166016\" xlink:href=\"#DejaVuSans-74\"/>\n     <use x=\"1384.375\" xlink:href=\"#DejaVuSans-61\"/>\n    </g>\n   </g>\n  </g>\n </g>\n <defs>\n  <clipPath id=\"p2255140cf3\">\n   <rect height=\"217.44\" width=\"334.8\" x=\"26.925\" y=\"22.318125\"/>\n  </clipPath>\n </defs>\n</svg>\n",
      "text/plain": [
       "<Figure size 432x288 with 1 Axes>"
      ]
     },
     "metadata": {
      "needs_background": "light"
     },
     "output_type": "display_data"
    }
   ],
   "source": [
    "import matplotlib.pyplot as plt\n",
    "import seaborn as sns\n",
    "\n",
    "fig, ax = plt.subplots()\n",
    "ax.scatter(X[:, 0], X[:, 1], c=y, s=50, cmap='RdBu')\n",
    "\n",
    "xlim = (min(X[:, 0])-2, max(X[:, 0])+2)\n",
    "ylim = (min(X[:, 1])-2, max(X[:, 1])+2)\n",
    "\n",
    "xg = np.linspace(xlim[0], xlim[1], 60)\n",
    "yg = np.linspace(ylim[0], ylim[1], 40)\n",
    "xx, yy = np.meshgrid(xg, yg)\n",
    "Xgrid = np.vstack([xx.ravel(), yy.ravel()]).T\n",
    "\n",
    "for label, color in enumerate(['red', 'blue']):\n",
    "    mask = (y == label)\n",
    "    mu, std = X[mask].mean(0), X[mask].std(0)\n",
    "    P = np.exp(-0.5 * (Xgrid - mu)**2 / std ** 2).prod(1)\n",
    "    Pm = np.ma.masked_array(P, P < 0.03)\n",
    "    ax.pcolorfast(xg, yg, Pm.reshape(xx.shape), alpha=0.5, cmap=color.title()+'s')\n",
    "    ax.contour(xx, yy, P.reshape(xx.shape), levels=[0.01, 0.1, 0.5, 0.9], colors=color, alpha=0.2)\n",
    "\n",
    "ax.set(xlim=xlim, ylim=ylim)\n",
    "plt.title('Gaussian distribution of data')\n",
    "plt.show()"
   ]
  },
  {
   "cell_type": "markdown",
   "metadata": {},
   "source": [
    "**STEP 4**: Let's test the inference procedure on the test data.\n",
    "- Let's get the class predictions on test data."
   ]
  },
  {
   "cell_type": "code",
   "execution_count": 20,
   "metadata": {},
   "outputs": [
    {
     "data": {
      "text/plain": [
       "array([0, 1, 1, 0, 1, 0, 0, 0, 1, 1, 0, 0, 0, 1, 1, 1, 1, 1, 1, 0])"
      ]
     },
     "execution_count": 20,
     "metadata": {},
     "output_type": "execute_result"
    }
   ],
   "source": [
    "gaussian_nb.predict(X_test)"
   ]
  },
  {
   "cell_type": "markdown",
   "metadata": {},
   "source": [
    "Generate a classification report- containing information about different classification evaluation metrics like precision, recall, F-1 score and accuracy."
   ]
  },
  {
   "cell_type": "code",
   "execution_count": 21,
   "metadata": {},
   "outputs": [
    {
     "name": "stdout",
     "output_type": "stream",
     "text": [
      "              precision    recall  f1-score   support\n",
      "\n",
      "           0       1.00      1.00      1.00         9\n",
      "           1       1.00      1.00      1.00        11\n",
      "\n",
      "    accuracy                           1.00        20\n",
      "   macro avg       1.00      1.00      1.00        20\n",
      "weighted avg       1.00      1.00      1.00        20\n",
      "\n"
     ]
    }
   ],
   "source": [
    "from sklearn.metrics import classification_report\n",
    "print(classification_report(y_test, gaussian_nb.predict(X_test)))"
   ]
  },
  {
   "cell_type": "markdown",
   "metadata": {},
   "source": [
    "- Let's get the probability of each example belonging to each class."
   ]
  },
  {
   "cell_type": "code",
   "execution_count": 22,
   "metadata": {},
   "outputs": [
    {
     "data": {
      "text/plain": [
       "array([[ -4.91052542, -20.09590275],\n",
       "       [-37.47097638,  -7.26785437],\n",
       "       [ -9.92068673,  -4.45946415],\n",
       "       [ -3.30751332, -14.52883493],\n",
       "       [-16.06690366,  -4.20551822],\n",
       "       [ -3.58403824, -12.20956333],\n",
       "       [ -5.71017062,  -9.27740851],\n",
       "       [ -3.84882391, -14.77632486],\n",
       "       [-15.13765094,  -4.67526161],\n",
       "       [-19.90771393,  -3.80833058],\n",
       "       [ -6.2209101 ,  -7.26235683],\n",
       "       [ -3.73527295, -12.21997798],\n",
       "       [ -5.14861666, -21.43307717],\n",
       "       [-16.32039345,  -5.51657426],\n",
       "       [-22.54117227,  -3.98832875],\n",
       "       [-13.77146457,  -4.13219482],\n",
       "       [-13.07064923,  -3.78528848],\n",
       "       [-22.71346643,  -4.01575954],\n",
       "       [-10.62494283,  -4.31659727],\n",
       "       [ -4.91890346, -16.06330422]])"
      ]
     },
     "execution_count": 22,
     "metadata": {},
     "output_type": "execute_result"
    }
   ],
   "source": [
    "gaussian_nb._prod_likelihood_prior"
   ]
  },
  {
   "cell_type": "code",
   "execution_count": 23,
   "metadata": {},
   "outputs": [
    {
     "data": {
      "text/plain": [
       "array([[9.99999746e-01, 2.54140753e-07],\n",
       "       [7.63749214e-14, 1.00000000e+00],\n",
       "       [4.23038642e-03, 9.95769614e-01],\n",
       "       [9.99986614e-01, 1.33855473e-05],\n",
       "       [7.05769182e-06, 9.99992942e-01],\n",
       "       [9.99820566e-01, 1.79433743e-04],\n",
       "       [9.72541524e-01, 2.74584756e-02],\n",
       "       [9.99982043e-01, 1.79572091e-05],\n",
       "       [2.85910189e-05, 9.99971409e-01],\n",
       "       [1.01888837e-07, 9.99999898e-01],\n",
       "       [7.39129058e-01, 2.60870942e-01],\n",
       "       [9.99793438e-01, 2.06561658e-04],\n",
       "       [9.99999915e-01, 8.46737165e-08],\n",
       "       [2.03213294e-05, 9.99979679e-01],\n",
       "       [8.76198350e-09, 9.99999991e-01],\n",
       "       [6.51163513e-05, 9.99934884e-01],\n",
       "       [9.27638525e-05, 9.99907236e-01],\n",
       "       [7.58034673e-09, 9.99999992e-01],\n",
       "       [1.81773339e-03, 9.98182267e-01],\n",
       "       [9.99985544e-01, 1.44557945e-05]])"
      ]
     },
     "execution_count": 23,
     "metadata": {},
     "output_type": "execute_result"
    }
   ],
   "source": [
    "gaussian_nb.predict_proba(X_test)"
   ]
  },
  {
   "cell_type": "markdown",
   "metadata": {},
   "source": [
    "- Let's make a prediction for a new data point."
   ]
  },
  {
   "cell_type": "code",
   "execution_count": 24,
   "metadata": {},
   "outputs": [
    {
     "data": {
      "image/png": "[encoded data removed]",
      "image/svg+xml": "<?xml version=\"1.0\" encoding=\"utf-8\" standalone=\"no\"?>\n<!DOCTYPE svg PUBLIC \"-//W3C//DTD SVG 1.1//EN\"\n  \"http://www.w3.org/Graphics/SVG/1.1/DTD/svg11.dtd\">\n<svg height=\"465.958125pt\" version=\"1.1\" viewBox=\"0 0 592.125 465.958125\" width=\"592.125pt\" xmlns=\"http://www.w3.org/2000/svg\" xmlns:xlink=\"http://www.w3.org/1999/xlink\">\n <metadata>\n  <rdf:RDF xmlns:cc=\"http://creativecommons.org/ns#\" xmlns:dc=\"http://purl.org/dc/elements/1.1/\" xmlns:rdf=\"http://www.w3.org/1999/02/22-rdf-syntax-ns#\">\n   <cc:Work>\n    <dc:type rdf:resource=\"http://purl.org/dc/dcmitype/StillImage\"/>\n    <dc:date>2022-06-11T20:41:03.584651</dc:date>\n    <dc:format>image/svg+xml</dc:format>\n    <dc:creator>\n     <cc:Agent>\n      <dc:title>Matplotlib v3.4.3, https://matplotlib.org/</dc:title>\n     </cc:Agent>\n    </dc:creator>\n   </cc:Work>\n  </rdf:RDF>\n </metadata>\n <defs>\n  <style type=\"text/css\">*{stroke-linecap:butt;stroke-linejoin:round;}</style>\n </defs>\n <g id=\"figure_1\">\n  <g id=\"patch_1\">\n   <path d=\"M 0 465.958125 \nL 592.125 465.958125 \nL 592.125 0 \nL 0 0 \nz\n\" style=\"fill:none;\"/>\n  </g>\n  <g id=\"axes_1\">\n   <g id=\"patch_2\">\n    <path d=\"M 26.925 442.08 \nL 584.925 442.08 \nL 584.925 7.2 \nL 26.925 7.2 \nz\n\" style=\"fill:#ffffff;\"/>\n   </g>\n   <g id=\"PathCollection_1\">\n    <defs>\n     <path d=\"M 0 7.071068 \nC 1.875269 7.071068 3.673985 6.326016 5 5 \nC 6.326016 3.673985 7.071068 1.875269 7.071068 -0 \nC 7.071068 -1.875269 6.326016 -3.673985 5 -5 \nC 3.673985 -6.326016 1.875269 -7.071068 0 -7.071068 \nC -1.875269 -7.071068 -3.673985 -6.326016 -5 -5 \nC -6.326016 -3.673985 -7.071068 -1.875269 -7.071068 0 \nC -7.071068 1.875269 -6.326016 3.673985 -5 5 \nC -3.673985 6.326016 -1.875269 7.071068 0 7.071068 \nz\n\" id=\"C0_0_b7cc5500e4\"/>\n    </defs>\n    <g clip-path=\"url(#p26b5f2752a)\">\n     <use style=\"fill:#67001f;stroke:#000000;\" x=\"170.096379\" xlink:href=\"#C0_0_b7cc5500e4\" y=\"273.279277\"/>\n    </g>\n    <g clip-path=\"url(#p26b5f2752a)\">\n     <use style=\"fill:#67001f;stroke:#000000;\" x=\"153.035319\" xlink:href=\"#C0_0_b7cc5500e4\" y=\"269.860675\"/>\n    </g>\n    <g clip-path=\"url(#p26b5f2752a)\">\n     <use style=\"fill:#67001f;stroke:#000000;\" x=\"211.093577\" xlink:href=\"#C0_0_b7cc5500e4\" y=\"369.758658\"/>\n    </g>\n    <g clip-path=\"url(#p26b5f2752a)\">\n     <use style=\"fill:#67001f;stroke:#000000;\" x=\"220.747334\" xlink:href=\"#C0_0_b7cc5500e4\" y=\"407.472776\"/>\n    </g>\n    <g clip-path=\"url(#p26b5f2752a)\">\n     <use style=\"fill:#053061;stroke:#000000;\" x=\"371.564468\" xlink:href=\"#C0_0_b7cc5500e4\" y=\"113.633299\"/>\n    </g>\n    <g clip-path=\"url(#p26b5f2752a)\">\n     <use style=\"fill:#67001f;stroke:#000000;\" x=\"172.328618\" xlink:href=\"#C0_0_b7cc5500e4\" y=\"203.401697\"/>\n    </g>\n    <g clip-path=\"url(#p26b5f2752a)\">\n     <use style=\"fill:#67001f;stroke:#000000;\" x=\"78.56521\" xlink:href=\"#C0_0_b7cc5500e4\" y=\"231.685474\"/>\n    </g>\n    <g clip-path=\"url(#p26b5f2752a)\">\n     <use style=\"fill:#053061;stroke:#000000;\" x=\"393.365295\" xlink:href=\"#C0_0_b7cc5500e4\" y=\"90.257197\"/>\n    </g>\n    <g clip-path=\"url(#p26b5f2752a)\">\n     <use style=\"fill:#67001f;stroke:#000000;\" x=\"83.379732\" xlink:href=\"#C0_0_b7cc5500e4\" y=\"307.958658\"/>\n    </g>\n    <g clip-path=\"url(#p26b5f2752a)\">\n     <use style=\"fill:#053061;stroke:#000000;\" x=\"373.14465\" xlink:href=\"#C0_0_b7cc5500e4\" y=\"165.727263\"/>\n    </g>\n    <g clip-path=\"url(#p26b5f2752a)\">\n     <use style=\"fill:#053061;stroke:#000000;\" x=\"409.370011\" xlink:href=\"#C0_0_b7cc5500e4\" y=\"163.795314\"/>\n    </g>\n    <g clip-path=\"url(#p26b5f2752a)\">\n     <use style=\"fill:#053061;stroke:#000000;\" x=\"559.561364\" xlink:href=\"#C0_0_b7cc5500e4\" y=\"111.382503\"/>\n    </g>\n    <g clip-path=\"url(#p26b5f2752a)\">\n     <use style=\"fill:#67001f;stroke:#000000;\" x=\"211.042144\" xlink:href=\"#C0_0_b7cc5500e4\" y=\"350.567361\"/>\n    </g>\n    <g clip-path=\"url(#p26b5f2752a)\">\n     <use style=\"fill:#053061;stroke:#000000;\" x=\"383.872349\" xlink:href=\"#C0_0_b7cc5500e4\" y=\"130.408699\"/>\n    </g>\n    <g clip-path=\"url(#p26b5f2752a)\">\n     <use style=\"fill:#053061;stroke:#000000;\" x=\"280.247729\" xlink:href=\"#C0_0_b7cc5500e4\" y=\"166.846963\"/>\n    </g>\n    <g clip-path=\"url(#p26b5f2752a)\">\n     <use style=\"fill:#053061;stroke:#000000;\" x=\"430.153784\" xlink:href=\"#C0_0_b7cc5500e4\" y=\"245.69507\"/>\n    </g>\n    <g clip-path=\"url(#p26b5f2752a)\">\n     <use style=\"fill:#053061;stroke:#000000;\" x=\"336.909084\" xlink:href=\"#C0_0_b7cc5500e4\" y=\"177.479971\"/>\n    </g>\n    <g clip-path=\"url(#p26b5f2752a)\">\n     <use style=\"fill:#67001f;stroke:#000000;\" x=\"227.254713\" xlink:href=\"#C0_0_b7cc5500e4\" y=\"250.445334\"/>\n    </g>\n    <g clip-path=\"url(#p26b5f2752a)\">\n     <use style=\"fill:#67001f;stroke:#000000;\" x=\"162.639196\" xlink:href=\"#C0_0_b7cc5500e4\" y=\"293.382056\"/>\n    </g>\n    <g clip-path=\"url(#p26b5f2752a)\">\n     <use style=\"fill:#67001f;stroke:#000000;\" x=\"151.808736\" xlink:href=\"#C0_0_b7cc5500e4\" y=\"379.048726\"/>\n    </g>\n    <g clip-path=\"url(#p26b5f2752a)\">\n     <use style=\"fill:#67001f;stroke:#000000;\" x=\"254.499436\" xlink:href=\"#C0_0_b7cc5500e4\" y=\"251.896486\"/>\n    </g>\n    <g clip-path=\"url(#p26b5f2752a)\">\n     <use style=\"fill:#67001f;stroke:#000000;\" x=\"205.016475\" xlink:href=\"#C0_0_b7cc5500e4\" y=\"283.075851\"/>\n    </g>\n    <g clip-path=\"url(#p26b5f2752a)\">\n     <use style=\"fill:#053061;stroke:#000000;\" x=\"341.77026\" xlink:href=\"#C0_0_b7cc5500e4\" y=\"249.703273\"/>\n    </g>\n    <g clip-path=\"url(#p26b5f2752a)\">\n     <use style=\"fill:#67001f;stroke:#000000;\" x=\"213.532782\" xlink:href=\"#C0_0_b7cc5500e4\" y=\"200.490462\"/>\n    </g>\n    <g clip-path=\"url(#p26b5f2752a)\">\n     <use style=\"fill:#053061;stroke:#000000;\" x=\"401.480571\" xlink:href=\"#C0_0_b7cc5500e4\" y=\"114.385099\"/>\n    </g>\n    <g clip-path=\"url(#p26b5f2752a)\">\n     <use style=\"fill:#67001f;stroke:#000000;\" x=\"184.879347\" xlink:href=\"#C0_0_b7cc5500e4\" y=\"253.948493\"/>\n    </g>\n    <g clip-path=\"url(#p26b5f2752a)\">\n     <use style=\"fill:#053061;stroke:#000000;\" x=\"329.713059\" xlink:href=\"#C0_0_b7cc5500e4\" y=\"210.710922\"/>\n    </g>\n    <g clip-path=\"url(#p26b5f2752a)\">\n     <use style=\"fill:#67001f;stroke:#000000;\" x=\"114.469794\" xlink:href=\"#C0_0_b7cc5500e4\" y=\"317.516674\"/>\n    </g>\n    <g clip-path=\"url(#p26b5f2752a)\">\n     <use style=\"fill:#67001f;stroke:#000000;\" x=\"166.681161\" xlink:href=\"#C0_0_b7cc5500e4\" y=\"306.990492\"/>\n    </g>\n    <g clip-path=\"url(#p26b5f2752a)\">\n     <use style=\"fill:#053061;stroke:#000000;\" x=\"378.237727\" xlink:href=\"#C0_0_b7cc5500e4\" y=\"144.619718\"/>\n    </g>\n    <g clip-path=\"url(#p26b5f2752a)\">\n     <use style=\"fill:#053061;stroke:#000000;\" x=\"371.26717\" xlink:href=\"#C0_0_b7cc5500e4\" y=\"120.899835\"/>\n    </g>\n    <g clip-path=\"url(#p26b5f2752a)\">\n     <use style=\"fill:#053061;stroke:#000000;\" x=\"317.113061\" xlink:href=\"#C0_0_b7cc5500e4\" y=\"178.589132\"/>\n    </g>\n    <g clip-path=\"url(#p26b5f2752a)\">\n     <use style=\"fill:#67001f;stroke:#000000;\" x=\"132.712123\" xlink:href=\"#C0_0_b7cc5500e4\" y=\"353.667731\"/>\n    </g>\n    <g clip-path=\"url(#p26b5f2752a)\">\n     <use style=\"fill:#67001f;stroke:#000000;\" x=\"183.85291\" xlink:href=\"#C0_0_b7cc5500e4\" y=\"294.572799\"/>\n    </g>\n    <g clip-path=\"url(#p26b5f2752a)\">\n     <use style=\"fill:#67001f;stroke:#000000;\" x=\"168.825181\" xlink:href=\"#C0_0_b7cc5500e4\" y=\"321.473312\"/>\n    </g>\n    <g clip-path=\"url(#p26b5f2752a)\">\n     <use style=\"fill:#67001f;stroke:#000000;\" x=\"185.840526\" xlink:href=\"#C0_0_b7cc5500e4\" y=\"284.220554\"/>\n    </g>\n    <g clip-path=\"url(#p26b5f2752a)\">\n     <use style=\"fill:#053061;stroke:#000000;\" x=\"323.415293\" xlink:href=\"#C0_0_b7cc5500e4\" y=\"95.669627\"/>\n    </g>\n    <g clip-path=\"url(#p26b5f2752a)\">\n     <use style=\"fill:#053061;stroke:#000000;\" x=\"481.309433\" xlink:href=\"#C0_0_b7cc5500e4\" y=\"221.163834\"/>\n    </g>\n    <g clip-path=\"url(#p26b5f2752a)\">\n     <use style=\"fill:#053061;stroke:#000000;\" x=\"420.301368\" xlink:href=\"#C0_0_b7cc5500e4\" y=\"136.192178\"/>\n    </g>\n    <g clip-path=\"url(#p26b5f2752a)\">\n     <use style=\"fill:#053061;stroke:#000000;\" x=\"388.193777\" xlink:href=\"#C0_0_b7cc5500e4\" y=\"117.301734\"/>\n    </g>\n    <g clip-path=\"url(#p26b5f2752a)\">\n     <use style=\"fill:#67001f;stroke:#000000;\" x=\"95.77785\" xlink:href=\"#C0_0_b7cc5500e4\" y=\"350.449347\"/>\n    </g>\n    <g clip-path=\"url(#p26b5f2752a)\">\n     <use style=\"fill:#67001f;stroke:#000000;\" x=\"236.076097\" xlink:href=\"#C0_0_b7cc5500e4\" y=\"328.407142\"/>\n    </g>\n    <g clip-path=\"url(#p26b5f2752a)\">\n     <use style=\"fill:#053061;stroke:#000000;\" x=\"301.93924\" xlink:href=\"#C0_0_b7cc5500e4\" y=\"129.982894\"/>\n    </g>\n    <g clip-path=\"url(#p26b5f2752a)\">\n     <use style=\"fill:#053061;stroke:#000000;\" x=\"347.486352\" xlink:href=\"#C0_0_b7cc5500e4\" y=\"174.510402\"/>\n    </g>\n    <g clip-path=\"url(#p26b5f2752a)\">\n     <use style=\"fill:#67001f;stroke:#000000;\" x=\"52.288636\" xlink:href=\"#C0_0_b7cc5500e4\" y=\"314.547954\"/>\n    </g>\n    <g clip-path=\"url(#p26b5f2752a)\">\n     <use style=\"fill:#053061;stroke:#000000;\" x=\"337.961807\" xlink:href=\"#C0_0_b7cc5500e4\" y=\"26.967273\"/>\n    </g>\n    <g clip-path=\"url(#p26b5f2752a)\">\n     <use style=\"fill:#053061;stroke:#000000;\" x=\"405.108655\" xlink:href=\"#C0_0_b7cc5500e4\" y=\"166.415581\"/>\n    </g>\n    <g clip-path=\"url(#p26b5f2752a)\">\n     <use style=\"fill:#67001f;stroke:#000000;\" x=\"144.20278\" xlink:href=\"#C0_0_b7cc5500e4\" y=\"305.975063\"/>\n    </g>\n    <g clip-path=\"url(#p26b5f2752a)\">\n     <use style=\"fill:#053061;stroke:#000000;\" x=\"334.929028\" xlink:href=\"#C0_0_b7cc5500e4\" y=\"192.588279\"/>\n    </g>\n    <g clip-path=\"url(#p26b5f2752a)\">\n     <use style=\"fill:#053061;stroke:#000000;\" x=\"330.422053\" xlink:href=\"#C0_0_b7cc5500e4\" y=\"126.060412\"/>\n    </g>\n    <g clip-path=\"url(#p26b5f2752a)\">\n     <use style=\"fill:#67001f;stroke:#000000;\" x=\"212.910298\" xlink:href=\"#C0_0_b7cc5500e4\" y=\"338.698046\"/>\n    </g>\n    <g clip-path=\"url(#p26b5f2752a)\">\n     <use style=\"fill:#67001f;stroke:#000000;\" x=\"204.946458\" xlink:href=\"#C0_0_b7cc5500e4\" y=\"320.561834\"/>\n    </g>\n    <g clip-path=\"url(#p26b5f2752a)\">\n     <use style=\"fill:#053061;stroke:#000000;\" x=\"336.982882\" xlink:href=\"#C0_0_b7cc5500e4\" y=\"130.393014\"/>\n    </g>\n    <g clip-path=\"url(#p26b5f2752a)\">\n     <use style=\"fill:#053061;stroke:#000000;\" x=\"445.398488\" xlink:href=\"#C0_0_b7cc5500e4\" y=\"129.58602\"/>\n    </g>\n    <g clip-path=\"url(#p26b5f2752a)\">\n     <use style=\"fill:#053061;stroke:#000000;\" x=\"299.961451\" xlink:href=\"#C0_0_b7cc5500e4\" y=\"122.36183\"/>\n    </g>\n    <g clip-path=\"url(#p26b5f2752a)\">\n     <use style=\"fill:#67001f;stroke:#000000;\" x=\"165.5575\" xlink:href=\"#C0_0_b7cc5500e4\" y=\"376.420802\"/>\n    </g>\n    <g clip-path=\"url(#p26b5f2752a)\">\n     <use style=\"fill:#053061;stroke:#000000;\" x=\"318.150754\" xlink:href=\"#C0_0_b7cc5500e4\" y=\"195.120125\"/>\n    </g>\n    <g clip-path=\"url(#p26b5f2752a)\">\n     <use style=\"fill:#67001f;stroke:#000000;\" x=\"196.094888\" xlink:href=\"#C0_0_b7cc5500e4\" y=\"242.861951\"/>\n    </g>\n    <g clip-path=\"url(#p26b5f2752a)\">\n     <use style=\"fill:#053061;stroke:#000000;\" x=\"411.561247\" xlink:href=\"#C0_0_b7cc5500e4\" y=\"132.199181\"/>\n    </g>\n    <g clip-path=\"url(#p26b5f2752a)\">\n     <use style=\"fill:#67001f;stroke:#000000;\" x=\"148.283687\" xlink:href=\"#C0_0_b7cc5500e4\" y=\"309.740116\"/>\n    </g>\n    <g clip-path=\"url(#p26b5f2752a)\">\n     <use style=\"fill:#053061;stroke:#000000;\" x=\"408.930935\" xlink:href=\"#C0_0_b7cc5500e4\" y=\"235.123725\"/>\n    </g>\n    <g clip-path=\"url(#p26b5f2752a)\">\n     <use style=\"fill:#67001f;stroke:#000000;\" x=\"63.571641\" xlink:href=\"#C0_0_b7cc5500e4\" y=\"304.77804\"/>\n    </g>\n    <g clip-path=\"url(#p26b5f2752a)\">\n     <use style=\"fill:#67001f;stroke:#000000;\" x=\"153.967909\" xlink:href=\"#C0_0_b7cc5500e4\" y=\"285.845354\"/>\n    </g>\n    <g clip-path=\"url(#p26b5f2752a)\">\n     <use style=\"fill:#053061;stroke:#000000;\" x=\"390.99426\" xlink:href=\"#C0_0_b7cc5500e4\" y=\"198.224091\"/>\n    </g>\n    <g clip-path=\"url(#p26b5f2752a)\">\n     <use style=\"fill:#053061;stroke:#000000;\" x=\"383.439057\" xlink:href=\"#C0_0_b7cc5500e4\" y=\"150.497801\"/>\n    </g>\n    <g clip-path=\"url(#p26b5f2752a)\">\n     <use style=\"fill:#67001f;stroke:#000000;\" x=\"216.540156\" xlink:href=\"#C0_0_b7cc5500e4\" y=\"307.876593\"/>\n    </g>\n    <g clip-path=\"url(#p26b5f2752a)\">\n     <use style=\"fill:#053061;stroke:#000000;\" x=\"344.029604\" xlink:href=\"#C0_0_b7cc5500e4\" y=\"101.873144\"/>\n    </g>\n    <g clip-path=\"url(#p26b5f2752a)\">\n     <use style=\"fill:#053061;stroke:#000000;\" x=\"296.328993\" xlink:href=\"#C0_0_b7cc5500e4\" y=\"129.94955\"/>\n    </g>\n    <g clip-path=\"url(#p26b5f2752a)\">\n     <use style=\"fill:#053061;stroke:#000000;\" x=\"275.561904\" xlink:href=\"#C0_0_b7cc5500e4\" y=\"250.327218\"/>\n    </g>\n    <g clip-path=\"url(#p26b5f2752a)\">\n     <use style=\"fill:#67001f;stroke:#000000;\" x=\"166.974787\" xlink:href=\"#C0_0_b7cc5500e4\" y=\"313.735377\"/>\n    </g>\n    <g clip-path=\"url(#p26b5f2752a)\">\n     <use style=\"fill:#053061;stroke:#000000;\" x=\"517.933552\" xlink:href=\"#C0_0_b7cc5500e4\" y=\"104.217465\"/>\n    </g>\n    <g clip-path=\"url(#p26b5f2752a)\">\n     <use style=\"fill:#67001f;stroke:#000000;\" x=\"164.911421\" xlink:href=\"#C0_0_b7cc5500e4\" y=\"312.864324\"/>\n    </g>\n    <g clip-path=\"url(#p26b5f2752a)\">\n     <use style=\"fill:#67001f;stroke:#000000;\" x=\"259.54343\" xlink:href=\"#C0_0_b7cc5500e4\" y=\"326.234038\"/>\n    </g>\n    <g clip-path=\"url(#p26b5f2752a)\">\n     <use style=\"fill:#67001f;stroke:#000000;\" x=\"212.16899\" xlink:href=\"#C0_0_b7cc5500e4\" y=\"274.989051\"/>\n    </g>\n    <g clip-path=\"url(#p26b5f2752a)\">\n     <use style=\"fill:#053061;stroke:#000000;\" x=\"307.923614\" xlink:href=\"#C0_0_b7cc5500e4\" y=\"178.950765\"/>\n    </g>\n    <g clip-path=\"url(#p26b5f2752a)\">\n     <use style=\"fill:#67001f;stroke:#000000;\" x=\"98.56373\" xlink:href=\"#C0_0_b7cc5500e4\" y=\"260.368838\"/>\n    </g>\n    <g clip-path=\"url(#p26b5f2752a)\">\n     <use style=\"fill:#67001f;stroke:#000000;\" x=\"196.692882\" xlink:href=\"#C0_0_b7cc5500e4\" y=\"399.106053\"/>\n    </g>\n    <g clip-path=\"url(#p26b5f2752a)\">\n     <use style=\"fill:#053061;stroke:#000000;\" x=\"339.36323\" xlink:href=\"#C0_0_b7cc5500e4\" y=\"175.405656\"/>\n    </g>\n    <g clip-path=\"url(#p26b5f2752a)\">\n     <use style=\"fill:#053061;stroke:#000000;\" x=\"281.982941\" xlink:href=\"#C0_0_b7cc5500e4\" y=\"162.720228\"/>\n    </g>\n    <g clip-path=\"url(#p26b5f2752a)\">\n     <use style=\"fill:#67001f;stroke:#000000;\" x=\"130.663908\" xlink:href=\"#C0_0_b7cc5500e4\" y=\"234.354711\"/>\n    </g>\n    <g clip-path=\"url(#p26b5f2752a)\">\n     <use style=\"fill:#053061;stroke:#000000;\" x=\"394.885808\" xlink:href=\"#C0_0_b7cc5500e4\" y=\"120.497823\"/>\n    </g>\n    <g clip-path=\"url(#p26b5f2752a)\">\n     <use style=\"fill:#053061;stroke:#000000;\" x=\"290.187674\" xlink:href=\"#C0_0_b7cc5500e4\" y=\"105.782038\"/>\n    </g>\n    <g clip-path=\"url(#p26b5f2752a)\">\n     <use style=\"fill:#053061;stroke:#000000;\" x=\"296.269475\" xlink:href=\"#C0_0_b7cc5500e4\" y=\"184.522798\"/>\n    </g>\n    <g clip-path=\"url(#p26b5f2752a)\">\n     <use style=\"fill:#67001f;stroke:#000000;\" x=\"187.926048\" xlink:href=\"#C0_0_b7cc5500e4\" y=\"363.664391\"/>\n    </g>\n    <g clip-path=\"url(#p26b5f2752a)\">\n     <use style=\"fill:#053061;stroke:#000000;\" x=\"359.50068\" xlink:href=\"#C0_0_b7cc5500e4\" y=\"114.474492\"/>\n    </g>\n    <g clip-path=\"url(#p26b5f2752a)\">\n     <use style=\"fill:#67001f;stroke:#000000;\" x=\"164.782932\" xlink:href=\"#C0_0_b7cc5500e4\" y=\"316.503873\"/>\n    </g>\n    <g clip-path=\"url(#p26b5f2752a)\">\n     <use style=\"fill:#67001f;stroke:#000000;\" x=\"153.818476\" xlink:href=\"#C0_0_b7cc5500e4\" y=\"366.998887\"/>\n    </g>\n    <g clip-path=\"url(#p26b5f2752a)\">\n     <use style=\"fill:#053061;stroke:#000000;\" x=\"278.786338\" xlink:href=\"#C0_0_b7cc5500e4\" y=\"110.17712\"/>\n    </g>\n    <g clip-path=\"url(#p26b5f2752a)\">\n     <use style=\"fill:#67001f;stroke:#000000;\" x=\"244.772073\" xlink:href=\"#C0_0_b7cc5500e4\" y=\"422.312727\"/>\n    </g>\n    <g clip-path=\"url(#p26b5f2752a)\">\n     <use style=\"fill:#67001f;stroke:#000000;\" x=\"141.743489\" xlink:href=\"#C0_0_b7cc5500e4\" y=\"317.657303\"/>\n    </g>\n    <g clip-path=\"url(#p26b5f2752a)\">\n     <use style=\"fill:#053061;stroke:#000000;\" x=\"440.702104\" xlink:href=\"#C0_0_b7cc5500e4\" y=\"172.085698\"/>\n    </g>\n    <g clip-path=\"url(#p26b5f2752a)\">\n     <use style=\"fill:#67001f;stroke:#000000;\" x=\"176.325328\" xlink:href=\"#C0_0_b7cc5500e4\" y=\"313.866863\"/>\n    </g>\n    <g clip-path=\"url(#p26b5f2752a)\">\n     <use style=\"fill:#67001f;stroke:#000000;\" x=\"204.442904\" xlink:href=\"#C0_0_b7cc5500e4\" y=\"245.113873\"/>\n    </g>\n    <g clip-path=\"url(#p26b5f2752a)\">\n     <use style=\"fill:#053061;stroke:#000000;\" x=\"443.252191\" xlink:href=\"#C0_0_b7cc5500e4\" y=\"171.201074\"/>\n    </g>\n    <g clip-path=\"url(#p26b5f2752a)\">\n     <use style=\"fill:#053061;stroke:#000000;\" x=\"365.356864\" xlink:href=\"#C0_0_b7cc5500e4\" y=\"126.871229\"/>\n    </g>\n    <g clip-path=\"url(#p26b5f2752a)\">\n     <use style=\"fill:#67001f;stroke:#000000;\" x=\"207.609219\" xlink:href=\"#C0_0_b7cc5500e4\" y=\"249.001884\"/>\n    </g>\n    <g clip-path=\"url(#p26b5f2752a)\">\n     <use style=\"fill:#053061;stroke:#000000;\" x=\"291.894978\" xlink:href=\"#C0_0_b7cc5500e4\" y=\"64.329206\"/>\n    </g>\n    <g clip-path=\"url(#p26b5f2752a)\">\n     <use style=\"fill:#67001f;stroke:#000000;\" x=\"92.028845\" xlink:href=\"#C0_0_b7cc5500e4\" y=\"227.335271\"/>\n    </g>\n    <g clip-path=\"url(#p26b5f2752a)\">\n     <use style=\"fill:#67001f;stroke:#000000;\" x=\"198.72441\" xlink:href=\"#C0_0_b7cc5500e4\" y=\"357.484772\"/>\n    </g>\n    <g clip-path=\"url(#p26b5f2752a)\">\n     <use style=\"fill:#053061;stroke:#000000;\" x=\"362.292088\" xlink:href=\"#C0_0_b7cc5500e4\" y=\"124.204152\"/>\n    </g>\n   </g>\n   <g id=\"PathCollection_2\">\n    <defs>\n     <path d=\"M 0 7.905694 \nC 2.096615 7.905694 4.10764 7.0727 5.59017 5.59017 \nC 7.0727 4.10764 7.905694 2.096615 7.905694 0 \nC 7.905694 -2.096615 7.0727 -4.10764 5.59017 -5.59017 \nC 4.10764 -7.0727 2.096615 -7.905694 0 -7.905694 \nC -2.096615 -7.905694 -4.10764 -7.0727 -5.59017 -5.59017 \nC -7.0727 -4.10764 -7.905694 -2.096615 -7.905694 0 \nC -7.905694 2.096615 -7.0727 4.10764 -5.59017 5.59017 \nC -4.10764 7.0727 -2.096615 7.905694 0 7.905694 \nz\n\" id=\"m5db6fe1e84\" style=\"stroke:#000000;stroke-opacity:0.8;\"/>\n    </defs>\n    <g clip-path=\"url(#p26b5f2752a)\">\n     <use style=\"fill:#008000;fill-opacity:0.8;stroke:#000000;stroke-opacity:0.8;\" x=\"68.665434\" xlink:href=\"#m5db6fe1e84\" y=\"262.322252\"/>\n    </g>\n   </g>\n   <g id=\"matplotlib.axis_1\">\n    <g id=\"xtick_1\">\n     <g id=\"line2d_1\">\n      <defs>\n       <path d=\"M 0 0 \nL 0 3.5 \n\" id=\"m0f69794eeb\" style=\"stroke:#000000;stroke-width:0.8;\"/>\n      </defs>\n      <g>\n       <use style=\"stroke:#000000;stroke-width:0.8;\" x=\"85.404663\" xlink:href=\"#m0f69794eeb\" y=\"442.08\"/>\n      </g>\n     </g>\n     <g id=\"text_1\">\n      <!-- 2 -->\n      <g transform=\"translate(82.223413 456.678437)scale(0.1 -0.1)\">\n       <defs>\n        <path d=\"M 1228 531 \nL 3431 531 \nL 3431 0 \nL 469 0 \nL 469 531 \nQ 828 903 1448 1529 \nQ 2069 2156 2228 2338 \nQ 2531 2678 2651 2914 \nQ 2772 3150 2772 3378 \nQ 2772 3750 2511 3984 \nQ 2250 4219 1831 4219 \nQ 1534 4219 1204 4116 \nQ 875 4013 500 3803 \nL 500 4441 \nQ 881 4594 1212 4672 \nQ 1544 4750 1819 4750 \nQ 2544 4750 2975 4387 \nQ 3406 4025 3406 3419 \nQ 3406 3131 3298 2873 \nQ 3191 2616 2906 2266 \nQ 2828 2175 2409 1742 \nQ 1991 1309 1228 531 \nz\n\" id=\"DejaVuSans-32\" transform=\"scale(0.015625)\"/>\n       </defs>\n       <use xlink:href=\"#DejaVuSans-32\"/>\n      </g>\n     </g>\n    </g>\n    <g id=\"xtick_2\">\n     <g id=\"line2d_2\">\n      <g>\n       <use style=\"stroke:#000000;stroke-width:0.8;\" x=\"152.361578\" xlink:href=\"#m0f69794eeb\" y=\"442.08\"/>\n      </g>\n     </g>\n     <g id=\"text_2\">\n      <!-- 4 -->\n      <g transform=\"translate(149.180328 456.678437)scale(0.1 -0.1)\">\n       <defs>\n        <path d=\"M 2419 4116 \nL 825 1625 \nL 2419 1625 \nL 2419 4116 \nz\nM 2253 4666 \nL 3047 4666 \nL 3047 1625 \nL 3713 1625 \nL 3713 1100 \nL 3047 1100 \nL 3047 0 \nL 2419 0 \nL 2419 1100 \nL 313 1100 \nL 313 1709 \nL 2253 4666 \nz\n\" id=\"DejaVuSans-34\" transform=\"scale(0.015625)\"/>\n       </defs>\n       <use xlink:href=\"#DejaVuSans-34\"/>\n      </g>\n     </g>\n    </g>\n    <g id=\"xtick_3\">\n     <g id=\"line2d_3\">\n      <g>\n       <use style=\"stroke:#000000;stroke-width:0.8;\" x=\"219.318494\" xlink:href=\"#m0f69794eeb\" y=\"442.08\"/>\n      </g>\n     </g>\n     <g id=\"text_3\">\n      <!-- 6 -->\n      <g transform=\"translate(216.137244 456.678437)scale(0.1 -0.1)\">\n       <defs>\n        <path d=\"M 2113 2584 \nQ 1688 2584 1439 2293 \nQ 1191 2003 1191 1497 \nQ 1191 994 1439 701 \nQ 1688 409 2113 409 \nQ 2538 409 2786 701 \nQ 3034 994 3034 1497 \nQ 3034 2003 2786 2293 \nQ 2538 2584 2113 2584 \nz\nM 3366 4563 \nL 3366 3988 \nQ 3128 4100 2886 4159 \nQ 2644 4219 2406 4219 \nQ 1781 4219 1451 3797 \nQ 1122 3375 1075 2522 \nQ 1259 2794 1537 2939 \nQ 1816 3084 2150 3084 \nQ 2853 3084 3261 2657 \nQ 3669 2231 3669 1497 \nQ 3669 778 3244 343 \nQ 2819 -91 2113 -91 \nQ 1303 -91 875 529 \nQ 447 1150 447 2328 \nQ 447 3434 972 4092 \nQ 1497 4750 2381 4750 \nQ 2619 4750 2861 4703 \nQ 3103 4656 3366 4563 \nz\n\" id=\"DejaVuSans-36\" transform=\"scale(0.015625)\"/>\n       </defs>\n       <use xlink:href=\"#DejaVuSans-36\"/>\n      </g>\n     </g>\n    </g>\n    <g id=\"xtick_4\">\n     <g id=\"line2d_4\">\n      <g>\n       <use style=\"stroke:#000000;stroke-width:0.8;\" x=\"286.275409\" xlink:href=\"#m0f69794eeb\" y=\"442.08\"/>\n      </g>\n     </g>\n     <g id=\"text_4\">\n      <!-- 8 -->\n      <g transform=\"translate(283.094159 456.678437)scale(0.1 -0.1)\">\n       <defs>\n        <path d=\"M 2034 2216 \nQ 1584 2216 1326 1975 \nQ 1069 1734 1069 1313 \nQ 1069 891 1326 650 \nQ 1584 409 2034 409 \nQ 2484 409 2743 651 \nQ 3003 894 3003 1313 \nQ 3003 1734 2745 1975 \nQ 2488 2216 2034 2216 \nz\nM 1403 2484 \nQ 997 2584 770 2862 \nQ 544 3141 544 3541 \nQ 544 4100 942 4425 \nQ 1341 4750 2034 4750 \nQ 2731 4750 3128 4425 \nQ 3525 4100 3525 3541 \nQ 3525 3141 3298 2862 \nQ 3072 2584 2669 2484 \nQ 3125 2378 3379 2068 \nQ 3634 1759 3634 1313 \nQ 3634 634 3220 271 \nQ 2806 -91 2034 -91 \nQ 1263 -91 848 271 \nQ 434 634 434 1313 \nQ 434 1759 690 2068 \nQ 947 2378 1403 2484 \nz\nM 1172 3481 \nQ 1172 3119 1398 2916 \nQ 1625 2713 2034 2713 \nQ 2441 2713 2670 2916 \nQ 2900 3119 2900 3481 \nQ 2900 3844 2670 4047 \nQ 2441 4250 2034 4250 \nQ 1625 4250 1398 4047 \nQ 1172 3844 1172 3481 \nz\n\" id=\"DejaVuSans-38\" transform=\"scale(0.015625)\"/>\n       </defs>\n       <use xlink:href=\"#DejaVuSans-38\"/>\n      </g>\n     </g>\n    </g>\n    <g id=\"xtick_5\">\n     <g id=\"line2d_5\">\n      <g>\n       <use style=\"stroke:#000000;stroke-width:0.8;\" x=\"353.232325\" xlink:href=\"#m0f69794eeb\" y=\"442.08\"/>\n      </g>\n     </g>\n     <g id=\"text_5\">\n      <!-- 10 -->\n      <g transform=\"translate(346.869825 456.678437)scale(0.1 -0.1)\">\n       <defs>\n        <path d=\"M 794 531 \nL 1825 531 \nL 1825 4091 \nL 703 3866 \nL 703 4441 \nL 1819 4666 \nL 2450 4666 \nL 2450 531 \nL 3481 531 \nL 3481 0 \nL 794 0 \nL 794 531 \nz\n\" id=\"DejaVuSans-31\" transform=\"scale(0.015625)\"/>\n        <path d=\"M 2034 4250 \nQ 1547 4250 1301 3770 \nQ 1056 3291 1056 2328 \nQ 1056 1369 1301 889 \nQ 1547 409 2034 409 \nQ 2525 409 2770 889 \nQ 3016 1369 3016 2328 \nQ 3016 3291 2770 3770 \nQ 2525 4250 2034 4250 \nz\nM 2034 4750 \nQ 2819 4750 3233 4129 \nQ 3647 3509 3647 2328 \nQ 3647 1150 3233 529 \nQ 2819 -91 2034 -91 \nQ 1250 -91 836 529 \nQ 422 1150 422 2328 \nQ 422 3509 836 4129 \nQ 1250 4750 2034 4750 \nz\n\" id=\"DejaVuSans-30\" transform=\"scale(0.015625)\"/>\n       </defs>\n       <use xlink:href=\"#DejaVuSans-31\"/>\n       <use x=\"63.623047\" xlink:href=\"#DejaVuSans-30\"/>\n      </g>\n     </g>\n    </g>\n    <g id=\"xtick_6\">\n     <g id=\"line2d_6\">\n      <g>\n       <use style=\"stroke:#000000;stroke-width:0.8;\" x=\"420.18924\" xlink:href=\"#m0f69794eeb\" y=\"442.08\"/>\n      </g>\n     </g>\n     <g id=\"text_6\">\n      <!-- 12 -->\n      <g transform=\"translate(413.82674 456.678437)scale(0.1 -0.1)\">\n       <use xlink:href=\"#DejaVuSans-31\"/>\n       <use x=\"63.623047\" xlink:href=\"#DejaVuSans-32\"/>\n      </g>\n     </g>\n    </g>\n    <g id=\"xtick_7\">\n     <g id=\"line2d_7\">\n      <g>\n       <use style=\"stroke:#000000;stroke-width:0.8;\" x=\"487.146156\" xlink:href=\"#m0f69794eeb\" y=\"442.08\"/>\n      </g>\n     </g>\n     <g id=\"text_7\">\n      <!-- 14 -->\n      <g transform=\"translate(480.783656 456.678437)scale(0.1 -0.1)\">\n       <use xlink:href=\"#DejaVuSans-31\"/>\n       <use x=\"63.623047\" xlink:href=\"#DejaVuSans-34\"/>\n      </g>\n     </g>\n    </g>\n    <g id=\"xtick_8\">\n     <g id=\"line2d_8\">\n      <g>\n       <use style=\"stroke:#000000;stroke-width:0.8;\" x=\"554.103072\" xlink:href=\"#m0f69794eeb\" y=\"442.08\"/>\n      </g>\n     </g>\n     <g id=\"text_8\">\n      <!-- 16 -->\n      <g transform=\"translate(547.740572 456.678437)scale(0.1 -0.1)\">\n       <use xlink:href=\"#DejaVuSans-31\"/>\n       <use x=\"63.623047\" xlink:href=\"#DejaVuSans-36\"/>\n      </g>\n     </g>\n    </g>\n   </g>\n   <g id=\"matplotlib.axis_2\">\n    <g id=\"ytick_1\">\n     <g id=\"line2d_9\">\n      <defs>\n       <path d=\"M 0 0 \nL -3.5 0 \n\" id=\"mde3c7041d3\" style=\"stroke:#000000;stroke-width:0.8;\"/>\n      </defs>\n      <g>\n       <use style=\"stroke:#000000;stroke-width:0.8;\" x=\"26.925\" xlink:href=\"#mde3c7041d3\" y=\"405.871411\"/>\n      </g>\n     </g>\n     <g id=\"text_9\">\n      <!-- 2 -->\n      <g transform=\"translate(13.5625 409.67063)scale(0.1 -0.1)\">\n       <use xlink:href=\"#DejaVuSans-32\"/>\n      </g>\n     </g>\n    </g>\n    <g id=\"ytick_2\">\n     <g id=\"line2d_10\">\n      <g>\n       <use style=\"stroke:#000000;stroke-width:0.8;\" x=\"26.925\" xlink:href=\"#mde3c7041d3\" y=\"342.071785\"/>\n      </g>\n     </g>\n     <g id=\"text_10\">\n      <!-- 4 -->\n      <g transform=\"translate(13.5625 345.871004)scale(0.1 -0.1)\">\n       <use xlink:href=\"#DejaVuSans-34\"/>\n      </g>\n     </g>\n    </g>\n    <g id=\"ytick_3\">\n     <g id=\"line2d_11\">\n      <g>\n       <use style=\"stroke:#000000;stroke-width:0.8;\" x=\"26.925\" xlink:href=\"#mde3c7041d3\" y=\"278.272159\"/>\n      </g>\n     </g>\n     <g id=\"text_11\">\n      <!-- 6 -->\n      <g transform=\"translate(13.5625 282.071378)scale(0.1 -0.1)\">\n       <use xlink:href=\"#DejaVuSans-36\"/>\n      </g>\n     </g>\n    </g>\n    <g id=\"ytick_4\">\n     <g id=\"line2d_12\">\n      <g>\n       <use style=\"stroke:#000000;stroke-width:0.8;\" x=\"26.925\" xlink:href=\"#mde3c7041d3\" y=\"214.472533\"/>\n      </g>\n     </g>\n     <g id=\"text_12\">\n      <!-- 8 -->\n      <g transform=\"translate(13.5625 218.271752)scale(0.1 -0.1)\">\n       <use xlink:href=\"#DejaVuSans-38\"/>\n      </g>\n     </g>\n    </g>\n    <g id=\"ytick_5\">\n     <g id=\"line2d_13\">\n      <g>\n       <use style=\"stroke:#000000;stroke-width:0.8;\" x=\"26.925\" xlink:href=\"#mde3c7041d3\" y=\"150.672907\"/>\n      </g>\n     </g>\n     <g id=\"text_13\">\n      <!-- 10 -->\n      <g transform=\"translate(7.2 154.472126)scale(0.1 -0.1)\">\n       <use xlink:href=\"#DejaVuSans-31\"/>\n       <use x=\"63.623047\" xlink:href=\"#DejaVuSans-30\"/>\n      </g>\n     </g>\n    </g>\n    <g id=\"ytick_6\">\n     <g id=\"line2d_14\">\n      <g>\n       <use style=\"stroke:#000000;stroke-width:0.8;\" x=\"26.925\" xlink:href=\"#mde3c7041d3\" y=\"86.873281\"/>\n      </g>\n     </g>\n     <g id=\"text_14\">\n      <!-- 12 -->\n      <g transform=\"translate(7.2 90.6725)scale(0.1 -0.1)\">\n       <use xlink:href=\"#DejaVuSans-31\"/>\n       <use x=\"63.623047\" xlink:href=\"#DejaVuSans-32\"/>\n      </g>\n     </g>\n    </g>\n    <g id=\"ytick_7\">\n     <g id=\"line2d_15\">\n      <g>\n       <use style=\"stroke:#000000;stroke-width:0.8;\" x=\"26.925\" xlink:href=\"#mde3c7041d3\" y=\"23.073655\"/>\n      </g>\n     </g>\n     <g id=\"text_15\">\n      <!-- 14 -->\n      <g transform=\"translate(7.2 26.872874)scale(0.1 -0.1)\">\n       <use xlink:href=\"#DejaVuSans-31\"/>\n       <use x=\"63.623047\" xlink:href=\"#DejaVuSans-34\"/>\n      </g>\n     </g>\n    </g>\n   </g>\n   <g id=\"patch_3\">\n    <path d=\"M 26.925 442.08 \nL 26.925 7.2 \n\" style=\"fill:none;stroke:#000000;stroke-linecap:square;stroke-linejoin:miter;stroke-width:0.8;\"/>\n   </g>\n   <g id=\"patch_4\">\n    <path d=\"M 584.925 442.08 \nL 584.925 7.2 \n\" style=\"fill:none;stroke:#000000;stroke-linecap:square;stroke-linejoin:miter;stroke-width:0.8;\"/>\n   </g>\n   <g id=\"patch_5\">\n    <path d=\"M 26.925 442.08 \nL 584.925 442.08 \n\" style=\"fill:none;stroke:#000000;stroke-linecap:square;stroke-linejoin:miter;stroke-width:0.8;\"/>\n   </g>\n   <g id=\"patch_6\">\n    <path d=\"M 26.925 7.2 \nL 584.925 7.2 \n\" style=\"fill:none;stroke:#000000;stroke-linecap:square;stroke-linejoin:miter;stroke-width:0.8;\"/>\n   </g>\n   <g id=\"patch_7\">\n    <path d=\"M 42.621295 154.554985 \nQ 54.346123 199.503578 66.070951 244.452171 \nL 69.941439 243.442555 \nQ 68.553317 250.00673 67.165196 256.570905 \nQ 62.747586 251.521154 58.329975 246.471402 \nL 62.200463 245.461786 \nQ 50.475635 200.513194 38.750807 155.564601 \nL 42.621295 154.554985 \nz\n\" style=\"stroke:#000000;stroke-linecap:round;\"/>\n   </g>\n   <g id=\"text_16\">\n    <!-- New example -->\n    <g transform=\"translate(38.665434 142.322252)scale(0.24 -0.24)\">\n     <defs>\n      <path d=\"M 628 4666 \nL 1478 4666 \nL 3547 763 \nL 3547 4666 \nL 4159 4666 \nL 4159 0 \nL 3309 0 \nL 1241 3903 \nL 1241 0 \nL 628 0 \nL 628 4666 \nz\n\" id=\"DejaVuSans-4e\" transform=\"scale(0.015625)\"/>\n      <path d=\"M 3597 1894 \nL 3597 1613 \nL 953 1613 \nQ 991 1019 1311 708 \nQ 1631 397 2203 397 \nQ 2534 397 2845 478 \nQ 3156 559 3463 722 \nL 3463 178 \nQ 3153 47 2828 -22 \nQ 2503 -91 2169 -91 \nQ 1331 -91 842 396 \nQ 353 884 353 1716 \nQ 353 2575 817 3079 \nQ 1281 3584 2069 3584 \nQ 2775 3584 3186 3129 \nQ 3597 2675 3597 1894 \nz\nM 3022 2063 \nQ 3016 2534 2758 2815 \nQ 2500 3097 2075 3097 \nQ 1594 3097 1305 2825 \nQ 1016 2553 972 2059 \nL 3022 2063 \nz\n\" id=\"DejaVuSans-65\" transform=\"scale(0.015625)\"/>\n      <path d=\"M 269 3500 \nL 844 3500 \nL 1563 769 \nL 2278 3500 \nL 2956 3500 \nL 3675 769 \nL 4391 3500 \nL 4966 3500 \nL 4050 0 \nL 3372 0 \nL 2619 2869 \nL 1863 0 \nL 1184 0 \nL 269 3500 \nz\n\" id=\"DejaVuSans-77\" transform=\"scale(0.015625)\"/>\n      <path id=\"DejaVuSans-20\" transform=\"scale(0.015625)\"/>\n      <path d=\"M 3513 3500 \nL 2247 1797 \nL 3578 0 \nL 2900 0 \nL 1881 1375 \nL 863 0 \nL 184 0 \nL 1544 1831 \nL 300 3500 \nL 978 3500 \nL 1906 2253 \nL 2834 3500 \nL 3513 3500 \nz\n\" id=\"DejaVuSans-78\" transform=\"scale(0.015625)\"/>\n      <path d=\"M 2194 1759 \nQ 1497 1759 1228 1600 \nQ 959 1441 959 1056 \nQ 959 750 1161 570 \nQ 1363 391 1709 391 \nQ 2188 391 2477 730 \nQ 2766 1069 2766 1631 \nL 2766 1759 \nL 2194 1759 \nz\nM 3341 1997 \nL 3341 0 \nL 2766 0 \nL 2766 531 \nQ 2569 213 2275 61 \nQ 1981 -91 1556 -91 \nQ 1019 -91 701 211 \nQ 384 513 384 1019 \nQ 384 1609 779 1909 \nQ 1175 2209 1959 2209 \nL 2766 2209 \nL 2766 2266 \nQ 2766 2663 2505 2880 \nQ 2244 3097 1772 3097 \nQ 1472 3097 1187 3025 \nQ 903 2953 641 2809 \nL 641 3341 \nQ 956 3463 1253 3523 \nQ 1550 3584 1831 3584 \nQ 2591 3584 2966 3190 \nQ 3341 2797 3341 1997 \nz\n\" id=\"DejaVuSans-61\" transform=\"scale(0.015625)\"/>\n      <path d=\"M 3328 2828 \nQ 3544 3216 3844 3400 \nQ 4144 3584 4550 3584 \nQ 5097 3584 5394 3201 \nQ 5691 2819 5691 2113 \nL 5691 0 \nL 5113 0 \nL 5113 2094 \nQ 5113 2597 4934 2840 \nQ 4756 3084 4391 3084 \nQ 3944 3084 3684 2787 \nQ 3425 2491 3425 1978 \nL 3425 0 \nL 2847 0 \nL 2847 2094 \nQ 2847 2600 2669 2842 \nQ 2491 3084 2119 3084 \nQ 1678 3084 1418 2786 \nQ 1159 2488 1159 1978 \nL 1159 0 \nL 581 0 \nL 581 3500 \nL 1159 3500 \nL 1159 2956 \nQ 1356 3278 1631 3431 \nQ 1906 3584 2284 3584 \nQ 2666 3584 2933 3390 \nQ 3200 3197 3328 2828 \nz\n\" id=\"DejaVuSans-6d\" transform=\"scale(0.015625)\"/>\n      <path d=\"M 1159 525 \nL 1159 -1331 \nL 581 -1331 \nL 581 3500 \nL 1159 3500 \nL 1159 2969 \nQ 1341 3281 1617 3432 \nQ 1894 3584 2278 3584 \nQ 2916 3584 3314 3078 \nQ 3713 2572 3713 1747 \nQ 3713 922 3314 415 \nQ 2916 -91 2278 -91 \nQ 1894 -91 1617 61 \nQ 1341 213 1159 525 \nz\nM 3116 1747 \nQ 3116 2381 2855 2742 \nQ 2594 3103 2138 3103 \nQ 1681 3103 1420 2742 \nQ 1159 2381 1159 1747 \nQ 1159 1113 1420 752 \nQ 1681 391 2138 391 \nQ 2594 391 2855 752 \nQ 3116 1113 3116 1747 \nz\n\" id=\"DejaVuSans-70\" transform=\"scale(0.015625)\"/>\n      <path d=\"M 603 4863 \nL 1178 4863 \nL 1178 0 \nL 603 0 \nL 603 4863 \nz\n\" id=\"DejaVuSans-6c\" transform=\"scale(0.015625)\"/>\n     </defs>\n     <use xlink:href=\"#DejaVuSans-4e\"/>\n     <use x=\"74.804688\" xlink:href=\"#DejaVuSans-65\"/>\n     <use x=\"136.328125\" xlink:href=\"#DejaVuSans-77\"/>\n     <use x=\"218.115234\" xlink:href=\"#DejaVuSans-20\"/>\n     <use x=\"249.902344\" xlink:href=\"#DejaVuSans-65\"/>\n     <use x=\"309.675781\" xlink:href=\"#DejaVuSans-78\"/>\n     <use x=\"368.855469\" xlink:href=\"#DejaVuSans-61\"/>\n     <use x=\"430.134766\" xlink:href=\"#DejaVuSans-6d\"/>\n     <use x=\"527.546875\" xlink:href=\"#DejaVuSans-70\"/>\n     <use x=\"591.023438\" xlink:href=\"#DejaVuSans-6c\"/>\n     <use x=\"618.806641\" xlink:href=\"#DejaVuSans-65\"/>\n    </g>\n   </g>\n  </g>\n </g>\n <defs>\n  <clipPath id=\"p26b5f2752a\">\n   <rect height=\"434.88\" width=\"558\" x=\"26.925\" y=\"7.2\"/>\n  </clipPath>\n </defs>\n</svg>\n",
      "text/plain": [
       "<Figure size 720x576 with 1 Axes>"
      ]
     },
     "metadata": {
      "needs_background": "light"
     },
     "output_type": "display_data"
    }
   ],
   "source": [
    "x_new = np.array([1.5, 6.5])\n",
    "\n",
    "plt.figure(figsize=(10, 8))\n",
    "plt.scatter(X[:,0], X[:,1], marker='o', c=y, s=200, edgecolors='k', cmap='RdBu')\n",
    "\n",
    "plt.scatter(x_new[0], x_new[1], marker='o', c='green', s=250, edgecolors='k', alpha=0.8)\n",
    "plt.annotate('New example', xy=x_new, xytext=(-30,120),\n",
    "            textcoords='offset points', arrowprops=dict(facecolor='black', shrink=0.05), fontsize=24)\n",
    "plt.show()"
   ]
  },
  {
   "cell_type": "markdown",
   "metadata": {},
   "source": [
    "Since the data point is close to Gaussian distribution with mean [5,5], we will get the label of that class."
   ]
  },
  {
   "cell_type": "code",
   "execution_count": 25,
   "metadata": {},
   "outputs": [
    {
     "data": {
      "text/plain": [
       "array([[9.99996296e-01, 3.70449944e-06]])"
      ]
     },
     "execution_count": 25,
     "metadata": {},
     "output_type": "execute_result"
    }
   ],
   "source": [
    "gaussian_nb.predict_proba(np.array([x_new]))"
   ]
  },
  {
   "cell_type": "markdown",
   "metadata": {},
   "source": [
    "Observe that the probability of the new example belonging to class 0, which has mean of [5,5] is 0.99, much larger than the other class and hence it is assigned class label 0."
   ]
  },
  {
   "cell_type": "markdown",
   "metadata": {},
   "source": [
    "### Multiclass classification\n",
    "Our implementation also works for multi-class case. Here's the demo.\n",
    "- We generate 100 examples from three classes with means [5, 5],[10, 10] and [20, 20].\n",
    "- Each example has two features."
   ]
  },
  {
   "cell_type": "code",
   "execution_count": 26,
   "metadata": {},
   "outputs": [],
   "source": [
    "# generate synthetic data with three classes\n",
    "# Each example is represented with two features\n",
    "X, y = make_blobs(n_samples = 100,\n",
    "                  n_features = 2,\n",
    "                  centers = [[5,5],[10,10], [20, 20]],\n",
    "                  cluster_std = 1.5,\n",
    "                  random_state = 3)\n",
    "\n",
    "X_train, X_test, y_train, y_test = train_test_split(X, y, test_size=0.2, random_state=123)"
   ]
  },
  {
   "cell_type": "markdown",
   "metadata": {},
   "source": [
    "Let's estimate the parameters of Gaussian distributions."
   ]
  },
  {
   "cell_type": "code",
   "execution_count": 27,
   "metadata": {},
   "outputs": [
    {
     "name": "stdout",
     "output_type": "stream",
     "text": [
      "Mean:  [[ 4.94844927  4.67947138]\n",
      " [ 9.62097704 10.49990402]\n",
      " [19.63832097 19.94706375]]\n",
      "Variance:  [[1.99332345 2.36976247]\n",
      " [1.68415535 2.25596351]\n",
      " [1.79203315 1.24939267]]\n",
      "Priors:  [0.3375 0.35   0.3125]\n"
     ]
    }
   ],
   "source": [
    "gaussian_nb_multiclass = GaussianNB()\n",
    "gaussian_nb_multiclass.fit(X_train, y_train)"
   ]
  },
  {
   "cell_type": "markdown",
   "metadata": {},
   "source": [
    "Let's use the estimated parameters to make prediction on test examples and generate the classification report"
   ]
  },
  {
   "cell_type": "code",
   "execution_count": 28,
   "metadata": {},
   "outputs": [
    {
     "name": "stdout",
     "output_type": "stream",
     "text": [
      "              precision    recall  f1-score   support\n",
      "\n",
      "           0       1.00      1.00      1.00         7\n",
      "           1       1.00      1.00      1.00         5\n",
      "           2       1.00      1.00      1.00         8\n",
      "\n",
      "    accuracy                           1.00        20\n",
      "   macro avg       1.00      1.00      1.00        20\n",
      "weighted avg       1.00      1.00      1.00        20\n",
      "\n"
     ]
    }
   ],
   "source": [
    "print(classification_report(y_test, gaussian_nb_multiclass.predict(X_test)))"
   ]
  },
  {
   "cell_type": "markdown",
   "metadata": {},
   "source": [
    "Finally predict probability of each test example belonging to three different classes."
   ]
  },
  {
   "cell_type": "code",
   "execution_count": 29,
   "metadata": {},
   "outputs": [
    {
     "data": {
      "text/plain": [
       "array([[1.02996770e-47, 2.67740135e-24, 1.00000000e+00],\n",
       "       [5.00111567e-05, 9.99949989e-01, 6.51529293e-32],\n",
       "       [9.99999999e-01, 9.45325297e-10, 1.33290144e-78],\n",
       "       [1.00000000e+00, 6.49743430e-12, 7.70260328e-90],\n",
       "       [1.50617094e-52, 5.94123831e-27, 1.00000000e+00],\n",
       "       [3.77917160e-47, 9.99218112e-23, 1.00000000e+00],\n",
       "       [5.30598294e-33, 9.05195020e-13, 1.00000000e+00],\n",
       "       [6.63950534e-07, 9.99999336e-01, 1.42699786e-26],\n",
       "       [3.57244754e-61, 3.86494439e-34, 1.00000000e+00],\n",
       "       [9.70872284e-06, 9.99990291e-01, 5.02104511e-31],\n",
       "       [9.99982252e-01, 1.77477098e-05, 2.51366893e-63],\n",
       "       [3.93493321e-39, 5.51495730e-18, 1.00000000e+00],\n",
       "       [1.00000000e+00, 4.72574372e-11, 1.19906531e-79],\n",
       "       [1.19575291e-47, 3.45203067e-24, 1.00000000e+00],\n",
       "       [9.09245241e-01, 9.07547595e-02, 1.30885257e-46],\n",
       "       [9.99999997e-01, 2.64110663e-09, 3.37901343e-80],\n",
       "       [9.97572472e-01, 2.42752753e-03, 1.17514148e-55],\n",
       "       [1.12896485e-05, 9.99988710e-01, 3.59429638e-31],\n",
       "       [9.18841787e-06, 9.99990812e-01, 2.02077792e-29],\n",
       "       [4.87507189e-58, 6.38893442e-32, 1.00000000e+00]])"
      ]
     },
     "execution_count": 29,
     "metadata": {},
     "output_type": "execute_result"
    }
   ],
   "source": [
    "gaussian_nb_multiclass.predict_proba(X_test)"
   ]
  },
  {
   "cell_type": "markdown",
   "metadata": {},
   "source": [
    "## Lecture 6.5: Multinomial Naive Bayes Implementation\n",
    "### Multinomial NB\n",
    "We use the **Multinomial Naive Bayes classifier** for problems like **document classification**.\n",
    "- We represent the $i$-th document with a feature vector $\\textcolor{blue}{\\mathbf{x}^{(i)}}$ containing counts of words in the vocabulary $\\textcolor{blue}{\\{x_1^{(i)}, x_2^{(i)}, x_3^{(i)},...,x_m^{(i)} \\}}$\n",
    "- The sum of all features counts is equal to the total number of words in the document: $\\textcolor{blue}{\\sum_{j=1}^m x_j^{(i)} = l}$\n",
    "\n",
    "In mathematical terms:\n",
    "$$\n",
    "\\large\n",
    "\\begin{align}\n",
    "    \\mathbf{x} | y_r &\\sim \\text{Multinomial}(w_{1y_r}, w_{2y_r},...,w_{my_r}) \\\\\n",
    "    &\\sim \\text{Multinomial}(\\mathbf{w_{y_r}})\n",
    "\\end{align}\n",
    "$$\n",
    "> The **total number of parameters** $\\textcolor{blue}{= m \\times k + k}$ where\n",
    ">  - $m \\times k$ is the total number of features for $k$ multinomial distributions and \n",
    ">  - $k$ is the total number of priors"
   ]
  },
  {
   "cell_type": "markdown",
   "metadata": {},
   "source": [
    "### Parameter estimation\n",
    "The $j$-th component of parameter vector $\\mathbf{w_{y_r}}$ for **multinomial distribution** of class y_r is calculated as follows:\n",
    "$$\n",
    "\\large\n",
    "w_{jy_r} = \\frac{\\textcolor{blue}{\\sum_{i=1}^n \\mathbb{1}(y^{(i)} = y_r)x_j^{(i)}}}{\\textcolor{red}{\\sum_{i=1}^n \\mathbb{1}(y^{(i)} = y_r)\\sum_{j=1}^m x_j^{(i)}}}\n",
    "$$\n",
    "Here,\n",
    "- The numerator is **sum of feature** $x_j$ for **all examples** from class $y_r$.\n",
    "- The denominator is the total count of features from all the examples from class $y_r$.\n",
    "\n",
    "With **Laplace Correction**:\n",
    "$$\n",
    "\\large\n",
    "w_{jy_r} = \\frac{\\textcolor{blue}{\\sum_{i=1}^n \\mathbb{1}(y^{(i)} = y_r)x_j^{(i)}} + \\alpha}{\\textcolor{red}{\\sum_{i=1}^n \\mathbb{1}(y^{(i)} = y_r)\\sum_{j=1}^m x_j^{(i)}} + m\\alpha}\n",
    "$$\n",
    "Note that we add $\\alpha$ in the numerator and $m\\alpha$ in the denominator, correction of $\\alpha$ for every feature.\n",
    "> Since we are using Laplace correction, $\\alpha = 1$"
   ]
  },
  {
   "cell_type": "markdown",
   "metadata": {},
   "source": [
    "### Inference\n",
    "In log space the calculation is performed as follows:\n",
    "- In the numerator, we first **multiply** the **count matrix** with **transpose of log of weight vector** and **add** to the **log of prior probabilities**. And **exponentiate** the resulting value.\n",
    "- In the denominator, we perform the same calculation as numerator but for **different class labels**. And then **sum** them up.\n",
    "- The denominator normalizes numerator between 0 and 1m thus giving  us the posterior probability of label $y_c$ for the given count vector $\\mathbf{x}$.\n",
    "$$\n",
    "\\large\n",
    "p(y_c|\\mathbf{x};l, \\mathbf{w_{y_c}}) = \\frac{\\exp \\left(\\mathbf{X}(\\log \\mathbf{w_{y_c}})^T + \\log p(y_c) \\right)}{\\sum_r \\exp \\left(\\mathbf{X}(\\log \\mathbf{w_{y_r}})^T + \\log p(y_r) \\right)}\n",
    "$$"
   ]
  },
  {
   "cell_type": "markdown",
   "metadata": {},
   "source": [
    "### Implementation"
   ]
  },
  {
   "cell_type": "code",
   "execution_count": 30,
   "metadata": {},
   "outputs": [],
   "source": [
    "class MultinomialNB (object):    \n",
    "    def fit(self, X, y, alpha=1):\n",
    "        '''\n",
    "        Implements the parameter estimation for multinomial NB\n",
    "        '''\n",
    "        n_samples , n_features = X.shape\n",
    "        self._classes = np.unique(y)\n",
    "        n_classes = len(self._classes)\n",
    "\n",
    "        # Calculate the parameters of k multinomial distributions and priors\n",
    "        self.w = np.zeros((n_classes, n_features), dtype = np.float64)\n",
    "        self.w_priors = np.zeros(n_classes, dtype = np.float64)\n",
    "\n",
    "        for idx, c in enumerate(self._classes):\n",
    "            X_c = X[y == c]\n",
    "            \n",
    "            # Get the total count of features for class c.\n",
    "            total_count = np.sum(np.sum(X_c, axis=1))\n",
    "\n",
    "            # Estimate the parametes of multinomial distribution for class c\n",
    "            self.w[idx, :] = (np.sum(X_c, axis=0) + alpha)/(total_count + alpha * n_features)\n",
    "\n",
    "            # Estimate the class prior for class c.\n",
    "            self.w_priors[idx] = (X_c.shape[0] + alpha)/float(n_samples * alpha + n_classes)\n",
    "        \n",
    "    def log_likelihood_prior_prod(self, X):\n",
    "        '''\n",
    "        Calculates log of product of likelihood and prior\n",
    "        '''\n",
    "        return X @ (np.log(self.w).T) + np.log(self.w_priors)\n",
    "    \n",
    "    def predict(self, X):\n",
    "        '''\n",
    "        predicts class for input examples.\n",
    "        '''\n",
    "        return np.argmax(self.log_likelihood_prior_prod(X), axis=1)\n",
    "    \n",
    "    def predict_proba(self, X):\n",
    "        '''\n",
    "        Calculates the probability of examples belonging to different classes.\n",
    "        '''\n",
    "        q = self.log_likelihood_prior_prod(X)\n",
    "        return np.exp(q)/np.expand_dims(np.sum(np.exp(q), axis=1), axis=1)"
   ]
  },
  {
   "cell_type": "markdown",
   "metadata": {},
   "source": [
    "### Demo\n",
    "Our implementation works for both binary as well as multi-class settings."
   ]
  },
  {
   "cell_type": "markdown",
   "metadata": {},
   "source": [
    "### Binary Setup\n",
    "Generate the synthetic data for two classes and each example with 5 features"
   ]
  },
  {
   "cell_type": "code",
   "execution_count": 31,
   "metadata": {},
   "outputs": [],
   "source": [
    "rng = np.random.RandomState(1)\n",
    "X = rng.randint(5, size=(1000, 5))\n",
    "y = rng.randint(2, size=(1000, ))\n",
    "\n",
    "X_train, X_test, y_train, y_test = train_test_split(X, y)"
   ]
  },
  {
   "cell_type": "code",
   "execution_count": 32,
   "metadata": {},
   "outputs": [
    {
     "name": "stdout",
     "output_type": "stream",
     "text": [
      "Shape of feature matrix: (750, 5)\n",
      "Shape of label vector: (750,)\n"
     ]
    }
   ],
   "source": [
    "print('Shape of feature matrix:', X_train.shape)\n",
    "print('Shape of label vector:', y_train.shape)"
   ]
  },
  {
   "cell_type": "markdown",
   "metadata": {},
   "source": [
    "Estimate the parameters of multinomial NB"
   ]
  },
  {
   "cell_type": "code",
   "execution_count": 33,
   "metadata": {},
   "outputs": [
    {
     "name": "stdout",
     "output_type": "stream",
     "text": [
      "Prior: [0.48138298 0.51861702]\n",
      "Parameters of multinomial distribution: \n",
      " [[0.21696801 0.18331015 0.19721836 0.19694019 0.20556328]\n",
      " [0.20962459 0.19803477 0.19753086 0.20080625 0.19400353]]\n"
     ]
    }
   ],
   "source": [
    "multinomial_nb = MultinomialNB()\n",
    "multinomial_nb.fit(X_train, y_train)\n",
    "\n",
    "# Examine the parameters of multinomial NB\n",
    "print('Prior:', multinomial_nb.w_priors)\n",
    "print('Parameters of multinomial distribution: \\n', multinomial_nb.w)"
   ]
  },
  {
   "cell_type": "markdown",
   "metadata": {},
   "source": [
    "Observe that\n",
    "- Each class is equally likely- each class has a probability of 0.5\n",
    "- Sum of probabilities of different features for each class is 1."
   ]
  },
  {
   "cell_type": "markdown",
   "metadata": {},
   "source": [
    "Let's evalute the classifier:"
   ]
  },
  {
   "cell_type": "code",
   "execution_count": 34,
   "metadata": {},
   "outputs": [
    {
     "name": "stdout",
     "output_type": "stream",
     "text": [
      "              precision    recall  f1-score   support\n",
      "\n",
      "           0       0.55      0.33      0.41       124\n",
      "           1       0.53      0.73      0.61       126\n",
      "\n",
      "    accuracy                           0.53       250\n",
      "   macro avg       0.54      0.53      0.51       250\n",
      "weighted avg       0.54      0.53      0.51       250\n",
      "\n"
     ]
    }
   ],
   "source": [
    "print(classification_report(y_test, multinomial_nb.predict(X_test)))"
   ]
  },
  {
   "cell_type": "markdown",
   "metadata": {},
   "source": [
    "The lower values of precision and recall is due to random assignment of labels in the synthetic data.\n",
    "\n",
    "Let's calculate the probability of each example belonging to both the classes."
   ]
  },
  {
   "cell_type": "code",
   "execution_count": 35,
   "metadata": {},
   "outputs": [
    {
     "data": {
      "text/plain": [
       "array([[0.49996853, 0.50003147],\n",
       "       [0.44208762, 0.55791238],\n",
       "       [0.46741708, 0.53258292],\n",
       "       [0.54002237, 0.45997763],\n",
       "       [0.47019516, 0.52980484]])"
      ]
     },
     "execution_count": 35,
     "metadata": {},
     "output_type": "execute_result"
    }
   ],
   "source": [
    "multinomial_nb.predict_proba(X_test[:5])"
   ]
  },
  {
   "cell_type": "markdown",
   "metadata": {},
   "source": [
    "### MultiClass setup\n",
    "Let's generate data for 3 classes."
   ]
  },
  {
   "cell_type": "code",
   "execution_count": 36,
   "metadata": {},
   "outputs": [],
   "source": [
    "rng = np.random.RandomState(1)\n",
    "X = rng.randint(5, size=(1000, 5))\n",
    "y = rng.randint(3, size=(1000, ))\n",
    "\n",
    "X_train, X_test, y_train, y_test = train_test_split(X, y)"
   ]
  },
  {
   "cell_type": "markdown",
   "metadata": {},
   "source": [
    "Let's estimate the parameters of multinomial naive bayes classifier."
   ]
  },
  {
   "cell_type": "code",
   "execution_count": 37,
   "metadata": {},
   "outputs": [
    {
     "name": "stdout",
     "output_type": "stream",
     "text": [
      "Prior: [0.3439575  0.3439575  0.31208499]\n",
      "Parameters of multinomial distribution: \n",
      " [[0.21388155 0.19841569 0.18860807 0.19803848 0.20105621]\n",
      " [0.21644162 0.18824464 0.19499603 0.19936458 0.20095314]\n",
      " [0.21660346 0.20016856 0.19131901 0.20269701 0.18921197]]\n"
     ]
    }
   ],
   "source": [
    "multinomial_nb = MultinomialNB()\n",
    "multinomial_nb.fit(X_train, y_train)\n",
    "\n",
    "# Examine the parameters of multinomial NB\n",
    "print('Prior:', multinomial_nb.w_priors)\n",
    "print('Parameters of multinomial distribution: \\n', multinomial_nb.w)"
   ]
  },
  {
   "cell_type": "markdown",
   "metadata": {},
   "source": [
    "Let's evaluate the classifier we have learnt"
   ]
  },
  {
   "cell_type": "code",
   "execution_count": 38,
   "metadata": {},
   "outputs": [
    {
     "name": "stdout",
     "output_type": "stream",
     "text": [
      "              precision    recall  f1-score   support\n",
      "\n",
      "           0       0.39      0.46      0.42        89\n",
      "           1       0.38      0.54      0.44        84\n",
      "           2       0.32      0.10      0.16        77\n",
      "\n",
      "    accuracy                           0.38       250\n",
      "   macro avg       0.36      0.37      0.34       250\n",
      "weighted avg       0.36      0.38      0.35       250\n",
      "\n"
     ]
    }
   ],
   "source": [
    "print(classification_report(y_test, multinomial_nb.predict(X_test)))"
   ]
  },
  {
   "cell_type": "markdown",
   "metadata": {},
   "source": [
    "The lower values of precision and recall is due to random assignment of labels in the synthetic data.\n",
    "\n",
    "Finally predict probability for test examples belonging to different classes."
   ]
  },
  {
   "cell_type": "code",
   "execution_count": 39,
   "metadata": {},
   "outputs": [
    {
     "data": {
      "text/plain": [
       "array([[0.34557913, 0.36551273, 0.28890814],\n",
       "       [0.30429314, 0.3552746 , 0.34043226],\n",
       "       [0.35677682, 0.33966033, 0.30356285],\n",
       "       [0.36804952, 0.33094367, 0.3010068 ],\n",
       "       [0.35566394, 0.33080787, 0.31352819]])"
      ]
     },
     "execution_count": 39,
     "metadata": {},
     "output_type": "execute_result"
    }
   ],
   "source": [
    "multinomial_nb.predict_proba(X_test[:5])"
   ]
  }
 ],
 "metadata": {
  "kernelspec": {
   "display_name": "Python 3.9.7 ('base')",
   "language": "python",
   "name": "python3"
  },
  "language_info": {
   "codemirror_mode": {
    "name": "ipython",
    "version": 3
   },
   "file_extension": ".py",
   "mimetype": "text/x-python",
   "name": "python",
   "nbconvert_exporter": "python",
   "pygments_lexer": "ipython3",
   "version": "3.9.7"
  },
  "orig_nbformat": 4,
  "vscode": {
   "interpreter": {
    "hash": "9244b6adea22edad6e19cdea93c196ea7ddff3c1d91dfb077ea542e13d85dd05"
   }
  }
 },
 "nbformat": 4,
 "nbformat_minor": 2
}
