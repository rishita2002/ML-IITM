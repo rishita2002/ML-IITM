{
 "cells": [
  {
   "cell_type": "markdown",
   "metadata": {},
   "source": [
    "## Lecture 9.4: Implementing DT from scratch"
   ]
  },
  {
   "cell_type": "markdown",
   "metadata": {},
   "source": [
    "### Decision Trees\n",
    "\n",
    "Decision Trees are popular **supervised machine learning algorithm** that can be used for both **classification** and **regression** tasks\n",
    "\n",
    "The tree itself is a model in decision trees and we would like to estimate an **optimal tree structure** from the given training data.\n",
    "\n",
    "- The internal nodes contains conditions on features. Depending on the outcome of the comparision, we take an appropriate path in the tree. The process is repeated until we reach a leaf note.\n",
    "- In the case of classification, leaf nodes contain label and in case of regression, the prediction is obtained by taking sample mean of labels of the subset of training present in that leaf node.\n",
    "\n",
    "In this colab, we will implement decision tree for classification with ID3 algorithm"
   ]
  },
  {
   "cell_type": "markdown",
   "metadata": {},
   "source": [
    "#### Importing Libraries"
   ]
  },
  {
   "cell_type": "code",
   "execution_count": 1,
   "metadata": {},
   "outputs": [],
   "source": [
    "import numpy as np\n",
    "import pandas as pd"
   ]
  },
  {
   "cell_type": "code",
   "execution_count": 2,
   "metadata": {},
   "outputs": [
    {
     "data": {
      "text/plain": [
       "2.220446049250313e-16"
      ]
     },
     "execution_count": 2,
     "metadata": {},
     "output_type": "execute_result"
    }
   ],
   "source": [
    "eps = np.finfo(float).eps\n",
    "eps"
   ]
  },
  {
   "cell_type": "markdown",
   "metadata": {},
   "source": [
    "Here `eps` is the smallest respectable number. At times we get `log(0)` or `0` in the denominator, to avoid that we are going to use this."
   ]
  },
  {
   "cell_type": "markdown",
   "metadata": {},
   "source": [
    "#### Classification Demo\n",
    "In this case we'll use a synthetic data for classification data."
   ]
  },
  {
   "cell_type": "code",
   "execution_count": 3,
   "metadata": {},
   "outputs": [
    {
     "data": {
      "text/html": [
       "<div>\n",
       "<style scoped>\n",
       "    .dataframe tbody tr th:only-of-type {\n",
       "        vertical-align: middle;\n",
       "    }\n",
       "\n",
       "    .dataframe tbody tr th {\n",
       "        vertical-align: top;\n",
       "    }\n",
       "\n",
       "    .dataframe thead th {\n",
       "        text-align: right;\n",
       "    }\n",
       "</style>\n",
       "<table border=\"1\" class=\"dataframe\">\n",
       "  <thead>\n",
       "    <tr style=\"text-align: right;\">\n",
       "      <th></th>\n",
       "      <th>Outlook</th>\n",
       "      <th>Temperature</th>\n",
       "      <th>Humidity</th>\n",
       "      <th>Wind</th>\n",
       "      <th>Play</th>\n",
       "    </tr>\n",
       "  </thead>\n",
       "  <tbody>\n",
       "    <tr>\n",
       "      <th>0</th>\n",
       "      <td>Sunny</td>\n",
       "      <td>Hot</td>\n",
       "      <td>High</td>\n",
       "      <td>Weak</td>\n",
       "      <td>No</td>\n",
       "    </tr>\n",
       "    <tr>\n",
       "      <th>1</th>\n",
       "      <td>Sunny</td>\n",
       "      <td>Hot</td>\n",
       "      <td>High</td>\n",
       "      <td>Strong</td>\n",
       "      <td>No</td>\n",
       "    </tr>\n",
       "    <tr>\n",
       "      <th>2</th>\n",
       "      <td>Overcast</td>\n",
       "      <td>Hot</td>\n",
       "      <td>High</td>\n",
       "      <td>Weak</td>\n",
       "      <td>Yes</td>\n",
       "    </tr>\n",
       "    <tr>\n",
       "      <th>3</th>\n",
       "      <td>Rain</td>\n",
       "      <td>Mild</td>\n",
       "      <td>High</td>\n",
       "      <td>Weak</td>\n",
       "      <td>Yes</td>\n",
       "    </tr>\n",
       "    <tr>\n",
       "      <th>4</th>\n",
       "      <td>Rain</td>\n",
       "      <td>Cool</td>\n",
       "      <td>Normal</td>\n",
       "      <td>Weak</td>\n",
       "      <td>Yes</td>\n",
       "    </tr>\n",
       "  </tbody>\n",
       "</table>\n",
       "</div>"
      ],
      "text/plain": [
       "    Outlook Temperature Humidity    Wind Play\n",
       "0     Sunny         Hot     High    Weak   No\n",
       "1     Sunny         Hot     High  Strong   No\n",
       "2  Overcast         Hot     High    Weak  Yes\n",
       "3      Rain        Mild     High    Weak  Yes\n",
       "4      Rain        Cool   Normal    Weak  Yes"
      ]
     },
     "execution_count": 3,
     "metadata": {},
     "output_type": "execute_result"
    }
   ],
   "source": [
    "df = pd.read_csv('data/weather_play.csv') # This is the data shown in the slides\n",
    "df.head()"
   ]
  },
  {
   "cell_type": "code",
   "execution_count": 4,
   "metadata": {},
   "outputs": [
    {
     "data": {
      "text/plain": [
       "(14, 5)"
      ]
     },
     "execution_count": 4,
     "metadata": {},
     "output_type": "execute_result"
    }
   ],
   "source": [
    "df.shape"
   ]
  },
  {
   "cell_type": "code",
   "execution_count": 5,
   "metadata": {},
   "outputs": [
    {
     "data": {
      "text/plain": [
       "array([['Sunny', 'Hot', 'High', 'Weak', 'No'],\n",
       "       ['Sunny', 'Hot', 'High', 'Strong', 'No'],\n",
       "       ['Overcast', 'Hot', 'High', 'Weak', 'Yes'],\n",
       "       ['Rain', 'Mild', 'High', 'Weak', 'Yes'],\n",
       "       ['Rain', 'Cool', 'Normal', 'Weak', 'Yes'],\n",
       "       ['Rain', 'Cool', 'Normal', 'Strong', 'No'],\n",
       "       ['Overcast', 'Cool', 'Normal', 'Strong', 'Yes'],\n",
       "       ['Sunny', 'Mild', 'High', 'Weak', 'No'],\n",
       "       ['Sunny', 'Cool', 'Normal', 'Weak', 'Yes'],\n",
       "       ['Rain', 'Mild', 'Normal', 'Weak', 'Yes'],\n",
       "       ['Sunny', 'Mild', 'Normal', 'Strong', 'Yes'],\n",
       "       ['Overcast', 'Mild', 'High', 'Strong', 'Yes'],\n",
       "       ['Overcast', 'Hot', 'Normal', 'Weak', 'Yes'],\n",
       "       ['Rain', 'Mild', 'High', 'Strong', 'No']], dtype=object)"
      ]
     },
     "execution_count": 5,
     "metadata": {},
     "output_type": "execute_result"
    }
   ],
   "source": [
    "df.values"
   ]
  },
  {
   "cell_type": "code",
   "execution_count": 6,
   "metadata": {},
   "outputs": [
    {
     "data": {
      "text/plain": [
       "Index(['Outlook', 'Temperature', 'Humidity', 'Wind', 'Play'], dtype='object')"
      ]
     },
     "execution_count": 6,
     "metadata": {},
     "output_type": "execute_result"
    }
   ],
   "source": [
    "df.keys()"
   ]
  },
  {
   "cell_type": "code",
   "execution_count": 7,
   "metadata": {},
   "outputs": [
    {
     "data": {
      "text/plain": [
       "'Play'"
      ]
     },
     "execution_count": 7,
     "metadata": {},
     "output_type": "execute_result"
    }
   ],
   "source": [
    "target = df.keys()[-1] # Name of the target column\n",
    "target"
   ]
  },
  {
   "cell_type": "code",
   "execution_count": 8,
   "metadata": {},
   "outputs": [
    {
     "data": {
      "text/plain": [
       "Index(['Outlook', 'Temperature', 'Humidity', 'Wind'], dtype='object')"
      ]
     },
     "execution_count": 8,
     "metadata": {},
     "output_type": "execute_result"
    }
   ],
   "source": [
    "df.keys()[:-1]"
   ]
  },
  {
   "cell_type": "markdown",
   "metadata": {},
   "source": [
    "Let's check the total number of labels"
   ]
  },
  {
   "cell_type": "code",
   "execution_count": 9,
   "metadata": {},
   "outputs": [
    {
     "data": {
      "text/plain": [
       "array(['No', 'Yes'], dtype=object)"
      ]
     },
     "execution_count": 9,
     "metadata": {},
     "output_type": "execute_result"
    }
   ],
   "source": [
    "df[target].unique()"
   ]
  },
  {
   "cell_type": "markdown",
   "metadata": {},
   "source": [
    "There are two labels `Yes` and `No`"
   ]
  },
  {
   "cell_type": "code",
   "execution_count": 10,
   "metadata": {},
   "outputs": [
    {
     "name": "stdout",
     "output_type": "stream",
     "text": [
      "No\n",
      "Yes\n"
     ]
    }
   ],
   "source": [
    "print(df[target].unique()[0])\n",
    "print(df[target].unique()[1])"
   ]
  },
  {
   "cell_type": "code",
   "execution_count": 12,
   "metadata": {},
   "outputs": [
    {
     "name": "stdout",
     "output_type": "stream",
     "text": [
      "5\n",
      "9\n"
     ]
    }
   ],
   "source": [
    "print(df[target].value_counts()[df[target].unique()[0]])\n",
    "print(df[target].value_counts()[df[target].unique()[1]])"
   ]
  },
  {
   "cell_type": "markdown",
   "metadata": {},
   "source": [
    "9 out of 14 examples have `Yes` and 5 out of 14 examples have label `No`"
   ]
  },
  {
   "cell_type": "markdown",
   "metadata": {},
   "source": [
    "#### Calculating entropy of the whole dataset"
   ]
  },
  {
   "cell_type": "code",
   "execution_count": 13,
   "metadata": {},
   "outputs": [
    {
     "data": {
      "text/plain": [
       "0.9402859586706311"
      ]
     },
     "execution_count": 13,
     "metadata": {},
     "output_type": "execute_result"
    }
   ],
   "source": [
    "def find_entropy_whole(df):\n",
    "    # Last column in dataframe is the target variable.\n",
    "    target = df.keys()[-1]\n",
    "\n",
    "    # Initialization\n",
    "    overall_entropy = 0\n",
    "\n",
    "    # possible values of the target\n",
    "    values_in_target = df[target].unique()\n",
    "\n",
    "    for value in values_in_target:\n",
    "        p = df[target].value_counts()[value]/len(df[target])\n",
    "        overall_entropy += -p*np.log2(p)\n",
    "    \n",
    "    return overall_entropy\n",
    "\n",
    "find_entropy_whole(df)"
   ]
  },
  {
   "cell_type": "markdown",
   "metadata": {},
   "source": [
    "#### Calculating entropy of an attribute"
   ]
  },
  {
   "cell_type": "code",
   "execution_count": 14,
   "metadata": {},
   "outputs": [],
   "source": [
    "def find_entropy_of_attribute(df, attribute):\n",
    "\n",
    "    # last column in dataframe is the target variable\n",
    "    target = df.keys()[-1]\n",
    "    \n",
    "    values_in_target = df[target].unique()\n",
    "\n",
    "    # This gives different features in that attribute (\n",
    "    #   like  'hot', 'cold' in temperature)\n",
    "    values_in_attribute = df[attribute].unique()\n",
    "\n",
    "    # Initialize attribute's entropy\n",
    "    entropy_attribute = 0\n",
    "\n",
    "\n",
    "    for value_in_attribute in values_in_attribute:\n",
    "        overall_entropy = 0\n",
    "        for value_in_target in values_in_target:\n",
    "            num = len(df[attribute][df[attribute] == value_in_attribute][df[target] == value_in_target])\n",
    "            den = len(df[attribute][df[attribute] == value_in_attribute])\n",
    "            p = num/(den + eps)\n",
    "            overall_entropy += -p*np.log2(p+eps)\n",
    "        p2 = den/len(df)\n",
    "        entropy_attribute += -p2*overall_entropy\n",
    "    return abs(entropy_attribute)"
   ]
  },
  {
   "cell_type": "markdown",
   "metadata": {},
   "source": [
    "Let's compute entropy for different attributes"
   ]
  },
  {
   "cell_type": "code",
   "execution_count": 15,
   "metadata": {},
   "outputs": [
    {
     "name": "stdout",
     "output_type": "stream",
     "text": [
      "Entropy of attribute 'Outlook' is : 0.6935361388961914\n",
      "Entropy of attribute 'Temperature' is : 0.9110633930116756\n",
      "Entropy of attribute 'Humidity' is : 0.7884504573082889\n",
      "Entropy of attribute 'Wind' is : 0.892158928262361\n"
     ]
    }
   ],
   "source": [
    "for i_attribute in df.keys()[:-1]:\n",
    "    print(f'Entropy of attribute \\'{i_attribute}\\' is :',\n",
    "            find_entropy_of_attribute(df, i_attribute))"
   ]
  },
  {
   "cell_type": "markdown",
   "metadata": {},
   "source": [
    "#### Finding the best attribute"
   ]
  },
  {
   "cell_type": "code",
   "execution_count": 16,
   "metadata": {},
   "outputs": [
    {
     "data": {
      "text/plain": [
       "'Outlook'"
      ]
     },
     "execution_count": 16,
     "metadata": {},
     "output_type": "execute_result"
    }
   ],
   "source": [
    "def find_best_attribute_to_divide(df):\n",
    "    # Information gain\n",
    "    IG = []\n",
    "\n",
    "    # All column names\n",
    "    all_attribute_names = df.keys()[:-1]\n",
    "\n",
    "    for attribute in all_attribute_names:\n",
    "        # Compute information gain for every attribute\n",
    "        IG.append(find_entropy_whole(df) - find_entropy_of_attribute(df, attribute))\n",
    "\n",
    "    # Get the index of attribute with best information gain\n",
    "    index_of_attribute_with_max_IG = np.argmax(IG)\n",
    "    best_attribute = all_attribute_names[index_of_attribute_with_max_IG]\n",
    "\n",
    "    return best_attribute\n",
    "\n",
    "find_best_attribute_to_divide(df) "
   ]
  },
  {
   "cell_type": "markdown",
   "metadata": {},
   "source": [
    "#### Building Decision Tree"
   ]
  },
  {
   "cell_type": "code",
   "execution_count": 19,
   "metadata": {},
   "outputs": [],
   "source": [
    "def buildTree(df, tree=None):\n",
    "\n",
    "    # last column in dataframe\n",
    "    target = df.keys()[-1]\n",
    "\n",
    "    # Here we build our decision tree\n",
    "\n",
    "    # Get attribute with maximum information gain\n",
    "    node = find_best_attribute_to_divide(df)\n",
    "\n",
    "    # Get distinct value of that attribute\n",
    "    attValue = np.unique(df[node])\n",
    "\n",
    "    # Create an array dictionary to create tree\n",
    "    if tree is None:\n",
    "        tree = {}\n",
    "        tree[node] = {}\n",
    "    \n",
    "    # We make a loop to contruct a tree by calling this function recursively\n",
    "    # In this we check if the subset is pure and stops if it is pure\n",
    "    for value in attValue:\n",
    "\n",
    "        subtable = df[df[node] == value].reset_index(drop=True)\n",
    "        clValue, counts = np.unique(subtable['Play'], return_counts=True)\n",
    "\n",
    "        if len(counts) == 1: # Checking purity of the subset\n",
    "            tree[node][value] = clValue[0]\n",
    "        else:\n",
    "            tree[node][value] = buildTree(subtable) # Calling the function recursively\n",
    "    \n",
    "    return tree"
   ]
  },
  {
   "cell_type": "code",
   "execution_count": 20,
   "metadata": {},
   "outputs": [
    {
     "data": {
      "text/plain": [
       "{'Outlook': {'Overcast': 'Yes',\n",
       "  'Rain': {'Wind': {'Strong': 'No', 'Weak': 'Yes'}},\n",
       "  'Sunny': {'Humidity': {'High': 'No', 'Normal': 'Yes'}}}}"
      ]
     },
     "execution_count": 20,
     "metadata": {},
     "output_type": "execute_result"
    }
   ],
   "source": [
    "buildTree(df)"
   ]
  },
  {
   "cell_type": "markdown",
   "metadata": {},
   "source": [
    "ID3 in its pure form performs no backtracking in its search. Once it selects an attribute to test at a particular level in the tree, it never backtracks to reconsider this choice. Therefore, it is susceptible to the usual risks of hill-climbing search without backtracking: converging to locally optimal solutions that are not globally optimal"
   ]
  },
  {
   "cell_type": "code",
   "execution_count": null,
   "metadata": {},
   "outputs": [],
   "source": []
  }
 ],
 "metadata": {
  "kernelspec": {
   "display_name": "Python 3.9.12 ('base')",
   "language": "python",
   "name": "python3"
  },
  "language_info": {
   "codemirror_mode": {
    "name": "ipython",
    "version": 3
   },
   "file_extension": ".py",
   "mimetype": "text/x-python",
   "name": "python",
   "nbconvert_exporter": "python",
   "pygments_lexer": "ipython3",
   "version": "3.9.12"
  },
  "orig_nbformat": 4,
  "vscode": {
   "interpreter": {
    "hash": "9244b6adea22edad6e19cdea93c196ea7ddff3c1d91dfb077ea542e13d85dd05"
   }
  }
 },
 "nbformat": 4,
 "nbformat_minor": 2
}
