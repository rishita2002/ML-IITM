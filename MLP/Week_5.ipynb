{
  "cells": [
    {
      "cell_type": "markdown",
      "metadata": {
        "id": "jyPVJJAqPoOa"
      },
      "source": [
        "## Lecture 5.4: Binary class Image Classification with Perceptron\n",
        "### Introduction\n",
        "- Over the past four weeks we explored various data preprocessing techniques and solved some regression problems using linear and logistic regression models. The other side of the supervised learning paragidm is classification problems.\n",
        "- To solve such problems we are going to consider image classification as a running example and solving it using `Perceptron()` model"
      ]
    },
    {
      "cell_type": "markdown",
      "metadata": {
        "id": "xAmJEZZkPoOg"
      },
      "source": [
        "### Imports\n",
        "What is the first step?.\n",
        "- Import all the necessary packages. For classification problems, we need to import classes and utilities from `sklearn.linear_model`.\n",
        "  - This module has implementations for different classification models like `Perceptron, LogisticRegression, svm` and `kvm`\n",
        "- We also need to import a bunch of model selection utilities from `sklearn.model_selection` module and metrics from `sklearn.metrics` module.\n",
        "\n",
        "The data preprocessing utilities are imported from `sklearn.preprocessing` modules"
      ]
    },
    {
      "cell_type": "code",
      "execution_count": null,
      "metadata": {
        "id": "JUG-sWtUPoOh"
      },
      "outputs": [],
      "source": [
        "# Common imports\n",
        "import numpy as np\n",
        "import os\n",
        "import io\n",
        "import warnings\n",
        "\n",
        "#sklearn specific imports\n",
        "from sklearn.datasets import fetch_openml\n",
        "from sklearn.preprocessing import MinMaxScaler\n",
        "from sklearn.pipeline import Pipeline\n",
        "from sklearn.dummy import DummyClassifier\n",
        "from sklearn.linear_model import Perceptron\n",
        "from sklearn.metrics import hinge_loss\n",
        "from sklearn.metrics import ConfusionMatrixDisplay, confusion_matrix, precision_recall_curve\n",
        "from sklearn.metrics import precision_score, recall_score, classification_report\n",
        "from sklearn.metrics import make_scorer\n",
        "from sklearn.model_selection import cross_validate, cross_val_predict, GridSearchCV\n",
        "from pprint import pprint\n",
        "\n",
        "# To plot pretty figures\n",
        "import matplotlib.pyplot as plt\n",
        "import seaborn as sns\n",
        "\n",
        "%matplotlib inline"
      ]
    },
    {
      "cell_type": "markdown",
      "metadata": {
        "id": "RfagQKoHPoOk"
      },
      "source": [
        "### Handwritten Digit Classification\n",
        "- We are going to use **perceptron classifier** to classify(recognize) given digit images. Since a single perceptron could be only used for binary classification, we consider only two classes in the first half, Eventually we extend it to multi-class setting.\n",
        "\n",
        "\n",
        "- Suppose we want to recognize whether the given image is of digit zero or not (digits other than zero). Then the problem could be cast as binary classification problem.\n",
        "\n",
        "\n",
        "- The first step is to create a dataset that contains the collection of digits(also called examples/samples), written by humans. Then each image should be labelled properly.\n",
        "\n",
        "\n",
        "- Fortunately, we have a standard benchmark dataset called **MNIST**. Let's import that dataset."
      ]
    },
    {
      "cell_type": "markdown",
      "metadata": {
        "id": "l43Ew4CDPoOn"
      },
      "source": [
        "### Data loading and splitting"
      ]
    },
    {
      "cell_type": "code",
      "execution_count": null,
      "metadata": {
        "id": "N6OSiPJJPoOn"
      },
      "outputs": [],
      "source": [
        "X, y = fetch_openml('mnist_784', version=1, return_X_y=True)\n",
        "#it returns Data and label as pandas dataframe"
      ]
    },
    {
      "cell_type": "markdown",
      "metadata": {
        "id": "sGiaDYu4PoOo"
      },
      "source": [
        "The data matrix $X$ and the respective label vector $y$ need to be converted to the numpy array by calling a `to_numpy` method."
      ]
    },
    {
      "cell_type": "code",
      "execution_count": null,
      "metadata": {
        "id": "UnkA5waGPoOp"
      },
      "outputs": [],
      "source": [
        "X = X.to_numpy()\n",
        "y = y.to_numpy()"
      ]
    },
    {
      "cell_type": "markdown",
      "metadata": {
        "id": "sz3GcLNsPoOp"
      },
      "source": [
        "- Let's get some more information like number of features, number of classes, about the dataset.\n",
        "- Observe that the labels are string datatype not integers."
      ]
    },
    {
      "cell_type": "code",
      "execution_count": null,
      "metadata": {
        "colab": {
          "base_uri": "https://localhost:8080/"
        },
        "id": "VuKdMXH8PoOq",
        "outputId": "8f224f8a-bbbf-4641-ba4b-c3ea89bf5689"
      },
      "outputs": [
        {
          "name": "stdout",
          "output_type": "stream",
          "text": [
            "Number of samples: 70000, type: float64\n",
            "Number of features: 784\n",
            "Minimum: 0.0, Maximum: 255.0\n",
            "Number of classes: 10, type: object\n",
            "Labels: ['0' '1' '2' '3' '4' '5' '6' '7' '8' '9']\n"
          ]
        }
      ],
      "source": [
        "target_names = np.unique(y)\n",
        "print(f'Number of samples: {X.shape[0]}, type: {X.dtype}')\n",
        "print(f'Number of features: {X.shape[1]}')\n",
        "print(f'Minimum: {np.min(X)}, Maximum: {np.max(X)}')\n",
        "print(f'Number of classes: {len(target_names)}, type: {y.dtype}')\n",
        "print(f'Labels: {target_names}')"
      ]
    },
    {
      "cell_type": "markdown",
      "metadata": {
        "id": "YShDXIU6PoOs"
      },
      "source": [
        "- The MNIST dataset is clean and the range of values that each feature can take is also known. Therefore, the samples in the dataset may not require many data preprocessing techniques.\n",
        "- However, it is often better to scale the range of features between 0 and 1.\n",
        "- So we can either use `MinMaxScaler` or `MaxAbsScaler`. They don't make any difference as the image pixels can take only positive values from 0 to 255."
      ]
    },
    {
      "cell_type": "code",
      "execution_count": null,
      "metadata": {
        "colab": {
          "base_uri": "https://localhost:8080/"
        },
        "id": "hz_37dOcPoOt",
        "outputId": "1ef42c7f-03b7-4bd9-98a9-06b2e2143991"
      },
      "outputs": [
        {
          "name": "stdout",
          "output_type": "stream",
          "text": [
            "Minimum: 0.0, Maximum: 1.0\n"
          ]
        }
      ],
      "source": [
        "X = MinMaxScaler().fit_transform(X)\n",
        "print(f'Minimum: {np.min(X)}, Maximum: {np.max(X)}')"
      ]
    },
    {
      "cell_type": "markdown",
      "metadata": {
        "id": "HO3UrPoEPoOu"
      },
      "source": [
        "### **Data Visualization**\n",
        "Let's pick up a few images (the images are already shuffled in the dataset) and display them with their respective labels.\n",
        "\n",
        "As said above, the images are stacked as row vector of size $1 \\times 784$ and therefore must be reshaped to the matrix of size $28 \\times 28$ to display them properly."
      ]
    },
    {
      "cell_type": "code",
      "execution_count": null,
      "metadata": {
        "colab": {
          "base_uri": "https://localhost:8080/",
          "height": 373
        },
        "id": "8fS9SfCgPoOv",
        "outputId": "e99024c2-7021-4434-eafc-27aafc6729d1"
      },
      "outputs": [
        {
          "data": {
            "image/png": "[encoded data removed]",
            "text/plain": [
              "<Figure size 576x432 with 9 Axes>"
            ]
          },
          "metadata": {},
          "output_type": "display_data"
        }
      ],
      "source": [
        "num_images = 9 # Choose a square number\n",
        "factor = int(np.sqrt(num_images))\n",
        "fig, ax = plt.subplots(nrows=factor, ncols= factor, figsize=(8,6))\n",
        "idx_offset = 0\n",
        "for i in range(factor):\n",
        "    index =  idx_offset + i*(factor)\n",
        "    for j in range(factor):\n",
        "        ax[i,j].imshow(X[index+j].reshape(28,28), cmap='gray')\n",
        "        ax[i,j].set_title(f'Label: {str(y[index+j])}')\n",
        "        ax[i,j].set_axis_off()"
      ]
    },
    {
      "cell_type": "markdown",
      "metadata": {
        "id": "-9uPb37nPoOw"
      },
      "source": [
        "If you observe closely, you can see there are moderate variations in the appearances of digits (say digit: 1). These matrices are close to sparse (i.e, there are a lot of 0 (black pixels) in the matrix than non-zero pixels).\n",
        "\n",
        "It is always a good practice to inspect the image pixel values closely and ask some interesting questions like:\n",
        "1. What is the range of pixel values?\n",
        "2. Are the pixel values highly correlated?\n",
        "3. Is the data sparse?\n",
        "4. What is the range of values that a single pixel(element) can take?\n",
        "5. Do we need to apply preproceesing methods?"
      ]
    },
    {
      "cell_type": "code",
      "execution_count": null,
      "metadata": {
        "colab": {
          "base_uri": "https://localhost:8080/",
          "height": 374
        },
        "id": "ucWobom-9azg",
        "outputId": "f8d731c3-7674-4774-fa1d-7a6427623ea6"
      },
      "outputs": [
        {
          "data": {
            "image/png": "[encoded data removed]",
            "text/plain": [
              "<Figure size 432x432 with 1 Axes>"
            ]
          },
          "metadata": {},
          "output_type": "display_data"
        }
      ],
      "source": [
        "plt.figure(figsize=(6,6))\n",
        "plt.imshow(X[0].reshape(28,28), cmap='gray')\n",
        "plt.show()"
      ]
    },
    {
      "cell_type": "markdown",
      "metadata": {
        "id": "0pTJDkzsPoOw"
      },
      "source": [
        "### Data Splitting\n",
        "- Now we know the details such as number of samples, size of each sample, number of features (784), number of classes (targets) about the dataset.\n",
        "- So let us split the total number of samples into train and test set in the following ratio : 60000/10000 (i.e, 60000 samples in the training set and 10000 samples in the test set)\n",
        "- Since the samples in the dataset are randomly shuffled, we dont need shuffle it again. Therefore `train_test_split()` can  be skipped."
      ]
    },
    {
      "cell_type": "code",
      "execution_count": null,
      "metadata": {
        "id": "_y1p7rCAPoOx"
      },
      "outputs": [],
      "source": [
        "x_train, x_test, y_train, y_test = X[:60000], X[60000:], y[:60000], y[60000:]"
      ]
    },
    {
      "cell_type": "markdown",
      "metadata": {
        "id": "iWvWJ4RNPoOy"
      },
      "source": [
        "Before proceeeding further, we need to check whether the data is balanced or imbalanced. We can do it buy plotting the distribution of samples in each classes."
      ]
    },
    {
      "cell_type": "code",
      "execution_count": null,
      "metadata": {
        "colab": {
          "base_uri": "https://localhost:8080/",
          "height": 295
        },
        "id": "YR8tGUncPoOy",
        "outputId": "3b074a08-cb76-44de-909d-091224c4eacf"
      },
      "outputs": [
        {
          "data": {
            "image/png": "[encoded data removed]",
            "text/plain": [
              "<Figure size 720x288 with 1 Axes>"
            ]
          },
          "metadata": {},
          "output_type": "display_data"
        }
      ],
      "source": [
        "plt.figure(figsize=(10,4))\n",
        "sns.histplot(data=np.int8(y_train), binwidth=0.45,bins=11)\n",
        "plt.xticks(ticks=[0,1,2,3,4,5,6,7,8,9], labels=[0,1,2,3,4,5,6,7,8,9])\n",
        "plt.xlabel('Class')\n",
        "plt.title('Distribution of samples')\n",
        "plt.show()"
      ]
    },
    {
      "cell_type": "markdown",
      "metadata": {
        "id": "4xNz8lWiPoOz"
      },
      "source": [
        "### Binary classification : 0-detector"
      ]
    },
    {
      "cell_type": "markdown",
      "metadata": {
        "id": "qZITmkMFPoO0"
      },
      "source": [
        "#### Modifying Labels\n",
        "- Let's start with a simple classification problem, that is binary classification\n",
        "- Since the original label vector contains 10 classes, we need to modify the number of classes to **2**.\n",
        "- Therefore, the label **0** will be changed to 1 and all other labels (1-9) will be changed to -1.\n",
        "- We name the label vectors as `y_train_0` and `y_test_0`."
      ]
    },
    {
      "cell_type": "code",
      "execution_count": null,
      "metadata": {
        "id": "iNq5ZjzQPoO0"
      },
      "outputs": [],
      "source": [
        "# Initialize new variable names with all -1\n",
        "y_train_0 = -1 * np.ones((len(y_train)))\n",
        "y_test_0 = -1 * np.ones((len(y_test)))\n",
        "\n",
        "#find indices of digit 0 image\n",
        "indx_0 = np.where(y_train == '0') #remember all the original labels are of type str not int.\n",
        "#use those indices to modify y_train_0 and y_test_0\n",
        "y_train_0[indx_0] = 1\n",
        "indx_0 = np.where(y_test == '0')\n",
        "y_test_0[indx_0] = 1"
      ]
    },
    {
      "cell_type": "markdown",
      "metadata": {
        "id": "DSl2Cy-CPoO1"
      },
      "source": [
        "#### Sanity check\n",
        "Let's display the elements of `y_train` and `y_train_0` whether the labels are properly modified."
      ]
    },
    {
      "cell_type": "code",
      "execution_count": null,
      "metadata": {
        "colab": {
          "base_uri": "https://localhost:8080/"
        },
        "id": "aZJPs5_0-iHD",
        "outputId": "2c712d42-0cf5-4440-af8e-065c88cdd917"
      },
      "outputs": [
        {
          "name": "stdout",
          "output_type": "stream",
          "text": [
            "['5' '0' '4' ... '5' '6' '8']\n",
            "[-1.  1. -1. ... -1. -1. -1.]\n"
          ]
        }
      ],
      "source": [
        "print(y_train) # 10 class labels\n",
        "print(y_train_0) # modified binary labels"
      ]
    },
    {
      "cell_type": "code",
      "execution_count": null,
      "metadata": {
        "colab": {
          "base_uri": "https://localhost:8080/"
        },
        "id": "ti-Trvd8-wWj",
        "outputId": "b043b0bb-fa58-411b-c7d7-ff281e7dd940"
      },
      "outputs": [
        {
          "name": "stdout",
          "output_type": "stream",
          "text": [
            "(array([    1,    21,    34, ..., 59952, 59972, 59987]),)\n",
            "(array([    1,    21,    34, ..., 59952, 59972, 59987]),)\n"
          ]
        }
      ],
      "source": [
        "print(np.where(y_train=='0')) # index of label 0's in the original vector y\n",
        "print(np.where(y_train_0 == 1)) # index of positive class in new vector"
      ]
    },
    {
      "cell_type": "code",
      "execution_count": null,
      "metadata": {
        "colab": {
          "base_uri": "https://localhost:8080/",
          "height": 373
        },
        "id": "CfXHJCoePoO1",
        "outputId": "fe551959-f86b-4c55-bcc8-1caad004e9c5"
      },
      "outputs": [
        {
          "data": {
            "image/png": "[encoded data removed]",
            "text/plain": [
              "<Figure size 576x432 with 9 Axes>"
            ]
          },
          "metadata": {},
          "output_type": "display_data"
        }
      ],
      "source": [
        "num_images = 9 # Choose a square number\n",
        "factor = int(np.sqrt(num_images))\n",
        "fig, ax = plt.subplots(nrows=factor, ncols= factor, figsize=(8,6))\n",
        "idx_offset = 0\n",
        "for i in range(factor):\n",
        "    index =  idx_offset + i*(factor)\n",
        "    for j in range(factor):\n",
        "        ax[i,j].imshow(X[index+j].reshape(28,28), cmap='gray')\n",
        "        ax[i,j].set_title(f'Label: {str(y_train_0[index+j])}')\n",
        "        ax[i,j].set_axis_off()"
      ]
    },
    {
      "cell_type": "markdown",
      "metadata": {
        "id": "eq1HyMikPoO2"
      },
      "source": [
        "#### Baseline Models\n",
        "Let's quickly construct a baseline model with the following rule (you are free to choose a different rule)\n",
        "1. Count the number of samples per class\n",
        "2. The model **always outputs** the class which has highest number of samples.\n",
        "3. Then calculate the accuracy of the baseline model."
      ]
    },
    {
      "cell_type": "code",
      "execution_count": null,
      "metadata": {
        "colab": {
          "base_uri": "https://localhost:8080/"
        },
        "id": "BCEXqYILPoO3",
        "outputId": "a0c0fcef-a5cb-4260-9520-574ddd9b9c3e"
      },
      "outputs": [
        {
          "name": "stdout",
          "output_type": "stream",
          "text": [
            "5923 54077\n"
          ]
        }
      ],
      "source": [
        "num_pos = len(np.where(y_train_0 == 1)[0])\n",
        "num_neg = len(np.where(y_train_0 == -1)[0])\n",
        "print(num_pos, num_neg)"
      ]
    },
    {
      "cell_type": "code",
      "execution_count": null,
      "metadata": {
        "id": "HB62E5wQPoO3"
      },
      "outputs": [],
      "source": [
        "base_clf = DummyClassifier(strategy='most_frequent') #there are other strategies"
      ]
    },
    {
      "cell_type": "code",
      "execution_count": null,
      "metadata": {
        "colab": {
          "base_uri": "https://localhost:8080/"
        },
        "id": "ShcmA5mEPoO5",
        "outputId": "bff3518a-bffc-42fd-fbe4-ccc6a4ea1f8b"
      },
      "outputs": [
        {
          "name": "stdout",
          "output_type": "stream",
          "text": [
            "Training accuracy: 0.9012833333333333\n",
            "Testing accuracy: 0.902\n"
          ]
        }
      ],
      "source": [
        "base_clf.fit(x_train, y_train_0)\n",
        "print(f'Training accuracy: {base_clf.score(x_train, y_train_0)}')\n",
        "print(f'Testing accuracy: {base_clf.score(x_test, y_test_0)}')"
      ]
    },
    {
      "cell_type": "markdown",
      "metadata": {
        "id": "if66gTe7PoO6"
      },
      "source": [
        "- Now the reason is obvious. The model would be predicted 54077 sample correctly just by outputing -1 for all input  samples. Therefore the accuracy will be $\\frac{54077}{60000} = 90.12\\%$\n",
        "\n",
        "\n",
        "- This is the reason why accuracy is not a good measure."
      ]
    },
    {
      "cell_type": "markdown",
      "metadata": {
        "id": "f8xWuRG4PoO6"
      },
      "source": [
        "### Perceptron model"
      ]
    },
    {
      "cell_type": "markdown",
      "metadata": {
        "id": "yyMnbvBvPoO7"
      },
      "source": [
        "#### Recap (Theory)\n",
        "Let's quickly recap various components in the general settings:\n",
        "1. **Training Data**: (features, labels) or ($\\mathbf{X}, y$), where label $y$ is a discrete number from a finite set. **Features** in this case are pixel values of an image.\n",
        "2. **Model**:\n",
        "   $$\\begin{align}\n",
        "       h_w : y &= \\operatorname{g}(\\mathbf{w}^T\\mathbf{x}) \\\\\n",
        "       &= \\operatorname{g}(w_0 + w_1x_1+ ... + w_mx_m)\n",
        "   \\end{align}\n",
        "   $$\n",
        "   where,\n",
        "   - $\\mathbf{w}$ is a weight vector in $\\mathbb{R}^{(m+1)}$ i.e it has components: $\\{w_0, w_1, ... , w_m\\}$\n",
        "   - $\\operatorname{g}(.)$ is a non-linear activation function given by the signum function:\n",
        "    $$\n",
        "    \\operatorname{g}(z) = \\begin{cases}\n",
        "    +1 \\quad z \\ge 0\\\\\n",
        "    -1 \\quad z \\lt 0\n",
        "    \\end{cases}\n",
        "    $$\n",
        "3. **Loss function**: Let $\\hat{y}^{(i)} \\in \\{-1,+1\\}$ be the prediction from perceptron and $y^{(i)}$ be the actual label for $i$-th example.\n",
        "\n",
        "The error is\n",
        "$$\n",
        "    \\ e^{(i)} = \\begin{cases}\n",
        "    0 \\quad if \\hat{y}^{(i)} = y^{(i)}\\\\\n",
        "    -\\mathbf{w}^T\\mathbf{x}^{(i)}y^{(i)} \\quad \\text{otherwise} (\\text{i.e} \\quad \\hat{y}^{(i)} \\ne y^{(i)})\n",
        "    \\end{cases}\n",
        "$$\n",
        "This can be compactly written as:\n",
        "$$\n",
        "e^{(i)} = \\operatorname{max}(-\\mathbf{w}^T\\mathbf{x}^{(i)}y^{(i)}, 0) = \\operatorname{max}(-h_\\mathbf{w}(\\mathbf{x}^{(i)})y^{(i)},0)\n",
        "$$\n",
        "\n",
        "4. **Optimization**:\n",
        "   - Perceptron learning algorithm\n",
        "   1. Initialize $\\mathbf{w}^{(i)} = 0$\n",
        "   2. For each training example $(\\mathbf{x}^{(i)}, y^{(i)})$:\n",
        "      - $\\hat{y}^{(i)} = \\operatorname{sign}(\\mathbf{w}^T\\mathbf{x}^{(i)})$ [Calculate the output value]\n",
        "      - $\\mathbf{w}^{(t+1)} := \\mathbf{w}^{(t)} + \\alpha(y^{(i)} - \\hat{y}^{(i)})\\mathbf{x}^{(i)}$ [Update the weights]\n",
        "\n",
        "> Linearly seperable examples lead to convergence of the algorithm with zero training loss, else it oscillates."
      ]
    },
    {
      "cell_type": "markdown",
      "metadata": {
        "id": "9iGcPMYvPoO7"
      },
      "source": [
        "#### Parameters of Perceptron class\n",
        "- Let's quickly take a look into the important parameters of the Perceptron()\n",
        "```python\n",
        "class sklearn.linear_model.Perceptron(*, penalty=None, alpha=0.0001,\n",
        "                                        l1_ratio=0.15, fit_intercept=True, max_iter=1000, tol=0.001,\n",
        "                                        shuffle=True, verbose=0, eta0=1.0, n_jobs=None, random_state=0, \n",
        "                                        early_stopping=False, validation_fraction=0.1, n_iter_no_change=5, \n",
        "                                        class_weight=None, warm_start=False)\n",
        "```\n",
        "- Need not pay attention to all the arguments and their default values.\n",
        "\n",
        "\n",
        "- Internally, the API uses the perceptron loss (i.e, it calls **Hinge(0.0)**, where 0.0 is threshold) and uses SGD to update the weights.\n",
        "\n",
        "\n",
        "- You may refer to the [documentation](https://scikit-learn.org/stable/modules/generated/sklearn.linear_model.Perceptron.html) for more details on the `Perceptron` class.\n",
        "\n",
        "\n",
        "- The other way of deploying perceptron is to use the general `linear_model.SGDClassifier` with `loss='perceptron'`\n",
        "\n",
        "- The above loss is termed as hard Hinge loss(as scores pass through the sign function) and hence we cant use SGD\n",
        "\n",
        "- whereas, Sklearn implements hinge-loss with the following definition: $max(0, -wx^iy^i)$ and by default calls sgd to minimize the loss."
      ]
    },
    {
      "cell_type": "markdown",
      "metadata": {
        "id": "0ql0hDvsPoO8"
      },
      "source": [
        "#### Instantiation\n",
        "- Create an instance of binary classifier (bin_clf) and call the `fit` method to train the model."
      ]
    },
    {
      "cell_type": "code",
      "execution_count": null,
      "metadata": {
        "id": "chR4x6rTPoO9"
      },
      "outputs": [],
      "source": [
        "bin_clf = Perceptron(max_iter=100, random_state=1729)"
      ]
    },
    {
      "cell_type": "markdown",
      "metadata": {
        "id": "_rjJxUuzPoO9"
      },
      "source": [
        "#### Training and Prediction\n",
        "- Call the `fit` method to train the model.\n",
        "- It would be nice to plot the iteration vs loss curve for training . However, sklearn does not have a direct function to plot it\n",
        "- Nevertheless, we can workaround this using `partial_fit` method."
      ]
    },
    {
      "cell_type": "code",
      "execution_count": null,
      "metadata": {
        "colab": {
          "base_uri": "https://localhost:8080/"
        },
        "id": "igEGw9boPoO-",
        "outputId": "24e512ae-d463-4464-b922-6e8cc5d2ab32"
      },
      "outputs": [
        {
          "name": "stdout",
          "output_type": "stream",
          "text": [
            "Dimension of weights w: (1, 784)\n",
            "Bias: [-108.]\n",
            "The loss function : <sklearn.linear_model._sgd_fast.Hinge object at 0x7f78066362b0>\n"
          ]
        }
      ],
      "source": [
        "bin_clf.fit(x_train, y_train_0)\n",
        "print('Dimension of weights w: {0}'.format(bin_clf.coef_.shape))\n",
        "print('Bias: {0}'.format(bin_clf.intercept_))\n",
        "print('The loss function : {0}'.format(bin_clf.loss_function_))"
      ]
    },
    {
      "cell_type": "markdown",
      "metadata": {
        "id": "JIvHi7DaPoO_"
      },
      "source": [
        "Let's make predictions on the train set and then calculate the training accuracy."
      ]
    },
    {
      "cell_type": "code",
      "execution_count": null,
      "metadata": {
        "colab": {
          "base_uri": "https://localhost:8080/"
        },
        "id": "0Qo1bWjpPoO_",
        "outputId": "3c4b869f-5aec-495e-fbeb-603f6ca80f0f"
      },
      "outputs": [
        {
          "name": "stdout",
          "output_type": "stream",
          "text": [
            "Training accuracy:  0.99095\n"
          ]
        }
      ],
      "source": [
        "y_hat_train_0 = bin_clf.predict(x_train)\n",
        "print('Training accuracy: ', bin_clf.score(x_train, y_train_0))"
      ]
    },
    {
      "cell_type": "markdown",
      "metadata": {
        "id": "sj_BG8IRPoPA"
      },
      "source": [
        "Let's make the predictions on the test set and then calculate the testing accuracy."
      ]
    },
    {
      "cell_type": "code",
      "execution_count": null,
      "metadata": {
        "colab": {
          "base_uri": "https://localhost:8080/"
        },
        "id": "_8M8WGkwPoPA",
        "outputId": "ae93faa9-7c1c-4953-aa99-6baf20c5be52"
      },
      "outputs": [
        {
          "name": "stdout",
          "output_type": "stream",
          "text": [
            "Test accuracy: 0.989\n"
          ]
        }
      ],
      "source": [
        "print('Test accuracy:', bin_clf.score(x_test, y_test_0))"
      ]
    },
    {
      "cell_type": "markdown",
      "metadata": {
        "id": "FI2Kt05NPoPB"
      },
      "source": [
        "#### Displaying few predictions\n",
        "- Take few images from the testset at random and display it with corresponding predictions\n",
        "- Plot a few images in a single figure window along with respective **predictions**."
      ]
    },
    {
      "cell_type": "code",
      "execution_count": null,
      "metadata": {
        "colab": {
          "base_uri": "https://localhost:8080/",
          "height": 373
        },
        "id": "OHLmKwl4PoPB",
        "outputId": "9355eb7c-670e-41d9-ee72-0f4ddf542801"
      },
      "outputs": [
        {
          "data": {
            "image/png": "[encoded data removed]",
            "text/plain": [
              "<Figure size 576x432 with 9 Axes>"
            ]
          },
          "metadata": {},
          "output_type": "display_data"
        }
      ],
      "source": [
        "y_hat_test_0 = bin_clf.predict(x_test)\n",
        "num_images = 9 # Choose a square number\n",
        "factor = int(np.sqrt(num_images))\n",
        "fig, ax = plt.subplots(nrows=factor, ncols= factor, figsize=(8,6))\n",
        "idx_offset = 0\n",
        "for i in range(factor):\n",
        "    index =  idx_offset + i*(factor)\n",
        "    for j in range(factor):\n",
        "        ax[i,j].imshow(x_test[index+j].reshape(28,28), cmap='gray')\n",
        "        ax[i,j].set_title(f'Prediction: {str(y_hat_test_0[index+j])}')\n",
        "        ax[i,j].set_axis_off()"
      ]
    },
    {
      "cell_type": "markdown",
      "metadata": {
        "id": "QTFXw9QIPoPD"
      },
      "source": [
        "- Display images of positive classes from the testset along with their predictions"
      ]
    },
    {
      "cell_type": "code",
      "execution_count": null,
      "metadata": {
        "colab": {
          "base_uri": "https://localhost:8080/",
          "height": 373
        },
        "id": "4LwlJVOxPoPD",
        "outputId": "fb9d843b-419a-45fa-fdd6-de78316b8be5"
      },
      "outputs": [
        {
          "data": {
            "image/png": "[encoded data removed]",
            "text/plain": [
              "<Figure size 576x432 with 9 Axes>"
            ]
          },
          "metadata": {},
          "output_type": "display_data"
        }
      ],
      "source": [
        "indx_0 = np.where(y_test_0 == 1)\n",
        "\n",
        "zeroImgs = x_test[indx_0[0]]\n",
        "zeroLabls = y_hat_test_0[indx_0[0]]\n",
        "num_images = 9 # Choose a square number\n",
        "factor = int(np.sqrt(num_images))\n",
        "fig, ax = plt.subplots(nrows=factor, ncols= factor, figsize=(8,6))\n",
        "idx_offset = 0\n",
        "for i in range(factor):\n",
        "    index =  idx_offset + i*(factor)\n",
        "    for j in range(factor):\n",
        "        ax[i,j].imshow(zeroImgs[index+j].reshape(28,28), cmap='gray')\n",
        "        ax[i,j].set_title(f'Prediction: {str(zeroLabls[index+j])}')\n",
        "        ax[i,j].set_axis_off()"
      ]
    },
    {
      "cell_type": "markdown",
      "metadata": {
        "id": "FHrvrFH4PoPE"
      },
      "source": [
        "It seems that there are significant number of images that are correctly classified. Let's see how many?"
      ]
    },
    {
      "cell_type": "code",
      "execution_count": null,
      "metadata": {
        "colab": {
          "base_uri": "https://localhost:8080/"
        },
        "id": "8NV06WdFPoPE",
        "outputId": "c31b270b-3c27-45da-9c73-a1951c4f598a"
      },
      "outputs": [
        {
          "name": "stdout",
          "output_type": "stream",
          "text": [
            "0.9193877551020408\n"
          ]
        }
      ],
      "source": [
        "num_missclassified = np.count_nonzero(zeroLabls == -1)\n",
        "num_correctpred = len(zeroLabls) - num_missclassified\n",
        "accuracy = num_correctpred/len(zeroLabls)\n",
        "print(accuracy)"
      ]
    },
    {
      "cell_type": "markdown",
      "metadata": {
        "id": "YE8YiCyTPoPF"
      },
      "source": [
        "- This above score is less than the acccuracy of score of the model.\n",
        "- Try classifying 5 as positive class and others as negative class"
      ]
    },
    {
      "cell_type": "markdown",
      "metadata": {
        "id": "MqwdQgOrPoPF"
      },
      "source": [
        "#### Better evaluation metrics\n",
        "- We know that using the accuracy **alone** to measure performance of the model is not suitable (especially for imbalanced datasets)"
      ]
    },
    {
      "cell_type": "markdown",
      "metadata": {
        "id": "RrwhsKGTPoPG"
      },
      "source": [
        "#### **Confusion Matrix**"
      ]
    },
    {
      "cell_type": "code",
      "execution_count": null,
      "metadata": {
        "colab": {
          "base_uri": "https://localhost:8080/",
          "height": 279
        },
        "id": "JsSMbUpfPoPG",
        "outputId": "1cef7513-5f35-48c5-ebe0-9e3dd0ae376a"
      },
      "outputs": [
        {
          "data": {
            "image/png": "[encoded data removed]",
            "text/plain": [
              "<Figure size 432x288 with 2 Axes>"
            ]
          },
          "metadata": {},
          "output_type": "display_data"
        }
      ],
      "source": [
        "y_hat_train_0 = bin_clf.predict(x_train)\n",
        "cm_display = ConfusionMatrixDisplay.from_predictions(y_train_0, y_hat_train_0, values_format='.5g')\n",
        "plt.show()"
      ]
    },
    {
      "cell_type": "markdown",
      "metadata": {
        "id": "INg0YQfOPoPG"
      },
      "source": [
        "- Pay attention to the number of FPs and FNs. Suppose we want the classifier to avoid FPs to a good extent irrespective of FNs, how can we achieve it?\n",
        "- To answer it, let's compute the other metrics which take FPs and FNs into account."
      ]
    },
    {
      "cell_type": "markdown",
      "metadata": {
        "id": "A2tLBdTmPoPH"
      },
      "source": [
        "#### Precision and Recall\n",
        "- We can use the function `classification_report` to compute these parameters. However for the time being let's compute these parameters using the data from the confusion matrix manually"
      ]
    },
    {
      "cell_type": "code",
      "execution_count": null,
      "metadata": {
        "id": "2wvtiVKgPoPH"
      },
      "outputs": [],
      "source": [
        "cf_matrix = cm_display.confusion_matrix\n",
        "tn = cf_matrix[0,0]\n",
        "fn = cf_matrix[1,0]\n",
        "fp = cf_matrix[0,1]\n",
        "tp = cf_matrix[1,1]"
      ]
    },
    {
      "cell_type": "code",
      "execution_count": null,
      "metadata": {
        "colab": {
          "base_uri": "https://localhost:8080/"
        },
        "id": "xGUx1m2FQR1K",
        "outputId": "8dfce6c2-1169-4613-ef2c-4579c8904576"
      },
      "outputs": [
        {
          "name": "stdout",
          "output_type": "stream",
          "text": [
            "Precision: 0.9783072546230441\n",
            "Recall: 0.9289211548201924\n",
            "Accuracy: 0.99095\n"
          ]
        }
      ],
      "source": [
        "precision = tp/(tp + fp)\n",
        "print('Precision:', precision)\n",
        "recall = tp/(tp+fn)\n",
        "print('Recall:',recall)\n",
        "accuracy = (tp + tn)/(tp+tn+fp+fn)\n",
        "print('Accuracy:',accuracy)"
      ]
    },
    {
      "cell_type": "markdown",
      "metadata": {
        "id": "lEsyRaKZQyS-"
      },
      "source": [
        "- The precision is close to 0.98, Despite it, we still want to incease the precision.\n",
        "- In general, we would like to know whether the model under consideration with the set hyper-parameters is a good one for a given problem."
      ]
    },
    {
      "cell_type": "markdown",
      "metadata": {
        "id": "KAlOgvXdRIzq"
      },
      "source": [
        "#### Cross Validation\n",
        "- Well, to address this, we have to use cross-validation folds and measure the same metrics across these folds for different values of hyper-parameters.\n",
        "- However, perceptron does not have many hyper-parameters other than learning rate.\n",
        "- For the moment, we set the learning rate to its default value. Later, we use `GridSearchCV` to find the better value for the learning rate."
      ]
    },
    {
      "cell_type": "code",
      "execution_count": null,
      "metadata": {
        "colab": {
          "base_uri": "https://localhost:8080/"
        },
        "id": "DbuZmXCfQtCc",
        "outputId": "ed1eaed7-a847-4e76-d573-e53be784ba72"
      },
      "outputs": [
        {
          "name": "stdout",
          "output_type": "stream",
          "text": [
            "{'estimator': [Perceptron(max_iter=100, random_state=1729),\n",
            "               Perceptron(max_iter=100, random_state=1729),\n",
            "               Perceptron(max_iter=100, random_state=1729),\n",
            "               Perceptron(max_iter=100, random_state=1729),\n",
            "               Perceptron(max_iter=100, random_state=1729)],\n",
            " 'fit_time': array([1.10387802, 2.30673194, 1.6217885 , 1.55739355, 1.99612784]),\n",
            " 'score_time': array([0.0482564 , 0.04674745, 0.04475832, 0.04635143, 0.05024219]),\n",
            " 'test_f1': array([0.95238095, 0.91666667, 0.94915254, 0.94117647, 0.95091763]),\n",
            " 'test_precision': array([0.95890411, 0.98828125, 0.95319149, 0.95090439, 0.96200345]),\n",
            " 'test_recall': array([0.94594595, 0.85472973, 0.94514768, 0.93164557, 0.94008439])}\n"
          ]
        }
      ],
      "source": [
        "bin_clf = Perceptron(max_iter=100, random_state=1729)\n",
        "scores = cross_validate(bin_clf, x_train, y_train_0,\n",
        "                         cv=5,scoring=['precision','recall','f1'],\n",
        "                         return_estimator=True)\n",
        "pprint(scores)"
      ]
    },
    {
      "cell_type": "markdown",
      "metadata": {
        "id": "oK39UwR7S4KD"
      },
      "source": [
        "**Note**:\n",
        "- The perceptron estimator passed an argument to the function `cross_validate` is internal cloned `num_fold(cv=5)` times and fitted independently on each fold.(You can check this by setting `warm_start=True`).\n",
        "- Compute the average and std of scores for all three metrics, on (k=5) folds to measure the generalization."
      ]
    },
    {
      "cell_type": "code",
      "execution_count": null,
      "metadata": {
        "colab": {
          "base_uri": "https://localhost:8080/"
        },
        "id": "D7Y9IpU1SfhI",
        "outputId": "11aa206b-788b-41a3-d156-0117c25f92ac"
      },
      "outputs": [
        {
          "name": "stdout",
          "output_type": "stream",
          "text": [
            "f1,          avg:0.94, std:0.013\n",
            "precision,   avg:0.96, std:0.01\n",
            "recall,      avg:0.92, std:0.03\n"
          ]
        }
      ],
      "source": [
        "print('f1,          avg:{0:.2f}, std:{1:.3f}'.format(scores['test_f1'].mean(), scores['test_f1'].std()))\n",
        "print('precision,   avg:{0:.2f}, std:{1:.2f}'.format(scores['test_precision'].mean(), scores['test_precision'].std()))\n",
        "print('recall,      avg:{0:.2f}, std:{1:.2f}'.format(scores['test_recall'].mean(), scores['test_recall'].std()))"
      ]
    },
    {
      "cell_type": "markdown",
      "metadata": {
        "id": "1BydwgiJUohL"
      },
      "source": [
        "- Let's pick up the first estimator returned by the cross-validate function\n",
        "- So we can hope that the model might perform well on test data. Let's check that out."
      ]
    },
    {
      "cell_type": "code",
      "execution_count": null,
      "metadata": {
        "colab": {
          "base_uri": "https://localhost:8080/",
          "height": 279
        },
        "id": "GgDKTWQMUfln",
        "outputId": "68337d6b-8b7e-479e-fdaa-992688a90747"
      },
      "outputs": [
        {
          "data": {
            "image/png": "[encoded data removed]",
            "text/plain": [
              "<Figure size 432x288 with 2 Axes>"
            ]
          },
          "metadata": {},
          "output_type": "display_data"
        }
      ],
      "source": [
        "bin_clf = scores['estimator'][0]\n",
        "y_hat_test_0 = bin_clf.predict(x_test)\n",
        "cm_display = ConfusionMatrixDisplay.from_predictions(y_test_0,y_hat_test_0, values_format='.5g')"
      ]
    },
    {
      "cell_type": "code",
      "execution_count": null,
      "metadata": {
        "colab": {
          "base_uri": "https://localhost:8080/"
        },
        "id": "lC8kziKzVXxs",
        "outputId": "f869729d-6606-40a0-8097-c7d83ee0541a"
      },
      "outputs": [
        {
          "name": "stdout",
          "output_type": "stream",
          "text": [
            "Precision 0.95\n",
            "Recall 0.95\n"
          ]
        }
      ],
      "source": [
        "print('Precision %.2f'%precision_score(y_test_0, y_hat_test_0))\n",
        "print('Recall %.2f'%recall_score(y_test_0, y_hat_test_0))"
      ]
    },
    {
      "cell_type": "markdown",
      "metadata": {
        "id": "xDvCLDCtV_R6"
      },
      "source": [
        "**Way-2 for Generalization**\n",
        "- There is an another approach of getting labels via cross-validation and using to measure the generalization"
      ]
    },
    {
      "cell_type": "code",
      "execution_count": null,
      "metadata": {
        "colab": {
          "base_uri": "https://localhost:8080/",
          "height": 279
        },
        "id": "--SWHrSeVwTW",
        "outputId": "f4132958-547b-452c-9531-f5af02a1478b"
      },
      "outputs": [
        {
          "data": {
            "image/png": "[encoded data removed]",
            "text/plain": [
              "<Figure size 432x288 with 2 Axes>"
            ]
          },
          "metadata": {},
          "output_type": "display_data"
        }
      ],
      "source": [
        "y_hat_train_0 = cross_val_predict(bin_clf, x_train, y_train_0, cv=5)\n",
        "cm_display = ConfusionMatrixDisplay.from_predictions(y_train_0,y_hat_train_0, values_format='.5g')\n",
        "plt.show()"
      ]
    },
    {
      "cell_type": "code",
      "execution_count": null,
      "metadata": {
        "colab": {
          "base_uri": "https://localhost:8080/"
        },
        "id": "wtaZ1JS6WrkV",
        "outputId": "b7e29d93-a4fc-48d8-aef5-f011558a9b78"
      },
      "outputs": [
        {
          "name": "stdout",
          "output_type": "stream",
          "text": [
            "Precision: 0.9620119591980303\n",
            "Recall: 0.9235184872530812\n",
            "Accuracy: 0.98885\n"
          ]
        }
      ],
      "source": [
        "cf_matrix = cm_display.confusion_matrix\n",
        "tn = cf_matrix[0,0]\n",
        "fn = cf_matrix[1,0]\n",
        "fp = cf_matrix[0,1]\n",
        "tp = cf_matrix[1,1]\n",
        "\n",
        "precision = tp/(tp + fp)\n",
        "print('Precision:', precision)\n",
        "recall = tp/(tp+fn)\n",
        "print('Recall:',recall)\n",
        "accuracy = (tp + tn)/(tp+tn+fp+fn)\n",
        "print('Accuracy:',accuracy)"
      ]
    },
    {
      "cell_type": "markdown",
      "metadata": {
        "id": "ETyHr7K7XnT7"
      },
      "source": [
        "- Compare the precision and recall score obtained by the above method with that of the previous method (that is using `cross_validate` method)\n",
        "- Finally, we can print all these scores using `classification_report` function"
      ]
    },
    {
      "cell_type": "code",
      "execution_count": null,
      "metadata": {
        "colab": {
          "base_uri": "https://localhost:8080/"
        },
        "id": "vFzKGrvAXkAk",
        "outputId": "3a24025d-ee03-41ea-e667-3b1318aea3a6"
      },
      "outputs": [
        {
          "name": "stdout",
          "output_type": "stream",
          "text": [
            "Precision 0.96\n",
            "Recall 0.92\n",
            "--------------------------------------------------\n",
            "              precision    recall  f1-score   support\n",
            "\n",
            "        -1.0       0.99      1.00      0.99     54077\n",
            "         1.0       0.96      0.92      0.94      5923\n",
            "\n",
            "    accuracy                           0.99     60000\n",
            "   macro avg       0.98      0.96      0.97     60000\n",
            "weighted avg       0.99      0.99      0.99     60000\n",
            "\n"
          ]
        }
      ],
      "source": [
        "print('Precision %.2f'%precision_score(y_train_0, y_hat_train_0))\n",
        "print('Recall %.2f'%recall_score(y_train_0, y_hat_train_0))\n",
        "print('-'*50)\n",
        "print(classification_report(y_train_0, y_hat_train_0))"
      ]
    },
    {
      "cell_type": "markdown",
      "metadata": {
        "id": "qVVBmunAYcnO"
      },
      "source": [
        "#### Precision-Recall Tradeoff\n",
        "- Often time we need to make a tradeoff between precision and recall scores of the model.\n",
        "- It depends on problem at hand\n",
        "- It is important to note that we **should not pass** the **predicted labels** as input to `precision_recall_curve` function, instead we need to pass the probability scores or the output from the decision function.\n",
        "- The `Perceptron()` class contains a `decision_function` method. Therefore we can make use of it.\n",
        "- Then internally the decision scores are sorted **tps** and **fps** will be computed by changing the threshold from index[0] to index[-1]\n",
        "-Lets compute these scores from the decision function"
      ]
    },
    {
      "cell_type": "code",
      "execution_count": null,
      "metadata": {
        "colab": {
          "base_uri": "https://localhost:8080/",
          "height": 265
        },
        "id": "V37DZc8PYM98",
        "outputId": "812884f7-8a94-45df-daca-207eeb8e3ba1"
      },
      "outputs": [
        {
          "data": {
            "image/png": "[encoded data removed]",
            "text/plain": [
              "<Figure size 432x288 with 1 Axes>"
            ]
          },
          "metadata": {},
          "output_type": "display_data"
        }
      ],
      "source": [
        "bin_clf = Perceptron(random_state=1729)\n",
        "bin_clf.fit(x_train, y_train_0)\n",
        "y_scores = bin_clf.decision_function(x_train)\n",
        "sns.histplot(np.sort(y_scores))\n",
        "plt.show()"
      ]
    },
    {
      "cell_type": "markdown",
      "metadata": {
        "id": "3D6lufFjzalg"
      },
      "source": [
        "Can you think why there are so many negative values than the positives?\n",
        "Class Imbalance\n",
        "- Suppose threshold takes the values of -600, then all the samples having score greater than -600 is set to 1 (Positive label) and less than it is set to -1 (Negative label).\n",
        "- Therefore, the number of False positives will be increased. This will in turn reduce the precision score to a greater extent.\n",
        "- On the other hand, if the threshold takes the values of say, 400. Then the number of false negatives will be increased and hence the recall score will reduce to a greater extent\n",
        "\n",
        "Let's see it in action"
      ]
    },
    {
      "cell_type": "code",
      "execution_count": null,
      "metadata": {
        "id": "h3eid5MlZ_6r"
      },
      "outputs": [],
      "source": [
        "precisions, recalls, thresholds = precision_recall_curve(y_train_0, y_scores, pos_label=1)"
      ]
    },
    {
      "cell_type": "code",
      "execution_count": null,
      "metadata": {
        "colab": {
          "base_uri": "https://localhost:8080/",
          "height": 279
        },
        "id": "1ariV4gC0sO_",
        "outputId": "64c5c6f8-6b90-436a-d04b-6fdcc501532d"
      },
      "outputs": [
        {
          "data": {
            "image/png": "[encoded data removed]",
            "text/plain": [
              "<Figure size 720x288 with 1 Axes>"
            ]
          },
          "metadata": {},
          "output_type": "display_data"
        }
      ],
      "source": [
        "plt.figure(figsize=(10, 4))\n",
        "plt.plot(precisions[:-1], recalls[:-1], 'b--')\n",
        "plt.xlabel('Precision')\n",
        "plt.ylabel('Recall')\n",
        "plt.grid(True)\n",
        "plt.show()"
      ]
    },
    {
      "cell_type": "code",
      "execution_count": null,
      "metadata": {
        "colab": {
          "base_uri": "https://localhost:8080/",
          "height": 279
        },
        "id": "kFp3LvPJ1Dcv",
        "outputId": "70916b81-4350-49c3-bfcc-9eda5698e78d"
      },
      "outputs": [
        {
          "data": {
            "image/png": "[encoded data removed]",
            "text/plain": [
              "<Figure size 720x288 with 1 Axes>"
            ]
          },
          "metadata": {},
          "output_type": "display_data"
        }
      ],
      "source": [
        "plt.figure(figsize=(10, 4))\n",
        "plt.plot(thresholds, precisions[:-1], 'b--',label='Precision')\n",
        "plt.plot(thresholds, recalls[:-1], 'g-', label='Recall')\n",
        "plt.xlabel('Thresholds')\n",
        "plt.legend(loc='upper right')\n",
        "plt.grid(True)\n",
        "plt.show()"
      ]
    },
    {
      "cell_type": "code",
      "execution_count": null,
      "metadata": {
        "colab": {
          "base_uri": "https://localhost:8080/"
        },
        "id": "O48YZAbe2RRB",
        "outputId": "5edc2e6a-e039-4e33-edc6-55aed450e789"
      },
      "outputs": [
        {
          "name": "stdout",
          "output_type": "stream",
          "text": [
            "Precision for zero threshold: 0.9783072546230441\n"
          ]
        }
      ],
      "source": [
        "#get the index of threshold around zero\n",
        "idx_th = np.where(np.logical_and(thresholds>0, thresholds<1))\n",
        "print('Precision for zero threshold:', precisions[idx_th[0][0]])"
      ]
    },
    {
      "cell_type": "markdown",
      "metadata": {
        "id": "qFsDrUnh3J0N"
      },
      "source": [
        "- **Here is the solution** to the question how can we increase the precision of the classifier by comprimising the recall, we can make use of the above plot.\n"
      ]
    },
    {
      "cell_type": "code",
      "execution_count": null,
      "metadata": {
        "id": "RppFZf6hAaMS"
      },
      "outputs": [],
      "source": [
        "def predict(y_scores):\n",
        "    y_hat = np.where(y_scores>20,1,-1) # shifted signum function\n",
        "    return y_hat"
      ]
    },
    {
      "cell_type": "code",
      "execution_count": null,
      "metadata": {
        "colab": {
          "base_uri": "https://localhost:8080/"
        },
        "id": "KCPOvn58AroN",
        "outputId": "ddfbe668-db1b-466f-b2f2-c0f55b035fdc"
      },
      "outputs": [
        {
          "name": "stdout",
          "output_type": "stream",
          "text": [
            "              precision    recall  f1-score   support\n",
            "\n",
            "        -1.0       0.99      1.00      0.99     54077\n",
            "         1.0       0.99      0.90      0.94      5923\n",
            "\n",
            "    accuracy                           0.99     60000\n",
            "   macro avg       0.99      0.95      0.97     60000\n",
            "weighted avg       0.99      0.99      0.99     60000\n",
            "\n"
          ]
        }
      ],
      "source": [
        "y_hat_train_0_thrsh = predict (y_scores)\n",
        "print(classification_report(y_train_0, y_hat_train_0_thrsh))"
      ]
    },
    {
      "cell_type": "markdown",
      "metadata": {
        "id": "Z3WyIq1P3lO-"
      },
      "source": [
        "#### ROC curve"
      ]
    },
    {
      "cell_type": "code",
      "execution_count": null,
      "metadata": {
        "id": "VZSBZIfZ27aV"
      },
      "outputs": [],
      "source": [
        "from sklearn.metrics import roc_curve"
      ]
    },
    {
      "cell_type": "code",
      "execution_count": null,
      "metadata": {
        "colab": {
          "base_uri": "https://localhost:8080/",
          "height": 279
        },
        "id": "iYLMFqN53zU8",
        "outputId": "f0d6a2c6-c02a-40dd-ed7f-b0d0003048cc"
      },
      "outputs": [
        {
          "data": {
            "image/png": "[encoded data removed]",
            "text/plain": [
              "<Figure size 720x288 with 1 Axes>"
            ]
          },
          "metadata": {},
          "output_type": "display_data"
        }
      ],
      "source": [
        "fpr, tpr, thresholds = roc_curve(y_train_0, y_scores)\n",
        "plt.figure(figsize=(10,4))\n",
        "plt.plot(fpr, tpr, linewidth=2, label='Perceptron')\n",
        "plt.plot([0,1],[0,1],'k--', label='BaseEstimator')\n",
        "plt.xlabel('False Positive Rate')\n",
        "plt.ylabel('True Positive Rate')\n",
        "plt.grid(True)\n",
        "plt.legend()\n",
        "plt.show()"
      ]
    },
    {
      "cell_type": "markdown",
      "metadata": {
        "id": "S1qJ4tGe43Gd"
      },
      "source": [
        "### Warm Start vs Cold Start\n"
      ]
    },
    {
      "cell_type": "markdown",
      "metadata": {
        "id": "dnr-ZstU5B9T"
      },
      "source": [
        "#### Cold Start\n",
        "- If we execute the `fit` method of `bin_clf` repeatedly, we get the same score for both training and testing accuracy.\n",
        "- This because everytime the `fit` method is called, the model weights are initialized to the same values. Therefore, we obtain the same score.\n",
        "- This is termed as **cold start**. Let's execute the cell 4 times and observe the score."
      ]
    },
    {
      "cell_type": "code",
      "execution_count": null,
      "metadata": {
        "colab": {
          "base_uri": "https://localhost:8080/"
        },
        "id": "cRkEsOuG4jCJ",
        "outputId": "b38f969e-ebef-4b10-87bb-d2e0cba776f5"
      },
      "outputs": [
        {
          "name": "stdout",
          "output_type": "stream",
          "text": [
            "Training Accuracy: 0.99095\n",
            "Test Accuracy: 0.989\n"
          ]
        }
      ],
      "source": [
        "bin_clf.fit(x_train, y_train_0)\n",
        "y_hat_train_0 = bin_clf.predict(x_train)\n",
        "print('Training Accuracy:', bin_clf.score(x_train, y_train_0))\n",
        "print('Test Accuracy:', bin_clf.score(x_test, y_test_0))"
      ]
    },
    {
      "cell_type": "markdown",
      "metadata": {
        "id": "h8nQymmCCe3I"
      },
      "source": [
        "#### Warm Start\n",
        "- Setting `warm_start=True` retains the weight values of the model after `max_iter` and hence produce different results for each execution.\n",
        "- Warm starting is useful in many ways. It helps us train the model by initializing the weight values from the previous state. So we can pause the training and resume it whenever we get the resource for computation.\n",
        "- Of course, it is not required for simple models like perceptron and for a small dataset like MNIST.\n",
        "- In this notebook, we use this feature to plot the iteration vs loss curve.\n",
        "- Let's execute the following lines of code 4 times and observe how the training accuracy changes for each execution."
      ]
    },
    {
      "cell_type": "code",
      "execution_count": null,
      "metadata": {
        "id": "Jj2_MAKx6DCL"
      },
      "outputs": [],
      "source": [
        "bin_clf_warm = Perceptron(max_iter=100, random_state=1729, warm_start=True)"
      ]
    },
    {
      "cell_type": "code",
      "execution_count": null,
      "metadata": {
        "colab": {
          "base_uri": "https://localhost:8080/"
        },
        "id": "PKldRU5ZDqzU",
        "outputId": "b0d771c0-822b-4d97-98f1-81ceab353403"
      },
      "outputs": [
        {
          "name": "stdout",
          "output_type": "stream",
          "text": [
            "Training accuracy:  0.99095\n"
          ]
        }
      ],
      "source": [
        "bin_clf_warm.fit(x_train, y_train_0)\n",
        "print('Training accuracy: ', bin_clf_warm.score(x_train, y_train_0))"
      ]
    },
    {
      "cell_type": "markdown",
      "metadata": {
        "id": "HBNZ89wKPYSQ"
      },
      "source": [
        "## Lecture 5.5: Multi class Image Classification with Perceptron \n"
      ]
    },
    {
      "cell_type": "markdown",
      "metadata": {
        "id": "OOx0DsS0PdsJ"
      },
      "source": [
        "### Multiclass Classifier (One vs All)\n",
        "- We know that the perceptron is a binary classifier. However, MNIST dataset contains 10 classes. Then how can we extend the idea to handle multi-class problems?\n",
        "- **Solutions**: Combine multiple binary classifiers and devise a suitable scoring metric.\n",
        "- Sklearn makes it extremely easy without modifying a single line of code that we have written for the binary classifier.\n",
        "- Sklearn does this by counting a number of unique elements (10 in this case) in the label vector `y_train` and converting labels using `LabelBinarizer` to fit each binary classifier"
      ]
    },
    {
      "cell_type": "code",
      "execution_count": null,
      "metadata": {
        "id": "5jZwejwGETjF"
      },
      "outputs": [],
      "source": [
        "from sklearn.linear_model import Perceptron\n",
        "from sklearn.preprocessing import LabelBinarizer"
      ]
    },
    {
      "cell_type": "code",
      "execution_count": null,
      "metadata": {
        "id": "fbzSKRsNQkVJ"
      },
      "outputs": [],
      "source": [
        "clf = Perceptron(random_state=1729)"
      ]
    },
    {
      "cell_type": "code",
      "execution_count": null,
      "metadata": {
        "colab": {
          "base_uri": "https://localhost:8080/"
        },
        "id": "TdUujQ5dQp0-",
        "outputId": "4b603201-b465-40fc-8708-bdec9292edbd"
      },
      "outputs": [
        {
          "name": "stdout",
          "output_type": "stream",
          "text": [
            "5: [0 0 0 0 0 1 0 0 0 0]\n",
            "0: [1 0 0 0 0 0 0 0 0 0]\n",
            "4: [0 0 0 0 1 0 0 0 0 0]\n",
            "1: [0 1 0 0 0 0 0 0 0 0]\n",
            "9: [0 0 0 0 0 0 0 0 0 1]\n",
            "2: [0 0 1 0 0 0 0 0 0 0]\n",
            "1: [0 1 0 0 0 0 0 0 0 0]\n",
            "3: [0 0 0 1 0 0 0 0 0 0]\n",
            "1: [0 1 0 0 0 0 0 0 0 0]\n",
            "4: [0 0 0 0 1 0 0 0 0 0]\n"
          ]
        }
      ],
      "source": [
        "#  let's use label binarizer just to see the encoding.\n",
        "y_train_ovr = LabelBinarizer().fit_transform(y_train) # setting sparse_output = True in LabelBinarizer() improves efficiency\n",
        "for i in range(10):\n",
        "    print(f'{y_train[i]}: {y_train_ovr[i]}')"
      ]
    },
    {
      "cell_type": "markdown",
      "metadata": {
        "id": "j77ni_PURZwL"
      },
      "source": [
        "- The `y_train_ovr` will be of size $60000 × 10$\n",
        "- The first column will be (binary) label vector for 0-detector and the next one for 1-detector and so on"
      ]
    },
    {
      "cell_type": "code",
      "execution_count": null,
      "metadata": {
        "colab": {
          "base_uri": "https://localhost:8080/"
        },
        "id": "Ay_dYbYwRRIg",
        "outputId": "e0f645c4-d124-4c6d-a935-41b3f8c31b5f"
      },
      "outputs": [
        {
          "data": {
            "text/plain": [
              "Perceptron(random_state=1729)"
            ]
          },
          "execution_count": 49,
          "metadata": {},
          "output_type": "execute_result"
        }
      ],
      "source": [
        "clf.fit(x_train, y_train)"
      ]
    },
    {
      "cell_type": "markdown",
      "metadata": {
        "id": "-wd8e6miUfqg"
      },
      "source": [
        "- What actually happend internally was that the API automatically created 10 binary classifiers, converted labels to binary sparse matrix and trained them with the binarized labels.\n",
        "- During the inference time, the input will be passed through all these 10 classifiers and the highest score among the output from the classifiers will be considered predicted class\n",
        "- To see it in action, let's execute the following lines of code."
      ]
    },
    {
      "cell_type": "code",
      "execution_count": null,
      "metadata": {
        "colab": {
          "base_uri": "https://localhost:8080/"
        },
        "id": "oV7t4A7_R3xp",
        "outputId": "9d1bd0d3-b673-492e-cb94-a44d1914ba03"
      },
      "outputs": [
        {
          "name": "stdout",
          "output_type": "stream",
          "text": [
            "Shape of Weight matrix: (10, 784) and bias vector: (10,)\n"
          ]
        }
      ],
      "source": [
        "print(f'Shape of Weight matrix: {clf.coef_.shape} and bias vector: {clf.intercept_.shape}')"
      ]
    },
    {
      "cell_type": "markdown",
      "metadata": {
        "id": "OBhEmOmlVYrd"
      },
      "source": [
        "- So it is matrix of size $10 \\times 784$ where each row represents the weights for a single binary classifier.\n",
        "- Important difference to note is that there are no signum function assosciated with perceptron.\n",
        "- The class of a perceptron that outputs the maximum score for the input sample is considered as the predicted class."
      ]
    },
    {
      "cell_type": "code",
      "execution_count": null,
      "metadata": {
        "colab": {
          "base_uri": "https://localhost:8080/"
        },
        "id": "oM3CKY7KVU56",
        "outputId": "8b3f87dd-b83f-4ce8-825a-5096ef3fce46"
      },
      "outputs": [
        {
          "name": "stdout",
          "output_type": "stream",
          "text": [
            "[[-631.88492118  154.366213    -65.23234141  -90.95338716 -189.29568627\n",
            "  -137.14385236  -99.64604383 -159.09859285 -136.86391388 -199.26120723]]\n",
            "The predicted class:  1\n"
          ]
        }
      ],
      "source": [
        "scores = clf.decision_function(x_train[6].reshape(1, -1))\n",
        "print(scores)\n",
        "print('The predicted class: ', np.argmax(scores))"
      ]
    },
    {
      "cell_type": "code",
      "execution_count": null,
      "metadata": {
        "colab": {
          "base_uri": "https://localhost:8080/"
        },
        "id": "v83kmzshWIox",
        "outputId": "f727ec95-f7d2-4cdc-85f3-25390017361c"
      },
      "outputs": [
        {
          "name": "stdout",
          "output_type": "stream",
          "text": [
            "Predicted output ['1']\n"
          ]
        }
      ],
      "source": [
        "print('Predicted output', clf.predict(x_train[6].reshape(1,-1)))"
      ]
    },
    {
      "cell_type": "code",
      "execution_count": null,
      "metadata": {
        "id": "8GQfUdg7X5dy"
      },
      "outputs": [],
      "source": [
        "# get the prediction for all the training examples\n",
        "y_hat = clf.predict(x_train)"
      ]
    },
    {
      "cell_type": "code",
      "execution_count": null,
      "metadata": {
        "colab": {
          "base_uri": "https://localhost:8080/"
        },
        "id": "O0Flb7qqYFxN",
        "outputId": "b9eebb34-4b33-491e-82df-f7511be522ac"
      },
      "outputs": [
        {
          "name": "stdout",
          "output_type": "stream",
          "text": [
            "              precision    recall  f1-score   support\n",
            "\n",
            "           0       0.98      0.95      0.97      5923\n",
            "           1       0.94      0.98      0.96      6742\n",
            "           2       0.89      0.90      0.90      5958\n",
            "           3       0.86      0.87      0.87      6131\n",
            "           4       0.89      0.94      0.91      5842\n",
            "           5       0.81      0.88      0.85      5421\n",
            "           6       0.92      0.97      0.94      5918\n",
            "           7       0.91      0.94      0.92      6265\n",
            "           8       0.92      0.77      0.84      5851\n",
            "           9       0.92      0.82      0.87      5949\n",
            "\n",
            "    accuracy                           0.90     60000\n",
            "   macro avg       0.90      0.90      0.90     60000\n",
            "weighted avg       0.91      0.90      0.90     60000\n",
            "\n"
          ]
        }
      ],
      "source": [
        "print(classification_report(y_train, y_hat))"
      ]
    },
    {
      "cell_type": "code",
      "execution_count": null,
      "metadata": {
        "colab": {
          "base_uri": "https://localhost:8080/",
          "height": 279
        },
        "id": "V1-Th4-Ukn2P",
        "outputId": "f175578b-512d-46fe-a17e-182f9277a871"
      },
      "outputs": [
        {
          "data": {
            "image/png": "[encoded data removed]",
            "text/plain": [
              "<Figure size 432x288 with 2 Axes>"
            ]
          },
          "metadata": {},
          "output_type": "display_data"
        }
      ],
      "source": [
        "cm_display = ConfusionMatrixDisplay.from_predictions(y_train, y_hat,values_format='.5g') #it returns a matplotlib plot object\n",
        "plt.show()"
      ]
    },
    {
      "cell_type": "markdown",
      "metadata": {
        "id": "bs6bEvWClEb1"
      },
      "source": [
        "- What are all the insights we could infer from the above figure?\n",
        "- Digit 2 is often confused with digit 3"
      ]
    },
    {
      "cell_type": "markdown",
      "metadata": {
        "id": "_ekhETPslWy8"
      },
      "source": [
        "### Making a pipeline\n",
        "- Let's create a pipeline to keep the code compact.\n",
        "- Recall that, the MNIST dataset is clean and hence doesnt require preprocessing.\n",
        "- The one potential technique we may use is scale features within the range(0,1)\n",
        "- It is **not** similar to scaling down the range values between 0 and 1."
      ]
    },
    {
      "cell_type": "code",
      "execution_count": null,
      "metadata": {
        "id": "hMqjV8B7k-PD"
      },
      "outputs": [],
      "source": [
        "# create a list of named tuples\n",
        "estimators = [('std_scaler', MinMaxScaler()), ('bin_clf', Perceptron())]\n",
        "pipe = Pipeline(estimators)"
      ]
    },
    {
      "cell_type": "code",
      "execution_count": null,
      "metadata": {
        "colab": {
          "base_uri": "https://localhost:8080/"
        },
        "id": "kVAAuRr-mMyf",
        "outputId": "2fd995ae-a653-4997-cd89-38eae643d1e7"
      },
      "outputs": [
        {
          "data": {
            "text/plain": [
              "Pipeline(steps=[('std_scaler', MinMaxScaler()), ('bin_clf', Perceptron())])"
            ]
          },
          "execution_count": 152,
          "metadata": {},
          "output_type": "execute_result"
        }
      ],
      "source": [
        "pipe.fit(x_train, y_train_0)"
      ]
    },
    {
      "cell_type": "code",
      "execution_count": null,
      "metadata": {
        "colab": {
          "base_uri": "https://localhost:8080/",
          "height": 279
        },
        "id": "oA2TgsIkmQu3",
        "outputId": "d36345f4-eb7c-45fc-8f85-bdd94c77c614"
      },
      "outputs": [
        {
          "data": {
            "image/png": "[encoded data removed]",
            "text/plain": [
              "<Figure size 432x288 with 2 Axes>"
            ]
          },
          "metadata": {},
          "output_type": "display_data"
        }
      ],
      "source": [
        "y_hat_train_0 = pipe.predict(x_train)\n",
        "cm_display = ConfusionMatrixDisplay.from_predictions(y_train_0, y_hat_train_0, values_format='.5g')\n",
        "plt.show()"
      ]
    },
    {
      "cell_type": "markdown",
      "metadata": {
        "id": "nW-B68ftnGTe"
      },
      "source": [
        "### Iteration vs Loss Curve\n",
        "The other way of **Plotting iteration vs Loss curve** with `partial_fit` method"
      ]
    },
    {
      "cell_type": "code",
      "execution_count": null,
      "metadata": {
        "id": "3iLAahnhmw_y"
      },
      "outputs": [],
      "source": [
        "iterations = 100\n",
        "bin_clf1 = Perceptron(max_iter=1000, random_state=2094)\n",
        "Loss_clf1 = []\n",
        "for i in range(iterations):\n",
        "    bin_clf1.partial_fit(x_train, y_train_0, classes=np.array([-1,1]))\n",
        "    y_hat_0 = bin_clf1.decision_function(x_train)\n",
        "    Loss_clf1.append(hinge_loss(y_train_0, y_hat_0))"
      ]
    },
    {
      "cell_type": "code",
      "execution_count": null,
      "metadata": {
        "colab": {
          "base_uri": "https://localhost:8080/",
          "height": 279
        },
        "id": "bPU2S-x8oJIt",
        "outputId": "84d5b576-725d-44b0-8c8c-c6273e7825ea"
      },
      "outputs": [
        {
          "data": {
            "image/png": "[encoded data removed]",
            "text/plain": [
              "<Figure size 432x288 with 1 Axes>"
            ]
          },
          "metadata": {},
          "output_type": "display_data"
        }
      ],
      "source": [
        "plt.figure()\n",
        "plt.plot(np.arange(iterations), Loss_clf1)\n",
        "plt.grid(True)\n",
        "plt.xlabel('Iteration')\n",
        "plt.ylabel('Training loss')\n",
        "plt.show()"
      ]
    },
    {
      "cell_type": "markdown",
      "metadata": {
        "id": "oQs-jKdRotLq"
      },
      "source": [
        "### GridSearchCV\n",
        "- So far we didn't do any hyperparameter tuning. We accepted the default value for learning rate of Perceptron class.\n",
        "- Now let us search for a better learning rate using `GridSearchCV`.\n",
        "- No matter what the learning rate is, the loss will never converge to zero as classes are not linearly separable."
      ]
    },
    {
      "cell_type": "code",
      "execution_count": null,
      "metadata": {
        "colab": {
          "base_uri": "https://localhost:8080/"
        },
        "id": "JC7trZs6okSU",
        "outputId": "17575189-415d-4004-855c-3946dc7073bf"
      },
      "outputs": [
        {
          "data": {
            "text/plain": [
              "GridSearchCV(cv=5, estimator=Perceptron(),\n",
              "             param_grid={'eta0': [0.5, 0.25, 0.125, 0.0625, 0.03125]},\n",
              "             scoring=make_scorer(hinge_loss, greater_is_better=False))"
            ]
          },
          "execution_count": 156,
          "metadata": {},
          "output_type": "execute_result"
        }
      ],
      "source": [
        "scoring = make_scorer(hinge_loss, greater_is_better=False)\n",
        "lr_grid = [1/2**n for n in range(1,6)]\n",
        "bin_clf_gscv = GridSearchCV(Perceptron(), param_grid={'eta0':lr_grid},scoring=scoring, cv=5)\n",
        "bin_clf_gscv.fit(x_train, y_train_0)"
      ]
    },
    {
      "cell_type": "code",
      "execution_count": null,
      "metadata": {
        "colab": {
          "base_uri": "https://localhost:8080/"
        },
        "id": "YXHhPIHVp5rI",
        "outputId": "78e40d08-9df2-444f-f2aa-88faaab883be"
      },
      "outputs": [
        {
          "name": "stdout",
          "output_type": "stream",
          "text": [
            "{'mean_fit_time': array([1.38710709, 1.24280896, 1.06078939, 0.89691143, 0.8232986 ]),\n",
            " 'mean_score_time': array([0.03171921, 0.02215948, 0.01746993, 0.01811504, 0.01746025]),\n",
            " 'mean_test_score': array([-0.0285    , -0.0285    , -0.02643333, -0.03066667, -0.0421    ]),\n",
            " 'param_eta0': masked_array(data=[0.5, 0.25, 0.125, 0.0625, 0.03125],\n",
            "             mask=[False, False, False, False, False],\n",
            "       fill_value='?',\n",
            "            dtype=object),\n",
            " 'params': [{'eta0': 0.5},\n",
            "            {'eta0': 0.25},\n",
            "            {'eta0': 0.125},\n",
            "            {'eta0': 0.0625},\n",
            "            {'eta0': 0.03125}],\n",
            " 'rank_test_score': array([2, 2, 1, 4, 5], dtype=int32),\n",
            " 'split0_test_score': array([-0.02166667, -0.02166667, -0.02166667, -0.02166667, -0.02166667]),\n",
            " 'split1_test_score': array([-0.0395, -0.0395, -0.0395, -0.0395, -0.0395]),\n",
            " 'split2_test_score': array([-0.02816667, -0.02816667, -0.02816667, -0.02816667, -0.02816667]),\n",
            " 'split3_test_score': array([-0.023     , -0.023     , -0.023     , -0.04416667, -0.04416667]),\n",
            " 'split4_test_score': array([-0.03016667, -0.03016667, -0.01983333, -0.01983333, -0.077     ]),\n",
            " 'std_fit_time': array([0.40692812, 0.30679304, 0.26840973, 0.1189615 , 0.09245184]),\n",
            " 'std_score_time': array([0.00968775, 0.00971635, 0.00020759, 0.00125487, 0.00024627]),\n",
            " 'std_test_score': array([0.00633772, 0.00633772, 0.00709663, 0.0096425 , 0.01918697])}\n"
          ]
        }
      ],
      "source": [
        "pprint(bin_clf_gscv.cv_results_)"
      ]
    },
    {
      "cell_type": "markdown",
      "metadata": {
        "id": "8wci53lhqZEv"
      },
      "source": [
        "As you can see the best learning rate is 0.125"
      ]
    },
    {
      "cell_type": "code",
      "execution_count": null,
      "metadata": {
        "colab": {
          "background_save": true
        },
        "id": "3POdKSGJqHba"
      },
      "outputs": [],
      "source": [
        "iterations = 100\n",
        "best_bin_clf = Perceptron(max_iter=1000, random_state=2094,eta0=0.125)\n",
        "Loss = []\n",
        "for i in range(iterations):\n",
        "    best_bin_clf.partial_fit(x_train, y_train_0, classes=np.array([-1,1]))\n",
        "    y_hat_0 = best_bin_clf.decision_function(x_train)\n",
        "    Loss.append(hinge_loss(y_train_0, y_hat_0))"
      ]
    },
    {
      "cell_type": "code",
      "execution_count": null,
      "metadata": {
        "colab": {
          "background_save": true
        },
        "id": "IhDUs7-Dq1r0",
        "outputId": "8cd6727a-88a4-428a-80ec-3143be82132b"
      },
      "outputs": [
        {
          "data": {
            "image/png": "[encoded data removed]",
            "text/plain": [
              "<Figure size 432x288 with 1 Axes>"
            ]
          },
          "metadata": {},
          "output_type": "display_data"
        }
      ],
      "source": [
        "plt.figure()\n",
        "plt.plot(np.arange(iterations), Loss_clf1, label='et0=1')\n",
        "plt.plot(np.arange(iterations), Loss, label=\"eta0=0.125\")\n",
        "plt.grid(True)\n",
        "plt.xlabel('Iteration')\n",
        "plt.ylabel('Training loss')\n",
        "plt.legend()\n",
        "plt.show()"
      ]
    },
    {
      "cell_type": "markdown",
      "metadata": {
        "id": "Hd6uJ9VfrVoG"
      },
      "source": [
        "Well, instead of instantiating a Perceptron class with a new learning rate and re-train the model, we could simply get the `best_estimator_` from the `GridSearchCV` as follows:"
      ]
    },
    {
      "cell_type": "code",
      "execution_count": null,
      "metadata": {
        "colab": {
          "background_save": true
        },
        "id": "maTPYZYyrNpf"
      },
      "outputs": [],
      "source": [
        "best_bin_clf = bin_clf_gscv.best_estimator_"
      ]
    },
    {
      "cell_type": "code",
      "execution_count": null,
      "metadata": {
        "colab": {
          "background_save": true
        },
        "id": "3m7PlEhGryTh",
        "outputId": "9b146802-59ba-49b0-adcd-924cc301e17d"
      },
      "outputs": [
        {
          "name": "stdout",
          "output_type": "stream",
          "text": [
            "              precision    recall  f1-score   support\n",
            "\n",
            "        -1.0       0.99      0.99      0.99     54077\n",
            "         1.0       0.95      0.95      0.95      5923\n",
            "\n",
            "    accuracy                           0.99     60000\n",
            "   macro avg       0.97      0.97      0.97     60000\n",
            "weighted avg       0.99      0.99      0.99     60000\n",
            "\n"
          ]
        }
      ],
      "source": [
        "y_hat_train_0 = best_bin_clf.predict(x_train)\n",
        "print(classification_report(y_train_0, y_hat_train_0))"
      ]
    },
    {
      "cell_type": "markdown",
      "metadata": {
        "id": "shYs7peis0_i"
      },
      "source": [
        "Compare the classification report when `eta0=1`"
      ]
    },
    {
      "cell_type": "markdown",
      "metadata": {
        "id": "sTthIhWItKpK"
      },
      "source": [
        "### Visualizing weight Vectors\n",
        "It will be interesting to look at the samples which are misclassified as False Positives(i.e images that are not zero but classified as zero) and come up with a possible reasons."
      ]
    },
    {
      "cell_type": "code",
      "execution_count": null,
      "metadata": {
        "colab": {
          "background_save": true
        },
        "id": "FpM1bqi5sCjq"
      },
      "outputs": [],
      "source": [
        "#Repeating the code for readablility\n",
        "bin_clf = Perceptron(max_iter=100)\n",
        "bin_clf.fit(x_train, y_train_0)\n",
        "y_hat_train_0 = bin_clf.predict(x_train)"
      ]
    },
    {
      "cell_type": "code",
      "execution_count": null,
      "metadata": {
        "colab": {
          "background_save": true
        },
        "id": "nUUTwZUJtz58"
      },
      "outputs": [],
      "source": [
        "# find the index of false positives samples\n",
        "idx_n = np.where(y_train_0 == -1) #index of true -ve samples\n",
        "idx_pred_p = np.where(y_hat_train_0 == 1) #index of predicted positive samples\n",
        "idx_pred_n = np.where(y_hat_train_0 == -1) #index of predicted negative samples\n",
        "idx_fp = np.intersect1d(idx_n, idx_pred_p)\n",
        "idx_tn = np.intersect1d(idx_n, idx_pred_n)"
      ]
    },
    {
      "cell_type": "code",
      "execution_count": null,
      "metadata": {
        "id": "JLaFUpKpu5jK"
      },
      "outputs": [],
      "source": [
        "fig, ax = plt.subplots(nrows=factor, ncols=factor, figsize=(8,6))\n",
        "idx_offset = 0\n",
        "for i in range(3):\n",
        "    index =  idx_offset + i\n",
        "    for j in range(3):\n",
        "        ax[i,j].imshow(x_train[idx_fp[index+j]].reshape(28,28), cmap='gray')\n",
        "        ax[i,j].set_title(f'GT: {str(y_train_0[idx_fp[index+j]])}, Pr: {str(y_hat_train_0[idx_fp[index+j]])}')\n",
        "        ax[i,j].set_axis_off()"
      ]
    },
    {
      "cell_type": "markdown",
      "metadata": {
        "id": "hlr4yAO2wHqm"
      },
      "source": [
        "We can do some reasoning if we look into what the perceptron is actually learning about the digit **0** by visualizing the weight values after the training."
      ]
    },
    {
      "cell_type": "code",
      "execution_count": null,
      "metadata": {
        "id": "YUvWM3MsvxTK"
      },
      "outputs": [],
      "source": [
        "from matplotlib.colors import Normalize"
      ]
    },
    {
      "cell_type": "code",
      "execution_count": null,
      "metadata": {
        "id": "YekCFXT5wZgi"
      },
      "outputs": [],
      "source": [
        "w = bin_clf.coef_\n",
        "w_matrix = w.reshape(28,28)\n",
        "fig = plt.figure()\n",
        "plt.imshow(w_matrix, cmap='gray')\n",
        "plt.grid(False)\n",
        "plt.axis(False)\n",
        "plt.colorbar()\n",
        "plt.show()"
      ]
    },
    {
      "cell_type": "code",
      "execution_count": null,
      "metadata": {
        "id": "GxOkScF5wwq-"
      },
      "outputs": [],
      "source": [
        "activation = w * x_train[idx_fp[0]].reshape(1,-1)\n",
        "lin_out = activation.reshape(28,28)\n",
        "plt.subplot(1,2,1)\n",
        "plt.imshow(x_train[idx_fp[0]].reshape(28,28), cmap='gray')\n",
        "plt.colorbar()\n",
        "\n",
        "#lin_out[lin_out<0] = 0 # Just set the values less than zero to zero\n",
        "plt.subplot(1,2,2)\n",
        "plt.imshow(lin_out, cmap='gray')\n",
        "plt.colorbar()\n",
        "plt.grid(False)\n",
        "plt.axis(False)\n",
        "plt.show()"
      ]
    },
    {
      "cell_type": "code",
      "execution_count": null,
      "metadata": {
        "id": "A4p3gcVSyBov"
      },
      "outputs": [],
      "source": [
        "#input to the signum\n",
        "print(np.sum(lin_out) + bin_clf.intercept_)"
      ]
    },
    {
      "cell_type": "code",
      "execution_count": null,
      "metadata": {
        "id": "1CWC7fH2yRf3"
      },
      "outputs": [],
      "source": [
        "activation = w * x_train[idx_tn[0]].reshape(1,-1)\n",
        "lin_out = activation.reshape(28,28)\n",
        "plt.subplot(1,2,1)\n",
        "plt.imshow(x_train[idx_tn[0]].reshape(28,28), cmap='gray')\n",
        "plt.colorbar()\n",
        "\n",
        "#lin_out[lin_out<0] = 0 # Just set the values less than zero to zero\n",
        "plt.subplot(1,2,2)\n",
        "plt.imshow(lin_out, cmap='gray')\n",
        "plt.colorbar()\n",
        "plt.grid(False)\n",
        "plt.axis(False)\n",
        "plt.show()"
      ]
    },
    {
      "cell_type": "code",
      "execution_count": null,
      "metadata": {
        "id": "GICDic1zyZEA"
      },
      "outputs": [],
      "source": [
        "#input to the signum\n",
        "print(np.sum(lin_out) + bin_clf.intercept_)"
      ]
    }
  ],
  "metadata": {
    "colab": {
      "collapsed_sections": [],
      "name": "Week 5.ipynb",
      "provenance": []
    },
    "kernelspec": {
      "display_name": "Python 3.9.7 ('base')",
      "language": "python",
      "name": "python3"
    },
    "language_info": {
      "codemirror_mode": {
        "name": "ipython",
        "version": 3
      },
      "file_extension": ".py",
      "mimetype": "text/x-python",
      "name": "python",
      "nbconvert_exporter": "python",
      "pygments_lexer": "ipython3",
      "version": "3.9.7"
    },
    "vscode": {
      "interpreter": {
        "hash": "9244b6adea22edad6e19cdea93c196ea7ddff3c1d91dfb077ea542e13d85dd05"
      }
    }
  },
  "nbformat": 4,
  "nbformat_minor": 0
}