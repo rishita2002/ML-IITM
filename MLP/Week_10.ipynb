{
  "nbformat": 4,
  "nbformat_minor": 0,
  "metadata": {
    "colab": {
      "name": "Untitled2.ipynb",
      "provenance": [],
      "collapsed_sections": []
    },
    "kernelspec": {
      "name": "python3",
      "display_name": "Python 3"
    },
    "language_info": {
      "name": "python"
    }
  },
  "cells": [
    {
      "cell_type": "markdown",
      "source": [
        "## [Lecture 10.2: Bagging and Random Forest Classifier on MNIST](https://www.youtube.com/watch?v=fy7AhpixJ-A)"
      ],
      "metadata": {
        "id": "MSFHwn60Nmp-"
      }
    },
    {
      "cell_type": "markdown",
      "source": [
        "In this notebook, we will implement **multiclass MNIST digit recognition classifier** with **decision trees** and **ensemble techniques**.\n",
        "\n",
        "**Import basic libraries**"
      ],
      "metadata": {
        "id": "mw18T8GcNzVE"
      }
    },
    {
      "cell_type": "code",
      "execution_count": 1,
      "metadata": {
        "id": "fNcR4t4tNfZ1"
      },
      "outputs": [],
      "source": [
        "# plotting utility\n",
        "import matplotlib.pyplot as plt\n",
        "\n",
        "# dataset loading through mnist\n",
        "from keras.datasets import mnist\n",
        "\n",
        "# training three classifiers: decision tree, bagging and random forest\n",
        "from sklearn.ensemble import BaggingClassifier\n",
        "from sklearn.ensemble import RandomForestClassifier\n",
        "from sklearn.tree import DecisionTreeClassifier\n",
        "\n",
        "# model selection utilities for training and test split and cross validation\n",
        "from sklearn.model_selection import train_test_split\n",
        "from sklearn.model_selection import cross_validate\n",
        "from sklearn.model_selection import cross_val_score\n",
        "\n",
        "# use shuffle-split cross validation for this exercise.\n",
        "from sklearn.model_selection import ShuffleSplit\n",
        "\n",
        "# make use of confusion matrix and classification report to evaluate performance\n",
        "# on the test set.\n",
        "from sklearn.metrics import confusion_matrix, ConfusionMatrixDisplay\n",
        "from sklearn.metrics import classification_report\n",
        "\n",
        "# the model is defined through pipeline utility\n",
        "from sklearn.pipeline import Pipeline"
      ]
    },
    {
      "cell_type": "markdown",
      "source": [
        "### Loading MNIST dataset\n",
        "We begin by loading MNIST dataset with `load_data` function in `mnist` class\n",
        "We obtain:\n",
        "- Training feature matrix and labels\n",
        "- Test feature matrix and labels"
      ],
      "metadata": {
        "id": "sZjOokmHPmMF"
      }
    },
    {
      "cell_type": "code",
      "source": [
        "# Load dataset\n",
        "(X_train, y_train), (X_test, y_test) = mnist.load_data()"
      ],
      "metadata": {
        "colab": {
          "base_uri": "https://localhost:8080/"
        },
        "id": "6EO5I8ZxPkR3",
        "outputId": "944244ff-4dba-44f6-ef04-04d48425b8d5"
      },
      "execution_count": 2,
      "outputs": [
        {
          "output_type": "stream",
          "name": "stdout",
          "text": [
            "Downloading data from https://storage.googleapis.com/tensorflow/tf-keras-datasets/mnist.npz\n",
            "11493376/11490434 [==============================] - 0s 0us/step\n",
            "11501568/11490434 [==============================] - 0s 0us/step\n"
          ]
        }
      ]
    },
    {
      "cell_type": "markdown",
      "source": [
        "As you know there are 60000 examples in training set and 10000 examples in the test set.\n",
        "\n",
        "Each example is a grey scale image of size 28 x 28. There are 10 different labels - one for each digit 0 to 9."
      ],
      "metadata": {
        "id": "iKErhrUOQDgO"
      }
    },
    {
      "cell_type": "code",
      "source": [
        "print('Shape of training data', X_train.shape)\n",
        "print('Shape of training labels', y_train.shape)\n",
        "print('Shape of testing data', X_test.shape)\n",
        "print('Shape of testing labels', y_test.shape)"
      ],
      "metadata": {
        "colab": {
          "base_uri": "https://localhost:8080/"
        },
        "id": "OEATrbREQBDp",
        "outputId": "860164dd-c288-4a49-8bd1-731bda791aa2"
      },
      "execution_count": 3,
      "outputs": [
        {
          "output_type": "stream",
          "name": "stdout",
          "text": [
            "Shape of training data (60000, 28, 28)\n",
            "Shape of training labels (60000,)\n",
            "Shape of testing data (10000, 28, 28)\n",
            "Shape of testing labels (10000,)\n"
          ]
        }
      ]
    },
    {
      "cell_type": "markdown",
      "source": [
        "Before using the dataset for training and evaluation, we need to flatten it into a vector. After flattening it, we have training and test examples represented with a vector of 784 features. Each feature records pixel intensity in each of 28 x 28 pixel.\n",
        "\n",
        "We normalize the pixel intensity by dividing it with the maximum value i.e 255. In that sense we have feature value in the range 0 to 1."
      ],
      "metadata": {
        "id": "eJwLlvApQv7j"
      }
    },
    {
      "cell_type": "code",
      "source": [
        "# Flatten each input image into a vector of length 784\n",
        "X_train = X_train.reshape(X_train.shape[0], 784)\n",
        "X_test = X_test.reshape(X_test.shape[0], 784)\n",
        "\n",
        "# Normalizing.\n",
        "X_train = X_train/255\n",
        "X_test = X_test/255"
      ],
      "metadata": {
        "id": "HI7bCyO_QuEB"
      },
      "execution_count": 4,
      "outputs": []
    },
    {
      "cell_type": "code",
      "source": [
        "print('Shape of training data after flattening', X_train.shape)\n",
        "print('Shape of testing data after flattening', X_test.shape)"
      ],
      "metadata": {
        "colab": {
          "base_uri": "https://localhost:8080/"
        },
        "id": "xA2DzzpiSqTg",
        "outputId": "34876c85-d7fe-4242-ca3a-584939bbb38a"
      },
      "execution_count": 5,
      "outputs": [
        {
          "output_type": "stream",
          "name": "stdout",
          "text": [
            "Shape of training data after flattening (60000, 784)\n",
            "Shape of testing data after flattening (10000, 784)\n"
          ]
        }
      ]
    },
    {
      "cell_type": "markdown",
      "source": [
        "We use `ShuffleSplit` cross validation with 10 splits and 20% data set aside for model evaluation as a test data."
      ],
      "metadata": {
        "id": "d7g25SPwS-8w"
      }
    },
    {
      "cell_type": "code",
      "source": [
        "cv = ShuffleSplit(n_splits=10, test_size=0.2, random_state=42)"
      ],
      "metadata": {
        "id": "RdhGIySJS468"
      },
      "execution_count": 6,
      "outputs": []
    },
    {
      "cell_type": "markdown",
      "source": [
        "We define two functions:\n",
        "1. `train_classifiers` contains a common code for training classifiers for MNIST multiclass classification problem.\n",
        "    - It takes `estimator`, feature_matrix, labels, cross validation strategy and name of the classifier as input.\n",
        "    - It first fits the estimator with feature matrix and labels.\n",
        "    - It obtains cross validated `f1_macro` score for training set with 10-fold `ShuffleSplit` cross validation and prints it."
      ],
      "metadata": {
        "id": "xYhLxlf1UeFr"
      }
    },
    {
      "cell_type": "code",
      "source": [
        "def train_classifiers(estimator, X_train, y_train, cv, name):\n",
        "    estimator.fit(X_train, y_train)\n",
        "    cv_train_score = cross_val_score(estimator, X_train, y_train, cv=cv, scoring='f1_macro')\n",
        "    print(f'On an average. {name} model has f1 score of '\n",
        "          f'{cv_train_score.mean():.3f} +/- {cv_train_score.std():.3f} on the training set')"
      ],
      "metadata": {
        "id": "hrMoFSv2TTq5"
      },
      "execution_count": 10,
      "outputs": []
    },
    {
      "cell_type": "markdown",
      "source": [
        "2. The `eval` function takes estimator, test feature matrix and labels as input  and produce classification report and confusion matrix.\n",
        "    - It first predicts labels for the test set.\n",
        "    - Then it uses these predicted labels for calculating various evaluation metrics like precision, recall, f1 score and accuracy for each of the 10 classes.\n",
        "    - It also obtains a confusion matrix by comparing these predictions with the actual labels and display it with `ConfusionMatrixDisplay` utility."
      ],
      "metadata": {
        "id": "kC_CfQDgWMPL"
      }
    },
    {
      "cell_type": "code",
      "source": [
        "def eval(estimator, X_test, y_test):\n",
        "    y_pred = estimator.predict(X_test)\n",
        "\n",
        "    print('# Classification report')\n",
        "    print(classification_report(y_test, y_pred))\n",
        "\n",
        "    print('# Confusion matrix')\n",
        "    disp = ConfusionMatrixDisplay(confusion_matrix=confusion_matrix(y_test, y_pred))\n",
        "    disp.plot()\n",
        "    plt.title('Confusion Matrix')\n",
        "    plt.show()"
      ],
      "metadata": {
        "id": "yd0f6cUZWK-y"
      },
      "execution_count": 8,
      "outputs": []
    },
    {
      "cell_type": "markdown",
      "source": [
        "Let's train three classifiers with default parameters\n",
        "- **Decision Tree**\n",
        "- **Bagging classifier** - which uses tree as default classifier and trains multiple decision tree classifiers on different bags obtained through bootstrap sampling of training set.\n",
        "- **Random forest classifier** - which is also a bagging technique, which trains different decision tree classifiers by randomly selecting attributes for splitting on bags of bootstrap sample of training set."
      ],
      "metadata": {
        "id": "fnlBPm5-dbVo"
      }
    },
    {
      "cell_type": "markdown",
      "source": [
        "### **Decision trees for MNIST multiclass classification**\n",
        "We instantiate a decision tree classifier with default parameters and train it. The `train_classifier` function prints mean of cross validated accuracy and standard deviation of the trained classifier on the training set."
      ],
      "metadata": {
        "id": "7mXdgf1je7AW"
      }
    },
    {
      "cell_type": "code",
      "source": [
        "decision_tree_pipeline = Pipeline([('classifier',DecisionTreeClassifier())])\n",
        "train_classifiers(decision_tree_pipeline, X_train, y_train.ravel(), cv, 'decision tree')"
      ],
      "metadata": {
        "colab": {
          "base_uri": "https://localhost:8080/"
        },
        "id": "OLOie3WedaAi",
        "outputId": "f1a13e19-3bd4-451a-a9a3-5ed72a35d7de"
      },
      "execution_count": 11,
      "outputs": [
        {
          "output_type": "stream",
          "name": "stdout",
          "text": [
            "On an average. decision tree model has f1 score of 0.867 +/- 0.004 on the training set\n"
          ]
        }
      ]
    },
    {
      "cell_type": "markdown",
      "source": [
        "Let's evaluate the trained classifier on the test set"
      ],
      "metadata": {
        "id": "IQJ8Owm7uGCB"
      }
    },
    {
      "cell_type": "code",
      "source": [
        "eval(decision_tree_pipeline, X_test, y_test)"
      ],
      "metadata": {
        "colab": {
          "base_uri": "https://localhost:8080/",
          "height": 625
        },
        "id": "soKBBhgtgqCJ",
        "outputId": "52e8edc8-7ab9-4cb8-ef99-6743238d95d4"
      },
      "execution_count": 12,
      "outputs": [
        {
          "output_type": "stream",
          "name": "stdout",
          "text": [
            "# Classification report\n",
            "              precision    recall  f1-score   support\n",
            "\n",
            "           0       0.91      0.94      0.92       980\n",
            "           1       0.96      0.96      0.96      1135\n",
            "           2       0.87      0.86      0.86      1032\n",
            "           3       0.83      0.85      0.84      1010\n",
            "           4       0.88      0.87      0.87       982\n",
            "           5       0.85      0.83      0.84       892\n",
            "           6       0.89      0.89      0.89       958\n",
            "           7       0.90      0.90      0.90      1028\n",
            "           8       0.82      0.82      0.82       974\n",
            "           9       0.86      0.85      0.85      1009\n",
            "\n",
            "    accuracy                           0.88     10000\n",
            "   macro avg       0.88      0.88      0.88     10000\n",
            "weighted avg       0.88      0.88      0.88     10000\n",
            "\n",
            "# Confusion matrix\n"
          ]
        },
        {
          "output_type": "display_data",
          "data": {
            "text/plain": [
              "<Figure size 432x288 with 2 Axes>"
            ],
            "image/png": "[encoded data removed]"
          },
          "metadata": {
            "needs_background": "light"
          }
        }
      ]
    },
    {
      "cell_type": "markdown",
      "source": [
        "### **MNIST classification with Bagging**\n",
        "Lets instantiate a bagging classifier object with default parameters and train it\n",
        "\n",
        "Observe the mean `f1_score` and its standard deviation obtained by the classifier based 10-fold cross validation of the training set"
      ],
      "metadata": {
        "id": "sr-FBDhvuYQC"
      }
    },
    {
      "cell_type": "code",
      "source": [
        "bagging_pipeline = Pipeline([('classifier', BaggingClassifier())])\n",
        "train_classifiers(bagging_pipeline, X_train, y_train.ravel(), cv, \"bagging\")"
      ],
      "metadata": {
        "colab": {
          "base_uri": "https://localhost:8080/"
        },
        "id": "OQ-S7gAYuO1E",
        "outputId": "914e36b3-1b8a-49ca-ab73-cc0abe1b261c"
      },
      "execution_count": 13,
      "outputs": [
        {
          "output_type": "stream",
          "name": "stdout",
          "text": [
            "On an average. bagging model has f1 score of 0.938 +/- 0.004 on the training set\n"
          ]
        }
      ]
    },
    {
      "cell_type": "markdown",
      "source": [
        "Let's evaluate the trained classifier on the test set"
      ],
      "metadata": {
        "id": "jH5TCMKYvHFU"
      }
    },
    {
      "cell_type": "code",
      "source": [
        "eval(bagging_pipeline, X_test, y_test)"
      ],
      "metadata": {
        "colab": {
          "base_uri": "https://localhost:8080/",
          "height": 625
        },
        "id": "wnmfS1gpvFA0",
        "outputId": "f98a443f-2111-4cf9-b9a6-879bc4007990"
      },
      "execution_count": 14,
      "outputs": [
        {
          "output_type": "stream",
          "name": "stdout",
          "text": [
            "# Classification report\n",
            "              precision    recall  f1-score   support\n",
            "\n",
            "           0       0.94      0.98      0.96       980\n",
            "           1       0.97      0.99      0.98      1135\n",
            "           2       0.93      0.93      0.93      1032\n",
            "           3       0.92      0.92      0.92      1010\n",
            "           4       0.93      0.93      0.93       982\n",
            "           5       0.92      0.90      0.91       892\n",
            "           6       0.95      0.94      0.95       958\n",
            "           7       0.96      0.94      0.95      1028\n",
            "           8       0.92      0.90      0.91       974\n",
            "           9       0.92      0.91      0.91      1009\n",
            "\n",
            "    accuracy                           0.94     10000\n",
            "   macro avg       0.93      0.93      0.93     10000\n",
            "weighted avg       0.94      0.94      0.94     10000\n",
            "\n",
            "# Confusion matrix\n"
          ]
        },
        {
          "output_type": "display_data",
          "data": {
            "text/plain": [
              "<Figure size 432x288 with 2 Axes>"
            ],
            "image/png": "[encoded data removed]"
          },
          "metadata": {
            "needs_background": "light"
          }
        }
      ]
    },
    {
      "cell_type": "markdown",
      "source": [
        "### **Random Forest for MNIST multiclass classification**\n",
        "Lets instantiate a random forest classifier object with default parameters and train it\n",
        "\n",
        "Observe the mean f1_score and its standard deviation obtained by the classifier based 10-fold cross validation of the training set"
      ],
      "metadata": {
        "id": "6gGt7A_e3raN"
      }
    },
    {
      "cell_type": "code",
      "source": [
        "random_forest_pipeline = Pipeline([('classifier', RandomForestClassifier())])\n",
        "train_classifiers(random_forest_pipeline, X_train, y_train.ravel(), cv, \"random forest\")"
      ],
      "metadata": {
        "colab": {
          "base_uri": "https://localhost:8080/"
        },
        "id": "hX-Gr1_L3q4T",
        "outputId": "fed7d2d8-e74e-4ea2-b345-eb73b94a90f3"
      },
      "execution_count": 15,
      "outputs": [
        {
          "output_type": "stream",
          "name": "stdout",
          "text": [
            "On an average. random forest model has f1 score of 0.967 +/- 0.001 on the training set\n"
          ]
        }
      ]
    },
    {
      "cell_type": "markdown",
      "source": [
        "Let's evaluate a random forest classifier on the test set and obtain classification report containing precision, recall, f1 score and accuracy for each class. It also calculates confusion matrix and displays it with `ConfusionMatrixDisplay` utility"
      ],
      "metadata": {
        "id": "Fapej2VT4Jlz"
      }
    },
    {
      "cell_type": "code",
      "source": [
        "eval(random_forest_pipeline, X_test, y_test)"
      ],
      "metadata": {
        "colab": {
          "base_uri": "https://localhost:8080/",
          "height": 625
        },
        "id": "tNt49WO_4iyl",
        "outputId": "84f94a6c-5034-4889-9e9a-8a6985b4c49a"
      },
      "execution_count": 16,
      "outputs": [
        {
          "output_type": "stream",
          "name": "stdout",
          "text": [
            "# Classification report\n",
            "              precision    recall  f1-score   support\n",
            "\n",
            "           0       0.97      0.99      0.98       980\n",
            "           1       0.99      0.99      0.99      1135\n",
            "           2       0.96      0.97      0.96      1032\n",
            "           3       0.96      0.96      0.96      1010\n",
            "           4       0.97      0.97      0.97       982\n",
            "           5       0.97      0.96      0.96       892\n",
            "           6       0.97      0.98      0.97       958\n",
            "           7       0.97      0.96      0.97      1028\n",
            "           8       0.96      0.96      0.96       974\n",
            "           9       0.95      0.95      0.95      1009\n",
            "\n",
            "    accuracy                           0.97     10000\n",
            "   macro avg       0.97      0.97      0.97     10000\n",
            "weighted avg       0.97      0.97      0.97     10000\n",
            "\n",
            "# Confusion matrix\n"
          ]
        },
        {
          "output_type": "display_data",
          "data": {
            "text/plain": [
              "<Figure size 432x288 with 2 Axes>"
            ],
            "image/png": "[encoded data removed]"
          },
          "metadata": {
            "needs_background": "light"
          }
        }
      ]
    },
    {
      "cell_type": "markdown",
      "source": [
        "### Summary\n",
        "- We trained three multi-class classifiers for handwritten digit recognition\n",
        "- The decision-tree-classifier is a baseline-classifier, which obtained accuracy of 88% on the test set.\n",
        "- Using bagging and training the same decision tree classifier gave us an increase of 6 percent point of accuracy, which translates to 94% accuracy on the test set.\n",
        "- Finally random forest pushed that further to 97% \n",
        "- We can see that how ensemble techniques give better results on the classification task compared to a single classifier.\n",
        "- With this demonstration, you have added three powerful tools in your ML toolkit\n"
      ],
      "metadata": {
        "id": "ctS-g4Sbzhl0"
      }
    },
    {
      "cell_type": "markdown",
      "source": [
        "## [Lecture 10.3: Bagging and Random Forest Regressor on California Housing Dataset](https://www.youtube.com/watch?v=cjf5b1dx6Tk)\n",
        "In this notebook, we will apply ensemble techniques problem in california housing dataset.\n",
        "\n",
        "We have already applied different regressors on california housing dataset. In this notebook, we will make use of:\n",
        "- Decision Tree regressor\n",
        "- Bagging regressor\n",
        "- Random Forest regressor\n",
        "\n",
        "We will observe performance improvement when we use random forest over decision trees and bagging, which also uses decision tree regressors"
      ],
      "metadata": {
        "id": "EykVEuPi-pMc"
      }
    },
    {
      "cell_type": "code",
      "source": [
        "import pandas as pd\n",
        "import numpy as np\n",
        "\n",
        "from sklearn.datasets import fetch_california_housing\n",
        "from sklearn.ensemble import BaggingRegressor\n",
        "from sklearn.ensemble import RandomForestRegressor\n",
        "\n",
        "from sklearn.metrics import mean_absolute_error\n",
        "from sklearn.model_selection import cross_validate\n",
        "from sklearn.model_selection import train_test_split\n",
        "from sklearn.model_selection import RandomizedSearchCV\n",
        "from sklearn.model_selection import ShuffleSplit\n",
        "\n",
        "from sklearn.tree import DecisionTreeRegressor"
      ],
      "metadata": {
        "id": "K4F9kd_vvPlr"
      },
      "execution_count": 25,
      "outputs": []
    },
    {
      "cell_type": "code",
      "source": [
        "np.random.seed(306)"
      ],
      "metadata": {
        "id": "vyMrYzWFAMAX"
      },
      "execution_count": 26,
      "outputs": []
    },
    {
      "cell_type": "markdown",
      "source": [
        "Let's use `ShuffleSplit` as cv with 10 splits and 20% examples set aside as test examples"
      ],
      "metadata": {
        "id": "VpsUEHT3ARkN"
      }
    },
    {
      "cell_type": "code",
      "source": [
        "cv = ShuffleSplit(n_splits=10, test_size=0.2, random_state=42)"
      ],
      "metadata": {
        "id": "ElD7NcOpAOSG"
      },
      "execution_count": 27,
      "outputs": []
    },
    {
      "cell_type": "markdown",
      "source": [
        "Let's download the data and split it into training and test"
      ],
      "metadata": {
        "id": "0pMDZW5nAhP-"
      }
    },
    {
      "cell_type": "code",
      "source": [
        "# fetch dataset\n",
        "features, labels = fetch_california_housing(as_frame=True, return_X_y=True)\n",
        "labels *= 100\n",
        "# train-test split\n",
        "com_train_features, test_features, com_train_labels, test_labels = train_test_split(features, labels, random_state=42)\n",
        "\n",
        "# train ------> train + dev split\n",
        "train_features, dev_features, train_labels, dev_labels = train_test_split(com_train_features, com_train_labels, random_state=42)"
      ],
      "metadata": {
        "id": "HsujS1I7Agfd"
      },
      "execution_count": 28,
      "outputs": []
    },
    {
      "cell_type": "markdown",
      "source": [
        "### Training diffeent regressors\n",
        "Let's train different regressors:"
      ],
      "metadata": {
        "id": "Yn3J-IBaH_9M"
      }
    },
    {
      "cell_type": "code",
      "source": [
        "def train_regressor(estimator, X_train, y_train, cv, name):\n",
        "    cv_results = cross_validate(estimator,\n",
        "                                X_train,\n",
        "                                y_train,\n",
        "                                cv=cv,\n",
        "                                scoring='neg_mean_absolute_error',\n",
        "                                return_train_score=True,\n",
        "                                return_estimator=True)\n",
        "    \n",
        "    cv_train_error = -1 * cv_results['train_score']\n",
        "    cv_test_error = -1 * cv_results['test_score']\n",
        "\n",
        "    print(f'On an average. {name} model makes and error of '\n",
        "          f'{cv_train_error.mean():.3f}k +/- {cv_train_error.std():.3f}k on the training set')\n",
        "    print(f'On an average. {name} model makes and error of '\n",
        "          f'{cv_test_error.mean():.3f}k +/- {cv_test_error.std():.3f}k on the testing set')\n"
      ],
      "metadata": {
        "id": "HhXv8MHyBwHq"
      },
      "execution_count": 29,
      "outputs": []
    },
    {
      "cell_type": "code",
      "source": [
        "#@title Decision Tree Regressor\n",
        "train_regressor(DecisionTreeRegressor(),\n",
        "                com_train_features,\n",
        "                com_train_labels,\n",
        "                cv,\n",
        "                'decision tree regressor')"
      ],
      "metadata": {
        "colab": {
          "base_uri": "https://localhost:8080/"
        },
        "id": "kmGGlw6TJJha",
        "outputId": "c2ce8a3b-2812-426f-813e-ae8d01ebe1bd"
      },
      "execution_count": 24,
      "outputs": [
        {
          "output_type": "stream",
          "name": "stdout",
          "text": [
            "On an average. decision tree regressor model makes and error of 0.000k +/- 0.000k on the training set\n",
            "On an average. decision tree regressor model makes and error of 47.419k +/- 1.114k on the testing set\n"
          ]
        }
      ]
    },
    {
      "cell_type": "code",
      "source": [
        "#@title Bagging Regressor\n",
        "train_regressor(BaggingRegressor(),\n",
        "                com_train_features,\n",
        "                com_train_labels,\n",
        "                cv,\n",
        "                'bagging regressor')"
      ],
      "metadata": {
        "colab": {
          "base_uri": "https://localhost:8080/"
        },
        "id": "Ke2FQxnxJack",
        "outputId": "6e729307-bd8a-4271-fe69-ad401fe77573"
      },
      "execution_count": 30,
      "outputs": [
        {
          "output_type": "stream",
          "name": "stdout",
          "text": [
            "On an average. bagging regressor model makes and error of 14.446k +/- 0.190k on the training set\n",
            "On an average. bagging regressor model makes and error of 35.355k +/- 1.044k on the testing set\n"
          ]
        }
      ]
    },
    {
      "cell_type": "markdown",
      "source": [
        "#### Random Forest Regressor"
      ],
      "metadata": {
        "id": "UbtiCQHyZXgv"
      }
    },
    {
      "cell_type": "code",
      "source": [
        "#@title Random Forest Regressor\n",
        "train_regressor(RandomForestRegressor(),\n",
        "                com_train_features,\n",
        "                com_train_labels,\n",
        "                cv,\n",
        "                'random forest regressor')"
      ],
      "metadata": {
        "colab": {
          "base_uri": "https://localhost:8080/"
        },
        "id": "s68EH5g-ZHOz",
        "outputId": "d4f3de70-c468-4f43-87c7-fdb53624c225"
      },
      "execution_count": 31,
      "outputs": [
        {
          "output_type": "stream",
          "name": "stdout",
          "text": [
            "On an average. random forest regressor model makes and error of 12.626k +/- 0.069k on the training set\n",
            "On an average. random forest regressor model makes and error of 33.203k +/- 0.702k on the testing set\n"
          ]
        }
      ]
    },
    {
      "cell_type": "markdown",
      "source": [
        "### Parameter search for Random Forest Regressor"
      ],
      "metadata": {
        "id": "bxv_Ej2ccGAR"
      }
    },
    {
      "cell_type": "code",
      "source": [
        "param_distributions = {\n",
        "    'n_estimators': [1, 2, 5, 10, 20, 50, 100, 200, 500],\n",
        "    'max_leaf_nodes': [2, 5, 10, 20, 50, 100]\n",
        "}\n",
        "search_cv = RandomizedSearchCV(\n",
        "    RandomForestRegressor(n_jobs=2), param_distributions=param_distributions,\n",
        "    scoring='neg_mean_absolute_error', n_iter=10, random_state=0, n_jobs=2)\n",
        "\n",
        "search_cv.fit(com_train_features, com_train_labels)\n",
        "\n",
        "columns = [f'param_{name}' for name in param_distributions.keys()]\n",
        "columns += ['mean_test_error', 'std_test_error']\n",
        "cv_results = pd.DataFrame(search_cv.cv_results_)\n",
        "cv_results['mean_test_error'] = -cv_results['mean_test_score']\n",
        "cv_results['std_test_error'] = -cv_results['std_test_score']\n",
        "cv_results[columns].sort_values(by='mean_test_error')"
      ],
      "metadata": {
        "colab": {
          "base_uri": "https://localhost:8080/",
          "height": 363
        },
        "id": "O5BsIty_Za2A",
        "outputId": "a242f9ad-d3d3-4f50-bbfb-5132bba455e9"
      },
      "execution_count": 33,
      "outputs": [
        {
          "output_type": "execute_result",
          "data": {
            "text/plain": [
              "  param_n_estimators param_max_leaf_nodes  mean_test_error  std_test_error\n",
              "0                500                  100        40.647217       -0.779740\n",
              "2                 10                  100        41.061012       -0.974112\n",
              "7                100                   50        43.818901       -0.832671\n",
              "8                  1                  100        47.757254       -1.573151\n",
              "1                100                   20        49.482152       -1.030793\n",
              "6                 50                   20        49.597050       -0.999616\n",
              "9                 10                   20        50.061604       -1.284793\n",
              "3                500                   10        55.017062       -1.077074\n",
              "4                  5                    5        61.546459       -1.057208\n",
              "5                  5                    2        73.409157       -1.316663"
            ],
            "text/html": [
              "\n",
              "  <div id=\"df-abaac2ba-c524-4638-b1b8-d7122fe43c3a\">\n",
              "    <div class=\"colab-df-container\">\n",
              "      <div>\n",
              "<style scoped>\n",
              "    .dataframe tbody tr th:only-of-type {\n",
              "        vertical-align: middle;\n",
              "    }\n",
              "\n",
              "    .dataframe tbody tr th {\n",
              "        vertical-align: top;\n",
              "    }\n",
              "\n",
              "    .dataframe thead th {\n",
              "        text-align: right;\n",
              "    }\n",
              "</style>\n",
              "<table border=\"1\" class=\"dataframe\">\n",
              "  <thead>\n",
              "    <tr style=\"text-align: right;\">\n",
              "      <th></th>\n",
              "      <th>param_n_estimators</th>\n",
              "      <th>param_max_leaf_nodes</th>\n",
              "      <th>mean_test_error</th>\n",
              "      <th>std_test_error</th>\n",
              "    </tr>\n",
              "  </thead>\n",
              "  <tbody>\n",
              "    <tr>\n",
              "      <th>0</th>\n",
              "      <td>500</td>\n",
              "      <td>100</td>\n",
              "      <td>40.647217</td>\n",
              "      <td>-0.779740</td>\n",
              "    </tr>\n",
              "    <tr>\n",
              "      <th>2</th>\n",
              "      <td>10</td>\n",
              "      <td>100</td>\n",
              "      <td>41.061012</td>\n",
              "      <td>-0.974112</td>\n",
              "    </tr>\n",
              "    <tr>\n",
              "      <th>7</th>\n",
              "      <td>100</td>\n",
              "      <td>50</td>\n",
              "      <td>43.818901</td>\n",
              "      <td>-0.832671</td>\n",
              "    </tr>\n",
              "    <tr>\n",
              "      <th>8</th>\n",
              "      <td>1</td>\n",
              "      <td>100</td>\n",
              "      <td>47.757254</td>\n",
              "      <td>-1.573151</td>\n",
              "    </tr>\n",
              "    <tr>\n",
              "      <th>1</th>\n",
              "      <td>100</td>\n",
              "      <td>20</td>\n",
              "      <td>49.482152</td>\n",
              "      <td>-1.030793</td>\n",
              "    </tr>\n",
              "    <tr>\n",
              "      <th>6</th>\n",
              "      <td>50</td>\n",
              "      <td>20</td>\n",
              "      <td>49.597050</td>\n",
              "      <td>-0.999616</td>\n",
              "    </tr>\n",
              "    <tr>\n",
              "      <th>9</th>\n",
              "      <td>10</td>\n",
              "      <td>20</td>\n",
              "      <td>50.061604</td>\n",
              "      <td>-1.284793</td>\n",
              "    </tr>\n",
              "    <tr>\n",
              "      <th>3</th>\n",
              "      <td>500</td>\n",
              "      <td>10</td>\n",
              "      <td>55.017062</td>\n",
              "      <td>-1.077074</td>\n",
              "    </tr>\n",
              "    <tr>\n",
              "      <th>4</th>\n",
              "      <td>5</td>\n",
              "      <td>5</td>\n",
              "      <td>61.546459</td>\n",
              "      <td>-1.057208</td>\n",
              "    </tr>\n",
              "    <tr>\n",
              "      <th>5</th>\n",
              "      <td>5</td>\n",
              "      <td>2</td>\n",
              "      <td>73.409157</td>\n",
              "      <td>-1.316663</td>\n",
              "    </tr>\n",
              "  </tbody>\n",
              "</table>\n",
              "</div>\n",
              "      <button class=\"colab-df-convert\" onclick=\"convertToInteractive('df-abaac2ba-c524-4638-b1b8-d7122fe43c3a')\"\n",
              "              title=\"Convert this dataframe to an interactive table.\"\n",
              "              style=\"display:none;\">\n",
              "        \n",
              "  <svg xmlns=\"http://www.w3.org/2000/svg\" height=\"24px\"viewBox=\"0 0 24 24\"\n",
              "       width=\"24px\">\n",
              "    <path d=\"M0 0h24v24H0V0z\" fill=\"none\"/>\n",
              "    <path d=\"M18.56 5.44l.94 2.06.94-2.06 2.06-.94-2.06-.94-.94-2.06-.94 2.06-2.06.94zm-11 1L8.5 8.5l.94-2.06 2.06-.94-2.06-.94L8.5 2.5l-.94 2.06-2.06.94zm10 10l.94 2.06.94-2.06 2.06-.94-2.06-.94-.94-2.06-.94 2.06-2.06.94z\"/><path d=\"M17.41 7.96l-1.37-1.37c-.4-.4-.92-.59-1.43-.59-.52 0-1.04.2-1.43.59L10.3 9.45l-7.72 7.72c-.78.78-.78 2.05 0 2.83L4 21.41c.39.39.9.59 1.41.59.51 0 1.02-.2 1.41-.59l7.78-7.78 2.81-2.81c.8-.78.8-2.07 0-2.86zM5.41 20L4 18.59l7.72-7.72 1.47 1.35L5.41 20z\"/>\n",
              "  </svg>\n",
              "      </button>\n",
              "      \n",
              "  <style>\n",
              "    .colab-df-container {\n",
              "      display:flex;\n",
              "      flex-wrap:wrap;\n",
              "      gap: 12px;\n",
              "    }\n",
              "\n",
              "    .colab-df-convert {\n",
              "      background-color: #E8F0FE;\n",
              "      border: none;\n",
              "      border-radius: 50%;\n",
              "      cursor: pointer;\n",
              "      display: none;\n",
              "      fill: #1967D2;\n",
              "      height: 32px;\n",
              "      padding: 0 0 0 0;\n",
              "      width: 32px;\n",
              "    }\n",
              "\n",
              "    .colab-df-convert:hover {\n",
              "      background-color: #E2EBFA;\n",
              "      box-shadow: 0px 1px 2px rgba(60, 64, 67, 0.3), 0px 1px 3px 1px rgba(60, 64, 67, 0.15);\n",
              "      fill: #174EA6;\n",
              "    }\n",
              "\n",
              "    [theme=dark] .colab-df-convert {\n",
              "      background-color: #3B4455;\n",
              "      fill: #D2E3FC;\n",
              "    }\n",
              "\n",
              "    [theme=dark] .colab-df-convert:hover {\n",
              "      background-color: #434B5C;\n",
              "      box-shadow: 0px 1px 3px 1px rgba(0, 0, 0, 0.15);\n",
              "      filter: drop-shadow(0px 1px 2px rgba(0, 0, 0, 0.3));\n",
              "      fill: #FFFFFF;\n",
              "    }\n",
              "  </style>\n",
              "\n",
              "      <script>\n",
              "        const buttonEl =\n",
              "          document.querySelector('#df-abaac2ba-c524-4638-b1b8-d7122fe43c3a button.colab-df-convert');\n",
              "        buttonEl.style.display =\n",
              "          google.colab.kernel.accessAllowed ? 'block' : 'none';\n",
              "\n",
              "        async function convertToInteractive(key) {\n",
              "          const element = document.querySelector('#df-abaac2ba-c524-4638-b1b8-d7122fe43c3a');\n",
              "          const dataTable =\n",
              "            await google.colab.kernel.invokeFunction('convertToInteractive',\n",
              "                                                     [key], {});\n",
              "          if (!dataTable) return;\n",
              "\n",
              "          const docLinkHtml = 'Like what you see? Visit the ' +\n",
              "            '<a target=\"_blank\" href=https://colab.research.google.com/notebooks/data_table.ipynb>data table notebook</a>'\n",
              "            + ' to learn more about interactive tables.';\n",
              "          element.innerHTML = '';\n",
              "          dataTable['output_type'] = 'display_data';\n",
              "          await google.colab.output.renderOutput(dataTable, element);\n",
              "          const docLink = document.createElement('div');\n",
              "          docLink.innerHTML = docLinkHtml;\n",
              "          element.appendChild(docLink);\n",
              "        }\n",
              "      </script>\n",
              "    </div>\n",
              "  </div>\n",
              "  "
            ]
          },
          "metadata": {},
          "execution_count": 33
        }
      ]
    },
    {
      "cell_type": "code",
      "source": [
        "error = -search_cv.score(test_features, test_labels)\n",
        "print(f'On average, our random forest regressor makes an error of {error:.2f} k$') "
      ],
      "metadata": {
        "colab": {
          "base_uri": "https://localhost:8080/"
        },
        "id": "ndfsmLj7dsvL",
        "outputId": "8c649189-70cc-4b4f-9754-c62226e40824"
      },
      "execution_count": 34,
      "outputs": [
        {
          "output_type": "stream",
          "name": "stdout",
          "text": [
            "On average, our random forest regressor makes an error of 40.47 k$\n"
          ]
        }
      ]
    },
    {
      "cell_type": "markdown",
      "source": [
        "## [Lecture 10.5 AdaBoost and GradientBoost Classifier on MNIST ](https://www.youtube.com/watch?v=DhftGTaoFDI)"
      ],
      "metadata": {
        "id": "G-YRicbzzgyV"
      }
    },
    {
      "cell_type": "markdown",
      "source": [
        "In this notebook, we will implement **multiclass MNIST digit recognition classifier** with **boosting**\n",
        "- Adaboost\n",
        "- GradientBoosting\n",
        "- XGBoost\n",
        "\n",
        "**Import Basic Libraries**"
      ],
      "metadata": {
        "id": "01j8QWxHzub9"
      }
    },
    {
      "cell_type": "code",
      "source": [
        "# plotting utility\n",
        "import matplotlib.pyplot as plt\n",
        "\n",
        "# dataset loading through mnist\n",
        "from keras.datasets import mnist\n",
        "\n",
        "# training three classifiers: AdaBoostClassifier,\n",
        "# GradientBoostingClassifier and XGBoostClassifier\n",
        "from sklearn.ensemble import AdaBoostClassifier\n",
        "from sklearn.ensemble import GradientBoostingClassifier\n",
        "\n",
        "# model selection utilities for training and test split and cross validation\n",
        "from sklearn.model_selection import train_test_split\n",
        "from sklearn.model_selection import cross_validate\n",
        "from sklearn.model_selection import cross_val_score\n",
        "\n",
        "# use shuffle-split cross validation for this exercise.\n",
        "from sklearn.model_selection import ShuffleSplit\n",
        "\n",
        "# make use of confusion matrix and classification report to evaluate performance on the test set\n",
        "from sklearn.metrics import confusion_matrix, ConfusionMatrixDisplay\n",
        "from sklearn.metrics import classification_report\n",
        "\n",
        "# the model is defined through pipeline utitlity\n",
        "from sklearn.pipeline import Pipeline"
      ],
      "metadata": {
        "id": "re88IXZGeQrV"
      },
      "execution_count": 35,
      "outputs": []
    },
    {
      "cell_type": "markdown",
      "source": [
        "### Loading MNIST dataset\n",
        "We begin by loading MNIST dataset with `load_data` function in `mnist` class\n",
        "\n",
        "We obtain:\n",
        "- Training feature matrix and labels\n",
        "- Test feature matrix and labels"
      ],
      "metadata": {
        "id": "Duk3MEi21aAh"
      }
    },
    {
      "cell_type": "code",
      "source": [
        "# Load dataset\n",
        "(X_train, y_train), (X_test, y_test) = mnist.load_data()"
      ],
      "metadata": {
        "id": "OIp-EiG41Y-y"
      },
      "execution_count": 36,
      "outputs": []
    },
    {
      "cell_type": "markdown",
      "source": [
        "As you know there are 60000 examples in training set and 10000 examples in the test set.\n",
        "\n",
        "Each example is a grey scale image of size 28 x 28. There are 10 different labels - one for each digit 0 to 9."
      ],
      "metadata": {
        "id": "CG8CGfeW131F"
      }
    },
    {
      "cell_type": "code",
      "source": [
        "print('Shape of training data', X_train.shape)\n",
        "print('Shape of training labels', y_train.shape)\n",
        "print('Shape of testing data', X_test.shape)\n",
        "print('Shape of testing labels', y_test.shape)"
      ],
      "metadata": {
        "colab": {
          "base_uri": "https://localhost:8080/"
        },
        "id": "IHXaUZKu11_u",
        "outputId": "ef12ea97-1405-4bab-ddcd-759bdb85a10d"
      },
      "execution_count": 37,
      "outputs": [
        {
          "output_type": "stream",
          "name": "stdout",
          "text": [
            "Shape of training data (60000, 28, 28)\n",
            "Shape of training labels (60000,)\n",
            "Shape of testing data (10000, 28, 28)\n",
            "Shape of testing labels (10000,)\n"
          ]
        }
      ]
    },
    {
      "cell_type": "markdown",
      "source": [
        "Before using the dataset for training and evaluation, we need to flatten it into a vector. After flattening it, we have training and test examples represented with a vector of 784 features. Each feature records pixel intensity in each of 28 x 28 pixel.\n",
        "\n",
        "We normalize the pixel intensity by dividing it with the maximum value i.e 255. In that sense we have feature value in the range 0 to 1."
      ],
      "metadata": {
        "id": "kipdWS7Q3iFu"
      }
    },
    {
      "cell_type": "code",
      "source": [
        "# Flatten each input image into a vector of length 784\n",
        "X_train = X_train.reshape(X_train.shape[0], 784)\n",
        "X_test = X_test.reshape(X_test.shape[0], 784)\n",
        "\n",
        "# Normalizing.\n",
        "X_train = X_train/255\n",
        "X_test = X_test/255"
      ],
      "metadata": {
        "id": "8uGGNd4U2Di8"
      },
      "execution_count": 38,
      "outputs": []
    },
    {
      "cell_type": "markdown",
      "source": [
        "We use ShuffleSplit cross validation with 10 splits and 20% data set aside for model evaluation as a test data."
      ],
      "metadata": {
        "id": "mzzrdssy3wTG"
      }
    },
    {
      "cell_type": "code",
      "source": [
        "cv = ShuffleSplit(n_splits=10, test_size=0.2, random_state=42)"
      ],
      "metadata": {
        "id": "rhzgm5I_3g5d"
      },
      "execution_count": 39,
      "outputs": []
    },
    {
      "cell_type": "markdown",
      "source": [
        "We define two functions:\n",
        "1. `train_classifiers` contains a common code for training classifiers for MNIST multiclass classification problem.\n",
        "    - It takes `estimator`, feature_matrix, labels, cross validation strategy and name of the classifier as input.\n",
        "    - It first fits the estimator with feature matrix and labels.\n",
        "    - It obtains cross validated `f1_macro` score for training set with 10-fold `ShuffleSplit` cross validation and prints it."
      ],
      "metadata": {
        "id": "kbB-Wq00BGyQ"
      }
    },
    {
      "cell_type": "code",
      "source": [
        "def train_classifiers(estimator, X_train, y_train, cv, name):\n",
        "    estimator.fit(X_train, y_train)\n",
        "    cv_train_score = cross_val_score(estimator, X_train, y_train, cv=cv, scoring='f1_macro')\n",
        "    print(f'On an average. {name} model has f1 score of '\n",
        "          f'{cv_train_score.mean():.3f} +/- {cv_train_score.std():.3f} on the training set')"
      ],
      "metadata": {
        "id": "IAXHYzPT34Ef"
      },
      "execution_count": 40,
      "outputs": []
    },
    {
      "cell_type": "markdown",
      "source": [
        "2. The `eval` function takes estimator, test feature matrix and labels as input  and produce classification report and confusion matrix.\n",
        "    - It first predicts labels for the test set.\n",
        "    - Then it uses these predicted labels for calculating various evaluation metrics like precision, recall, f1 score and accuracy for each of the 10 classes.\n",
        "    - It also obtains a confusion matrix by comparing these predictions with the actual labels and display it with `ConfusionMatrixDisplay` utility."
      ],
      "metadata": {
        "id": "S7EXMRNeBWmC"
      }
    },
    {
      "cell_type": "code",
      "source": [
        "def eval(estimator, X_test, y_test):\n",
        "    y_pred = estimator.predict(X_test)\n",
        "\n",
        "    print('# Classification report')\n",
        "    print(classification_report(y_test, y_pred))\n",
        "\n",
        "    print('# Confusion matrix')\n",
        "    disp = ConfusionMatrixDisplay(confusion_matrix=confusion_matrix(y_test, y_pred))\n",
        "    disp.plot()\n",
        "    plt.title('Confusion Matrix')\n",
        "    plt.show()"
      ],
      "metadata": {
        "id": "55XL_6i6BXDu"
      },
      "execution_count": 41,
      "outputs": []
    },
    {
      "cell_type": "markdown",
      "source": [
        "Let's train two classifiers with default parameters\n",
        "- **AdaBoostClassifier** that uses decision stumps as weak learners\n",
        "- **GradientBoostingClassifier** that uses decision trees as weak learners"
      ],
      "metadata": {
        "id": "6HJb_JjIBtLL"
      }
    },
    {
      "cell_type": "markdown",
      "source": [
        "### **AdaBoost for MNIST multiclass classification**\n",
        "We instantiate a AdaBoost classifier with default parameters and train it. The `train_classifier` function prints mean of cross validated accuracy and standard deviation of the trained classifier on the training set."
      ],
      "metadata": {
        "id": "HkYcCNfMDeGr"
      }
    },
    {
      "cell_type": "code",
      "source": [
        "abc_pipeline = Pipeline([('classifier', AdaBoostClassifier())])\n",
        "train_classifiers(abc_pipeline, X_train, y_train.ravel(), cv, 'AdaBoostClassifier')"
      ],
      "metadata": {
        "colab": {
          "base_uri": "https://localhost:8080/"
        },
        "id": "G_hVvh4cBoEm",
        "outputId": "7df1352c-7589-41d3-9657-9062706cc6a7"
      },
      "execution_count": 42,
      "outputs": [
        {
          "output_type": "stream",
          "name": "stdout",
          "text": [
            "On an average. AdaBoostClassifier model has f1 score of 0.712 +/- 0.016 on the training set\n"
          ]
        }
      ]
    },
    {
      "cell_type": "markdown",
      "source": [
        "Let's evaluate the trained classifier on the test set."
      ],
      "metadata": {
        "id": "G98zKomGE1EZ"
      }
    },
    {
      "cell_type": "code",
      "source": [
        "eval(abc_pipeline, X_test, y_test)"
      ],
      "metadata": {
        "colab": {
          "base_uri": "https://localhost:8080/",
          "height": 625
        },
        "id": "ovhtX5mpENOX",
        "outputId": "057f167d-175b-4720-9f23-e456582cef14"
      },
      "execution_count": 43,
      "outputs": [
        {
          "output_type": "stream",
          "name": "stdout",
          "text": [
            "# Classification report\n",
            "              precision    recall  f1-score   support\n",
            "\n",
            "           0       0.84      0.90      0.87       980\n",
            "           1       0.85      0.94      0.90      1135\n",
            "           2       0.79      0.58      0.67      1032\n",
            "           3       0.68      0.67      0.68      1010\n",
            "           4       0.72      0.72      0.72       982\n",
            "           5       0.69      0.59      0.64       892\n",
            "           6       0.72      0.86      0.78       958\n",
            "           7       0.68      0.78      0.73      1028\n",
            "           8       0.66      0.68      0.67       974\n",
            "           9       0.62      0.55      0.58      1009\n",
            "\n",
            "    accuracy                           0.73     10000\n",
            "   macro avg       0.73      0.73      0.72     10000\n",
            "weighted avg       0.73      0.73      0.73     10000\n",
            "\n",
            "# Confusion matrix\n"
          ]
        },
        {
          "output_type": "display_data",
          "data": {
            "text/plain": [
              "<Figure size 432x288 with 2 Axes>"
            ],
            "image/png": "[encoded data removed]"
          },
          "metadata": {
            "needs_background": "light"
          }
        }
      ]
    },
    {
      "cell_type": "markdown",
      "source": [
        "### **GradientBoostingClassifier for MNIST multiclass classification**\n",
        "We instantiate a GradientBoosting classifier with default parameters and train it. The `train_classifier` function prints mean of cross validated accuracy and standard deviation of the trained classifier on the training set."
      ],
      "metadata": {
        "id": "hXeFRTmpHLvK"
      }
    },
    {
      "cell_type": "code",
      "source": [
        "# This model might take a lot of time to execute( > 45 mins), so run it at your own discretion\n",
        "gbc_pipeline = Pipeline([('classifier', GradientBoostingClassifier())])\n",
        "train_classifiers(gbc_pipeline, X_train, y_train.ravel(), cv, 'GradientBoostingClassifier')"
      ],
      "metadata": {
        "id": "5eWn1FttE9tS"
      },
      "execution_count": null,
      "outputs": []
    },
    {
      "cell_type": "markdown",
      "source": [
        "Let's evaluate the trained classifier on the test set."
      ],
      "metadata": {
        "id": "Pq2KBnP1HlYw"
      }
    },
    {
      "cell_type": "code",
      "source": [
        "eval(gbc_pipeline, X_test, y_test)"
      ],
      "metadata": {
        "id": "7bFlSPliHoB6"
      },
      "execution_count": null,
      "outputs": []
    },
    {
      "cell_type": "markdown",
      "source": [
        "### MNIST classification with XGBoost classifier"
      ],
      "metadata": {
        "id": "mg0pzTSAWrjE"
      }
    },
    {
      "cell_type": "code",
      "source": [
        "from xgboost import XGBClassifier"
      ],
      "metadata": {
        "id": "3XLRolXxHsu2"
      },
      "execution_count": 46,
      "outputs": []
    },
    {
      "cell_type": "code",
      "source": [
        "?XGBClassifier"
      ],
      "metadata": {
        "id": "OBStTKHFW3XM"
      },
      "execution_count": 47,
      "outputs": []
    },
    {
      "cell_type": "code",
      "source": [
        "# This model might take a lot of time to execute( > 60 mins), so run it at your own discretion\n",
        "xbc_pipeline = Pipeline([('classifier', XGBClassifier())])\n",
        "train_classifiers(xbc_pipeline, X_train, y_train.ravel(), cv, 'XGBoostClassifier')"
      ],
      "metadata": {
        "id": "oqBpcthaXC_I"
      },
      "execution_count": null,
      "outputs": []
    },
    {
      "cell_type": "code",
      "source": [
        "eval(xbc_pipeline, X_test, y_test)"
      ],
      "metadata": {
        "id": "F79KRHV3XhZT"
      },
      "execution_count": null,
      "outputs": []
    },
    {
      "cell_type": "markdown",
      "source": [
        "## [Lecture 10.6 AdaBoost and GradientBoost Regressor on California Housing](https://www.youtube.com/watch?v=yJjCDkjNNaM)"
      ],
      "metadata": {
        "id": "ZCTwIBg3nxnX"
      }
    },
    {
      "cell_type": "markdown",
      "source": [
        "In this notebook, we will apply ensemble techniques regression problem in california housing dataset.\n",
        "\n",
        "We already have applied different regressors on california housing dataset. In this notebook, we will make use of \n",
        "- AdaBoost Regressor\n",
        "- Gradient Boosting Regressor\n",
        "- XGBoost Regressor"
      ],
      "metadata": {
        "id": "yR8pVlJin_7n"
      }
    },
    {
      "cell_type": "code",
      "source": [
        "import pandas as pd\n",
        "import numpy as np\n",
        "\n",
        "from sklearn.datasets import fetch_california_housing\n",
        "from sklearn.ensemble import AdaBoostRegressor\n",
        "from sklearn.ensemble import GradientBoostingRegressor\n",
        "\n",
        "from sklearn.metrics import mean_absolute_error\n",
        "from sklearn.model_selection import cross_validate\n",
        "from sklearn.model_selection import train_test_split\n",
        "from sklearn.model_selection import RandomizedSearchCV\n",
        "from sklearn.model_selection import ShuffleSplit"
      ],
      "metadata": {
        "id": "hZkEshj7XnW6"
      },
      "execution_count": 50,
      "outputs": []
    },
    {
      "cell_type": "code",
      "source": [
        "np.random.seed(306)"
      ],
      "metadata": {
        "id": "QdyRCAwcoyld"
      },
      "execution_count": 51,
      "outputs": []
    },
    {
      "cell_type": "markdown",
      "source": [
        "Let's use `ShuffleSplit` as cv with 10 splits and 20% examples set aside as test examples"
      ],
      "metadata": {
        "id": "inm9jAhapSxE"
      }
    },
    {
      "cell_type": "code",
      "source": [
        "cv = ShuffleSplit(n_splits=10, test_size=0.2, random_state=42)"
      ],
      "metadata": {
        "id": "m5I5gMhuo4JA"
      },
      "execution_count": 52,
      "outputs": []
    },
    {
      "cell_type": "markdown",
      "source": [
        "Let's download the data and split it into training and test"
      ],
      "metadata": {
        "id": "m-IgIJ52pb4i"
      }
    },
    {
      "cell_type": "code",
      "source": [
        "# fetch dataset\n",
        "features, labels = fetch_california_housing(as_frame=True, return_X_y=True)\n",
        "labels *= 100\n",
        "# train-test split\n",
        "com_train_features, test_features, com_train_labels, test_labels = train_test_split(features, labels, random_state=42)\n",
        "\n",
        "# train ------> train + dev split\n",
        "train_features, dev_features, train_labels, dev_labels = train_test_split(com_train_features, com_train_labels, random_state=42)"
      ],
      "metadata": {
        "id": "itOqv1xfpY5Y"
      },
      "execution_count": 53,
      "outputs": []
    },
    {
      "cell_type": "code",
      "source": [
        "def train_regressor(estimator, X_train, y_train, cv, name):\n",
        "    cv_results = cross_validate(estimator,\n",
        "                                X_train,\n",
        "                                y_train,\n",
        "                                cv=cv,\n",
        "                                scoring='neg_mean_absolute_error',\n",
        "                                return_train_score=True,\n",
        "                                return_estimator=True)\n",
        "    \n",
        "    cv_train_error = -1 * cv_results['train_score']\n",
        "    cv_test_error = -1 * cv_results['test_score']\n",
        "\n",
        "    print(f'On an average. {name} model makes and error of '\n",
        "          f'{cv_train_error.mean():.3f}k +/- {cv_train_error.std():.3f}k on the training set')\n",
        "    print(f'On an average. {name} model makes and error of '\n",
        "          f'{cv_test_error.mean():.3f}k +/- {cv_test_error.std():.3f}k on the testing set')"
      ],
      "metadata": {
        "id": "yakr0SBupiOS"
      },
      "execution_count": 54,
      "outputs": []
    },
    {
      "cell_type": "code",
      "source": [
        "#@title AdaBoostRegressor\n",
        "train_regressor(AdaBoostRegressor(),\n",
        "                com_train_features,\n",
        "                com_train_labels,\n",
        "                cv,\n",
        "                'AdaBoostRegressor')"
      ],
      "metadata": {
        "colab": {
          "base_uri": "https://localhost:8080/"
        },
        "id": "YEZtq6-spo0r",
        "outputId": "9c9e24d0-2d39-4a8c-9c23-84b704575851"
      },
      "execution_count": 55,
      "outputs": [
        {
          "output_type": "stream",
          "name": "stdout",
          "text": [
            "On an average. AdaBoostRegressor model makes and error of 73.263k +/- 6.031k on the training set\n",
            "On an average. AdaBoostRegressor model makes and error of 73.623k +/- 6.057k on the testing set\n"
          ]
        }
      ]
    },
    {
      "cell_type": "code",
      "source": [
        "#@title GradientBoostingRegressor\n",
        "train_regressor(GradientBoostingRegressor(),\n",
        "                com_train_features,\n",
        "                com_train_labels,\n",
        "                cv,\n",
        "                'GradientBoostingRegressor')"
      ],
      "metadata": {
        "colab": {
          "base_uri": "https://localhost:8080/"
        },
        "id": "V4DWcXeHp6Hz",
        "outputId": "421c70b5-cf4f-4261-a86c-539e47cbce9e"
      },
      "execution_count": 56,
      "outputs": [
        {
          "output_type": "stream",
          "name": "stdout",
          "text": [
            "On an average. GradientBoostingRegressor model makes and error of 35.394k +/- 0.273k on the training set\n",
            "On an average. GradientBoostingRegressor model makes and error of 36.773k +/- 0.723k on the testing set\n"
          ]
        }
      ]
    },
    {
      "cell_type": "code",
      "source": [
        "?GradientBoostingRegressor"
      ],
      "metadata": {
        "id": "U6iro8K4qJEE"
      },
      "execution_count": 57,
      "outputs": []
    },
    {
      "cell_type": "markdown",
      "source": [
        "### XGBoost"
      ],
      "metadata": {
        "id": "fL5xdeYJqVF5"
      }
    },
    {
      "cell_type": "code",
      "source": [
        "!pip install xgboost"
      ],
      "metadata": {
        "colab": {
          "base_uri": "https://localhost:8080/"
        },
        "id": "lxYuIDhXqQZW",
        "outputId": "4f3c8a24-f5e1-4f21-9ce4-ea18f6ea0ee5"
      },
      "execution_count": 58,
      "outputs": [
        {
          "output_type": "stream",
          "name": "stdout",
          "text": [
            "Looking in indexes: https://pypi.org/simple, https://us-python.pkg.dev/colab-wheels/public/simple/\n",
            "Requirement already satisfied: xgboost in /usr/local/lib/python3.7/dist-packages (0.90)\n",
            "Requirement already satisfied: numpy in /usr/local/lib/python3.7/dist-packages (from xgboost) (1.21.6)\n",
            "Requirement already satisfied: scipy in /usr/local/lib/python3.7/dist-packages (from xgboost) (1.4.1)\n"
          ]
        }
      ]
    },
    {
      "cell_type": "markdown",
      "source": [
        "Extreme gradient boosting (XGBoost) is the latest boosting technique. It is more regularized form of gradient boosting. With regularization, it is able to achieve better generalized performance than gradient boosting"
      ],
      "metadata": {
        "id": "OytNXZl_qZq_"
      }
    },
    {
      "cell_type": "code",
      "source": [
        "from xgboost import XGBRegressor\n",
        "xgb_regressor = XGBRegressor(objective='reg:squarederror')"
      ],
      "metadata": {
        "id": "ztU-_R-EqYbU"
      },
      "execution_count": 59,
      "outputs": []
    },
    {
      "cell_type": "code",
      "source": [
        "?XGBRegressor"
      ],
      "metadata": {
        "id": "WqZVT_zoq38-"
      },
      "execution_count": 60,
      "outputs": []
    },
    {
      "cell_type": "code",
      "source": [
        "train_regressor(xgb_regressor,\n",
        "                com_train_features,\n",
        "                com_train_labels,\n",
        "                cv,\n",
        "                'XGBRegressor')"
      ],
      "metadata": {
        "colab": {
          "base_uri": "https://localhost:8080/"
        },
        "id": "jU-Rdfrbq6ks",
        "outputId": "b9639278-8a3d-471a-fa99-f23bbcd01e91"
      },
      "execution_count": 62,
      "outputs": [
        {
          "output_type": "stream",
          "name": "stdout",
          "text": [
            "On an average. XGBRegressor model makes and error of 35.441k +/- 0.228k on the training set\n",
            "On an average. XGBRegressor model makes and error of 36.815k +/- 0.707k on the testing set\n"
          ]
        }
      ]
    },
    {
      "cell_type": "code",
      "source": [
        ""
      ],
      "metadata": {
        "id": "xmv4ihtTrF4z"
      },
      "execution_count": null,
      "outputs": []
    }
  ]
}