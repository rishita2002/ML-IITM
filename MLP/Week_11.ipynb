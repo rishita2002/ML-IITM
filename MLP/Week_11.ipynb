{
  "nbformat": 4,
  "nbformat_minor": 0,
  "metadata": {
    "colab": {
      "name": "Week_11.ipynb",
      "provenance": [],
      "collapsed_sections": []
    },
    "kernelspec": {
      "name": "python3",
      "display_name": "Python 3"
    },
    "language_info": {
      "name": "python"
    }
  },
  "cells": [
    {
      "cell_type": "markdown",
      "source": [
        "## [Lecture 11.1: K-means clustering on digit dataset](https://www.youtube.com/watch?v=-tPSKI9nUf0)"
      ],
      "metadata": {
        "id": "1VQs-b78IKar"
      }
    },
    {
      "cell_type": "markdown",
      "source": [
        "In this notebook, we will implement `K-Means` algorithm with `sklearn`"
      ],
      "metadata": {
        "id": "LaG01b-nIaqm"
      }
    },
    {
      "cell_type": "code",
      "execution_count": 1,
      "metadata": {
        "id": "PLkFDybvDsNc"
      },
      "outputs": [],
      "source": [
        "import matplotlib.pyplot as plt\n",
        "import numpy as np\n",
        "import pandas as pd\n",
        "\n",
        "# KMeans clustering\n",
        "from sklearn.cluster import KMeans\n",
        "\n",
        "# Loading the digit dataset\n",
        "from sklearn.datasets import load_digits\n",
        "\n",
        "# Selecting k through silhoutte score\n",
        "from sklearn.metrics import silhouette_score\n",
        "\n",
        "# Normalization through MinMaxScaler\n",
        "from sklearn.preprocessing import MinMaxScaler\n",
        "\n",
        "from sklearn.pipeline import Pipeline"
      ]
    },
    {
      "cell_type": "markdown",
      "source": [
        "### Clustering of digits\n",
        "We will use digit dataset for clustering, which is loaded through `load_digit` API\n",
        "- It loads 8x8 digit images which is approximately 180 samples per class\n",
        "- From 10 classes, it has total of 1797 images\n",
        "- Each pixel has value between 0 and 16"
      ],
      "metadata": {
        "id": "lGPHpCn2JXt_"
      }
    },
    {
      "cell_type": "code",
      "source": [
        "digits = load_digits()"
      ],
      "metadata": {
        "id": "7SnsK4ehJGEu"
      },
      "execution_count": 2,
      "outputs": []
    },
    {
      "cell_type": "markdown",
      "source": [
        "Let's quickly check `KMeans` class as implemented in `sklearn.cluster` module"
      ],
      "metadata": {
        "id": "pAW_Y6ReJ72R"
      }
    },
    {
      "cell_type": "code",
      "source": [
        "?KMeans"
      ],
      "metadata": {
        "id": "xdPQSYfuJ4zI"
      },
      "execution_count": 3,
      "outputs": []
    },
    {
      "cell_type": "markdown",
      "source": [
        "Some of the important parameters are as follows:\n",
        "- `init`\n",
        "- `n_init`\n",
        "- `max_iter`\n",
        "- `random_state`\n",
        "\n",
        "Since KMeans algorithm is susceptible to local minima,we perform `KMeans` fit and select the ones with the lowest value of sum of squared error\n",
        "\n",
        "The total number of time, we would like to run KMeans algorithm is specified through `n_init` parameter.\n",
        "\n",
        "`max_iter` specifies total number of iterations before declaring convergence."
      ],
      "metadata": {
        "id": "Q1jnSaOvKHl7"
      }
    },
    {
      "cell_type": "markdown",
      "source": [
        "Let's define parameters of KMeans clustering algorithm in a dictionary object."
      ],
      "metadata": {
        "id": "M_ViEA2VK3ug"
      }
    },
    {
      "cell_type": "code",
      "source": [
        "kmeans_kwargs = {\n",
        "    'init': 'random',\n",
        "    'n_init': 50,\n",
        "    'max_iter': 500,\n",
        "    'random_state': 0\n",
        "}"
      ],
      "metadata": {
        "id": "-TY1TIbcKEWZ"
      },
      "execution_count": 4,
      "outputs": []
    },
    {
      "cell_type": "markdown",
      "source": [
        "Let's define a pipeline with two stages:\n",
        "- Preprocessing for feature scaling with `MinMaxScaler`.\n",
        "- Clustering with `KMeans` clustering algorithm"
      ],
      "metadata": {
        "id": "iOV6zonNoADt"
      }
    },
    {
      "cell_type": "code",
      "source": [
        "pipeline = Pipeline([('Preprocess', MinMaxScaler()),\n",
        "                     ('Clustering', KMeans(n_clusters=10, **kmeans_kwargs))])\n",
        "pipeline.fit(digits.data)"
      ],
      "metadata": {
        "id": "W8Qx_q-WLLUm",
        "colab": {
          "base_uri": "https://localhost:8080/"
        },
        "outputId": "e02c0439-4700-4cf7-ae26-5d78dd383a19"
      },
      "execution_count": 5,
      "outputs": [
        {
          "output_type": "execute_result",
          "data": {
            "text/plain": [
              "Pipeline(steps=[('Preprocess', MinMaxScaler()),\n",
              "                ('Clustering',\n",
              "                 KMeans(init='random', max_iter=500, n_clusters=10, n_init=50,\n",
              "                        random_state=0))])"
            ]
          },
          "metadata": {},
          "execution_count": 5
        }
      ]
    },
    {
      "cell_type": "markdown",
      "source": [
        "The cluster centroids can be accessed via `cluster_centers_` member variable of `KMeans` class."
      ],
      "metadata": {
        "id": "mlYS_0dVoxrT"
      }
    },
    {
      "cell_type": "code",
      "source": [
        "cluster_centers = pipeline[-1].cluster_centers_"
      ],
      "metadata": {
        "id": "ugJKlEesoggn"
      },
      "execution_count": 6,
      "outputs": []
    },
    {
      "cell_type": "markdown",
      "source": [
        "Let's display cluster centroids:"
      ],
      "metadata": {
        "id": "eW0OpJTPpAu0"
      }
    },
    {
      "cell_type": "code",
      "source": [
        "# displaying centroids\n",
        "fig, ax = plt.subplots(5, 2, figsize=(4, 4))\n",
        "for i, j in zip(ax.flat, cluster_centers.reshape(10, 8, 8)):\n",
        "    i.imshow(j)"
      ],
      "metadata": {
        "colab": {
          "base_uri": "https://localhost:8080/",
          "height": 267
        },
        "id": "5NMKg5AWo_S1",
        "outputId": "009b925a-5004-4347-ccc7-77bbd6a47e33"
      },
      "execution_count": 7,
      "outputs": [
        {
          "output_type": "display_data",
          "data": {
            "text/plain": [
              "<Figure size 288x288 with 10 Axes>"
            ],
            "image/png": "[encoded data removed]"
          },
          "metadata": {
            "needs_background": "light"
          }
        }
      ]
    },
    {
      "cell_type": "markdown",
      "source": [
        "In this case, the number of clusters were known. Hence we set `k=10` and got the clusters\n",
        "\n",
        "For deciding the optimal number of clusters through elbow and silhoutte, we will pretend that we do not know the number of clusters in the data and we will try to discover the optimal number through these two methods one by one:\n",
        "\n",
        "### Elbow method\n",
        "Here we keep track of sum-of-squared error (SSE) in a list for each value of k."
      ],
      "metadata": {
        "id": "c8Cv2aixqrq5"
      }
    },
    {
      "cell_type": "code",
      "source": [
        "# Identifying the correct number of clusters\n",
        "sse_digit = []\n",
        "scaled_digits = MinMaxScaler().fit_transform(digits.data)\n",
        "for k in range(1, 12):\n",
        "    kmeans = KMeans(n_clusters=k, **kmeans_kwargs)\n",
        "    kmeans.fit(scaled_digits)\n",
        "    sse_digit.append(kmeans.inertia_)"
      ],
      "metadata": {
        "id": "x1YuEMnwpW11"
      },
      "execution_count": 8,
      "outputs": []
    },
    {
      "cell_type": "markdown",
      "source": [
        "Note that SSE for a given clustering output is obtained through `inertia_` member variable."
      ],
      "metadata": {
        "id": "_NFrkwkbvogl"
      }
    },
    {
      "cell_type": "code",
      "source": [
        "plt.plot(range(1, 12), sse_digit)\n",
        "plt.xticks(range(1, 12))\n",
        "plt.xlabel('Number of clusters')\n",
        "plt.ylabel('SSE')\n",
        "plt.show()"
      ],
      "metadata": {
        "colab": {
          "base_uri": "https://localhost:8080/",
          "height": 279
        },
        "id": "qo31vTUTvhDL",
        "outputId": "6acb93ac-8160-42ab-dc8b-1546cc2fcd91"
      },
      "execution_count": 9,
      "outputs": [
        {
          "output_type": "display_data",
          "data": {
            "text/plain": [
              "<Figure size 432x288 with 1 Axes>"
            ],
            "image/png": "[encoded data removed]"
          },
          "metadata": {
            "needs_background": "light"
          }
        }
      ]
    },
    {
      "cell_type": "markdown",
      "source": [
        "There is a slight elbow at `k=9` which could point to the fact that a few digits may have been merged in one cluster."
      ],
      "metadata": {
        "id": "d0Wj1fYCwEhF"
      }
    },
    {
      "cell_type": "markdown",
      "source": [
        "### Silhoutte"
      ],
      "metadata": {
        "id": "ASM9vuyCzKIb"
      }
    },
    {
      "cell_type": "code",
      "source": [
        "sil_coef_digits = []\n",
        "for k in range(2, 15):\n",
        "    kmeans = KMeans(n_clusters=k, **kmeans_kwargs)\n",
        "    kmeans.fit(scaled_digits)\n",
        "    score = silhouette_score(digits.data, kmeans.labels_)\n",
        "    sil_coef_digits.append(score) "
      ],
      "metadata": {
        "id": "B_OE4DBJv9e7"
      },
      "execution_count": 10,
      "outputs": []
    },
    {
      "cell_type": "code",
      "source": [
        "plt.plot(range(2, 15), sil_coef_digits)\n",
        "plt.xticks(range(2, 15))\n",
        "plt.xlabel('Number of clusters')\n",
        "plt.ylabel('silhouette score')\n",
        "plt.grid(True)\n",
        "plt.show()"
      ],
      "metadata": {
        "colab": {
          "base_uri": "https://localhost:8080/",
          "height": 279
        },
        "id": "D5g9yY5Jzp1I",
        "outputId": "92092d9b-05d7-48bd-8f57-cd401accea07"
      },
      "execution_count": 11,
      "outputs": [
        {
          "output_type": "display_data",
          "data": {
            "text/plain": [
              "<Figure size 432x288 with 1 Axes>"
            ],
            "image/png": "[encoded data removed]"
          },
          "metadata": {
            "needs_background": "light"
          }
        }
      ]
    },
    {
      "cell_type": "code",
      "source": [
        "# get the value of K for which silhouette score is highest\n",
        "print(np.argmax(sil_coef_digits)+2)"
      ],
      "metadata": {
        "colab": {
          "base_uri": "https://localhost:8080/"
        },
        "id": "_L92U019z8XA",
        "outputId": "8c462436-9fb4-48ef-8f9d-36e808de4aba"
      },
      "execution_count": 12,
      "outputs": [
        {
          "output_type": "stream",
          "name": "stdout",
          "text": [
            "9\n"
          ]
        }
      ]
    },
    {
      "cell_type": "markdown",
      "source": [
        "This graph points the fact that n=9 this could mean some digits like 1 and 7 make striking similarity"
      ],
      "metadata": {
        "id": "ZX7SlAg80NnK"
      }
    },
    {
      "cell_type": "markdown",
      "source": [
        "## [Lecture 11.2: Hierarchical Agglomerative Clustering (HAC)](https://www.youtube.com/watch?v=GG6yYMO91FQ)\n",
        "Clustering is concerned about grouping objects with *similar attributes* or *characteristics*. The objects in the same cluster are closer to one and another than the objects from the other clusters\n",
        "\n",
        "<img src=\"images/cluster.png\"/>\n",
        "\n",
        "In the image above, the clusters with the same color share similar properties (Feature values represented on axis). For instance, if the x-axis represents weight and y-axis represent height, then the red cluster represents people with low BMI. Similar interpretations can be drawn for the remaining clusters.\n",
        "\n",
        "Here we will discuss another clustering algorithm which is **hierarchial aggglomerative clustering (HAC)** algorithm\n",
        "- Hierarchial clustering starts by considering each datum as cluster and then combines closest clusters to form larger clusters. This is bottom-up approach\n",
        "- There is an alternate approach, which is top-down approach, where the entire data is one large single cluster, which is divided into smaller clusters in each step.\n",
        "\n",
        "The merging and splitting decisions are influenced by certain conditions that will discussed shortly."
      ],
      "metadata": {
        "id": "exX3J-wB5C0Q"
      }
    },
    {
      "cell_type": "markdown",
      "source": [
        "### Metric\n",
        "Certain metrics are used for calculating similarity between clusters. Note that metric is a generalization of concept of distance. The metrics follow certain properties like:\n",
        "1. non-negative\n",
        "2. symmetric\n",
        "3. follows triangle inequality\n",
        "\n",
        "Some of the popular metric function are:\n",
        "1. **Euclidean**:\n",
        "$$d(\\mathbf{x}^{(i)}, \\mathbf{x}^{(j)}) = \\sqrt{\\sum_{l=1}^m (\\mathbf{x}_l^{(i)} - \\mathbf{x}_l^{(j)})^2}$$\n",
        "2. **Manhattan**:\n",
        "$$d(\\mathbf{x}^{(i)}, \\mathbf{x}^{(j)}) =  \\sum_{l=1}^m |(\\mathbf{x}_l^{(i)} - \\mathbf{x}_l^{(j)})|$$\n",
        "3. **Cosine distance**:\n",
        "$$d(\\mathbf{x}^{(i)}, \\mathbf{x}^{(j)}) = 1 - \\frac{\\mathbf{x}^{(i)}\\mathbf{x}^{(j)}}{||\\mathbf{x}^{(i)}|| \\times ||\\mathbf{x}^{(j)}||} = 1 - cos (\\theta)$$"
      ],
      "metadata": {
        "id": "Q1GdOSNyHBU4"
      }
    },
    {
      "cell_type": "markdown",
      "source": [
        "### Linkage\n",
        "Linkage is a strategy for aggregating clusters\n",
        "\n",
        "There are four linkages we will study\n",
        "- Single linkage\n",
        "- Average linkage\n",
        "- Complete linkage\n",
        "- Ward's linkage\n",
        "\n",
        "The single linkage criterion merges clusters based on the shortest distance over all possible pairs . That is\n",
        "$$(\\{\\mathbf{x}_{r_1}^{(i)}\\}_{i=1}^{|r_1|}, \\{\\mathbf{x}_{r_2}^{(j)}\\}_{j=1}^{|r_2|}) = \\text{min}_{i,j} d(\\mathbf{x}_{r_1}^{(i)}, \\mathbf{x}_{r_2}^{(j)}) $$\n",
        "\n",
        "<img src=\"images/SingleLinkage.png\" />\n",
        "\n",
        "The complete linkage merges clusters to minimize the maximum distance between the clusters (in other words, distance of the furthest elements).\n",
        "\n",
        "$$(\\{\\mathbf{x}_{r_1}^{(i)}\\}_{i=1}^{|r_1|}, \\{\\mathbf{x}_{r_2}^{(j)}\\}_{j=1}^{|r_2|}) = \\text{max}_{i,j} d(\\mathbf{x}_{r_1}^{(i)}, \\mathbf{x}_{r_2}^{(j)})$$\n",
        "\n",
        "<img src=\"images/CompleteLinkage.png\" />\n",
        "\n",
        "The average linkage criterion uses average distance over all possible pairs between the groups for merging clusters\n",
        "\n",
        "$$(\\{\\mathbf{x}_{r_1}^{(i)}\\}_{i=1}^{|r_1|}, \\{\\mathbf{x}_{r_2}^{(j)}\\}_{j=1}^{|r_2|}) = \\frac{1}{|r_1||r_2|} \\sum_{i=1}^{|r_1|}\\sum_{j=1}^{|r_2|} d(\\mathbf{x}_{r_1}^{(i)}, \\mathbf{x}_{r_2}^{(j)}) $$\n",
        "\n",
        "<img src=\"images/AverageLinkage.png\" />\n",
        "\n",
        "The ward's linkage computes the sum of squared distances within the clusters\n",
        "$$(\\{\\mathbf{x}_{r_1}^{(i)}\\}_{i=1}^{|r_1|}, \\{\\mathbf{x}_{r_2}^{(j)}\\}_{j=1}^{|r_2|}) =  \\sum_{i=1}^{|r_1|}\\sum_{j=1}^{|r_2|} ||\\mathbf{x}_{r_1}^{(i)} - \\mathbf{x}_{r_2}^{(j)}||^2 $$\n"
      ],
      "metadata": {
        "id": "8Ax_oFePQG2W"
      }
    },
    {
      "cell_type": "markdown",
      "source": [
        "### Hierarchical Aggolomerative Clustering\n",
        "\n",
        "Algorithm:\n",
        "1. Calculate the distance matrix between pairs and clusters\n",
        "2. While all the objects are clustered into one.\n",
        "    - Detect the two closest groups (clusters) and merge them\n"
      ],
      "metadata": {
        "id": "zOW9btr21KEK"
      }
    },
    {
      "cell_type": "markdown",
      "source": [
        "### Dendrograms \n",
        "Dendrograms are graphical representation of the agglomerative process which show how an aggregation happens at each level. Let's take example of toy dataset to understand this.\n",
        "\n",
        "Example:\n",
        "\n",
        "| $x_1$ | $x_2$ |\n",
        "| --- | --- |\n",
        "| 8 | 3 |\n",
        "| 5 | 3 |\n",
        "| 6 | 4 |\n",
        "| 1 | 6 |\n",
        "| 2 | 8 |"
      ],
      "metadata": {
        "id": "jz_DOow_1m5H"
      }
    },
    {
      "cell_type": "code",
      "source": [
        "import numpy as np\n",
        "import matplotlib.pyplot as plt\n",
        "from sklearn.preprocessing import normalize"
      ],
      "metadata": {
        "id": "s5TgF9aM0MOd"
      },
      "execution_count": 13,
      "outputs": []
    },
    {
      "cell_type": "code",
      "source": [
        "X = np.array([(8, 3), (5, 3), (6, 4), (1, 6), (2, 8)])\n",
        "scaled_X = normalize(X)\n",
        "plt.scatter(X[:, 0], X[:, 1])\n",
        "plt.show()"
      ],
      "metadata": {
        "colab": {
          "base_uri": "https://localhost:8080/",
          "height": 265
        },
        "id": "E1PwpJlz23_N",
        "outputId": "c8255f3d-aa78-4462-dcee-33e4312433ab"
      },
      "execution_count": 14,
      "outputs": [
        {
          "output_type": "display_data",
          "data": {
            "text/plain": [
              "<Figure size 432x288 with 1 Axes>"
            ],
            "image/png": "[encoded data removed]"
          },
          "metadata": {
            "needs_background": "light"
          }
        }
      ]
    },
    {
      "cell_type": "markdown",
      "source": [
        "Let's plot the dendrogram with `scipy.cluster.hierarchy` library"
      ],
      "metadata": {
        "id": "Y5REenHR3Shb"
      }
    },
    {
      "cell_type": "code",
      "source": [
        "import scipy.cluster.hierarchy as shc\n",
        "plt.figure(figsize=(8, 8))\n",
        "plt.title('Dendrogram')\n",
        "dend = shc.dendrogram(shc.linkage(scaled_X, method=\"ward\"))"
      ],
      "metadata": {
        "colab": {
          "base_uri": "https://localhost:8080/",
          "height": 502
        },
        "id": "Ogbv_h9o3NAe",
        "outputId": "99b4e1a5-487f-48c7-fd45-08d8946a2b03"
      },
      "execution_count": 17,
      "outputs": [
        {
          "output_type": "display_data",
          "data": {
            "text/plain": [
              "<Figure size 576x576 with 1 Axes>"
            ],
            "image/png": "[encoded data removed]"
          },
          "metadata": {
            "needs_background": "light"
          }
        }
      ]
    },
    {
      "cell_type": "markdown",
      "source": [
        "HAC is implemented in `sklearn.cluster` module as `AgglomerativeClustering` class"
      ],
      "metadata": {
        "id": "hl87PtAx36qb"
      }
    }
  ]
}