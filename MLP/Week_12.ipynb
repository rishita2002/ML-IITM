{
  "nbformat": 4,
  "nbformat_minor": 0,
  "metadata": {
    "colab": {
      "name": "Week_12.ipynb",
      "provenance": []
    },
    "kernelspec": {
      "name": "python3",
      "display_name": "Python 3"
    },
    "language_info": {
      "name": "python"
    }
  },
  "cells": [
    {
      "cell_type": "markdown",
      "source": [
        "## [Lecture 12.2: MLP Classifier on MNIST dataset](https://www.youtube.com/watch?v=lvS2ZHJeyng)\n",
        "In this notebook we will demonstrate working of `MLPClassifier` to classify handwritten digits in `MNIST` dataset"
      ],
      "metadata": {
        "id": "AGjUYqv08jQU"
      }
    },
    {
      "cell_type": "markdown",
      "source": [
        "### **Imports**\n",
        "- We will begin by importing basic python libraries like `numpy` and `pandas`\n",
        "- `matplotlib.pyplot` and `seaborn` for plotting\n",
        "- The `MNIST` dataset can be downloaded using `fetch_openml` library\n",
        "- The `MLPClassifier` is imported from `sklearn.neural_network` module\n",
        "- The model training and evaluation is performed with cross validation using a bunch of model selection utilities like `cross_val_score`, `train_test_split`, `StratifiedShuffleSplit` etc.\n",
        "- The performance on the test samples is obtained via `accuracy_score`, `confusion_matrix` and `classification_report`.\n"
      ],
      "metadata": {
        "id": "T0XRTo4_87ny"
      }
    },
    {
      "cell_type": "code",
      "execution_count": 1,
      "metadata": {
        "id": "AMxBQOH_8evg"
      },
      "outputs": [],
      "source": [
        "import numpy as np\n",
        "import pandas as pd\n",
        "\n",
        "import matplotlib.pyplot as plt\n",
        "import seaborn as sns\n",
        "\n",
        "from sklearn.datasets import fetch_openml\n",
        "from sklearn.neural_network import MLPClassifier\n",
        "\n",
        "from sklearn.metrics import accuracy_score, classification_report\n",
        "from sklearn.metrics import ConfusionMatrixDisplay, plot_confusion_matrix, confusion_matrix\n",
        "\n",
        "from sklearn.model_selection import cross_val_score, train_test_split\n",
        "from sklearn.model_selection import GridSearchCV, StratifiedShuffleSplit"
      ]
    },
    {
      "cell_type": "code",
      "source": [
        "cv = StratifiedShuffleSplit(n_splits=5, test_size=0.2, random_state=42)"
      ],
      "metadata": {
        "id": "-acXcObD-geQ"
      },
      "execution_count": 2,
      "outputs": []
    },
    {
      "cell_type": "markdown",
      "source": [
        "### **Load Dataset**\n",
        "Let us use the MNIST Dataset for the demo of MLPClassifier"
      ],
      "metadata": {
        "id": "ToxuRX5U_ltj"
      }
    },
    {
      "cell_type": "code",
      "source": [
        "# Load dataset\n",
        "X, y = fetch_openml('mnist_784', version=1, return_X_y=True, as_frame=True)\n",
        "X = X.to_numpy()\n",
        "y = y.to_numpy()\n",
        "X_train, X_test, y_train, y_test = X[:60000], X[60000:], y[:60000], y[60000:]"
      ],
      "metadata": {
        "id": "LGWRPGKM_krq"
      },
      "execution_count": 3,
      "outputs": []
    },
    {
      "cell_type": "code",
      "source": [
        "# Flatten each input image into a vector of length 784\n",
        "X_train = X_train.reshape(X_train.shape[0], 28*28)\n",
        "X_test = X_test.reshape(X_test.shape[0], 28*28)\n",
        "\n",
        "# Normalizing\n",
        "X_train = X_train/255\n",
        "X_test = X_test/255"
      ],
      "metadata": {
        "id": "VdQCY3vNCiz5"
      },
      "execution_count": 5,
      "outputs": []
    },
    {
      "cell_type": "code",
      "source": [
        "print('Shape of training data after flattening', X_train.shape)\n",
        "print('Shape of testing data after flattening', X_test.shape)"
      ],
      "metadata": {
        "colab": {
          "base_uri": "https://localhost:8080/"
        },
        "id": "SqPiT3kcDDfX",
        "outputId": "95ba3cef-ca75-4360-97d3-e0aea980b470"
      },
      "execution_count": 6,
      "outputs": [
        {
          "output_type": "stream",
          "name": "stdout",
          "text": [
            "Shape of training data after flattening (60000, 784)\n",
            "Shape of testing data after flattening (10000, 784)\n"
          ]
        }
      ]
    },
    {
      "cell_type": "code",
      "source": [
        "print('Shape of training data', X_train.shape)\n",
        "print('Shape of training labels', y_train.shape)\n",
        "print('Shape of testing data', X_test.shape)\n",
        "print('Shape of testing labels', y_test.shape)"
      ],
      "metadata": {
        "colab": {
          "base_uri": "https://localhost:8080/"
        },
        "id": "35LiAnuJDTlf",
        "outputId": "08552424-3146-467a-fa84-ef71f567c078"
      },
      "execution_count": 7,
      "outputs": [
        {
          "output_type": "stream",
          "name": "stdout",
          "text": [
            "Shape of training data (60000, 784)\n",
            "Shape of training labels (60000,)\n",
            "Shape of testing data (10000, 784)\n",
            "Shape of testing labels (10000,)\n"
          ]
        }
      ]
    },
    {
      "cell_type": "markdown",
      "source": [
        "### **Fit MLPClassifier on MNIST dataset**\n",
        "Let us train a MLP Classifier with one hidden layer having 128 neurons"
      ],
      "metadata": {
        "id": "IovtvoDDGfzW"
      }
    },
    {
      "cell_type": "code",
      "source": [
        "mlpc = MLPClassifier(hidden_layer_sizes=(128,))\n",
        "mlpc.fit(X_train, y_train)"
      ],
      "metadata": {
        "colab": {
          "base_uri": "https://localhost:8080/"
        },
        "id": "BJvHh-5YDlnF",
        "outputId": "69a2df44-9bb1-4962-e38a-d74825e4cf70"
      },
      "execution_count": 8,
      "outputs": [
        {
          "output_type": "execute_result",
          "data": {
            "text/plain": [
              "MLPClassifier(hidden_layer_sizes=(128,))"
            ]
          },
          "metadata": {},
          "execution_count": 8
        }
      ]
    },
    {
      "cell_type": "code",
      "source": [
        "cv_score = cross_val_score(mlpc, X_train, y_train.ravel(), cv=cv)\n",
        "print('Trainig accuracy: {:.2f} %'.format(cv_score.mean()*100))"
      ],
      "metadata": {
        "colab": {
          "base_uri": "https://localhost:8080/"
        },
        "id": "gXy1xs5vG1_I",
        "outputId": "b60ddaa9-b0e4-4928-a4fe-3b402e1f8359"
      },
      "execution_count": 9,
      "outputs": [
        {
          "output_type": "stream",
          "name": "stdout",
          "text": [
            "Trainig accuracy: 97.70 %\n"
          ]
        }
      ]
    },
    {
      "cell_type": "code",
      "source": [
        "# Prediction probabilities of test data\n",
        "mlpc.predict_proba(X_test[:5])"
      ],
      "metadata": {
        "colab": {
          "base_uri": "https://localhost:8080/"
        },
        "id": "F-Snr50uHL8v",
        "outputId": "379cb93d-f730-4717-ad6c-67bca6a3d4fe"
      },
      "execution_count": 10,
      "outputs": [
        {
          "output_type": "execute_result",
          "data": {
            "text/plain": [
              "array([[1.49041034e-13, 3.40544824e-13, 6.15559339e-11, 4.00406757e-07,\n",
              "        9.47267677e-20, 2.69762065e-14, 1.10383306e-18, 9.99999599e-01,\n",
              "        2.02954007e-11, 3.80159988e-11],\n",
              "       [3.05412122e-19, 3.27192442e-12, 9.99999998e-01, 1.95414988e-09,\n",
              "        1.21773160e-39, 3.05084807e-14, 9.60873890e-16, 1.38135195e-27,\n",
              "        1.61622354e-11, 2.67589529e-24],\n",
              "       [1.19186324e-12, 9.99938426e-01, 5.12150706e-07, 2.28272684e-09,\n",
              "        9.78399176e-08, 1.09695014e-08, 1.56137321e-08, 1.17789497e-07,\n",
              "        6.08174788e-05, 4.26781424e-11],\n",
              "       [1.00000000e+00, 1.02060802e-20, 2.22513341e-14, 1.56818466e-19,\n",
              "        6.53134413e-21, 1.89268979e-16, 8.17636992e-11, 2.86141337e-11,\n",
              "        6.79971931e-21, 4.99022931e-15],\n",
              "       [2.82759660e-13, 6.49530773e-16, 1.26284418e-11, 2.07919785e-17,\n",
              "        9.99993884e-01, 2.89722194e-16, 3.74580195e-12, 1.01236414e-10,\n",
              "        4.28948777e-12, 6.11602479e-06]])"
            ]
          },
          "metadata": {},
          "execution_count": 10
        }
      ]
    },
    {
      "cell_type": "code",
      "source": [
        "y_pred = mlpc.predict(X_test)"
      ],
      "metadata": {
        "id": "JXZomSfrHWiz"
      },
      "execution_count": 11,
      "outputs": []
    },
    {
      "cell_type": "code",
      "source": [
        "print('Training accuracy: {:.2f}%'.format(accuracy_score(y_train, mlpc.predict(X_train))*100))\n",
        "print('Testing accuracy: {:.2f}%'.format(accuracy_score(y_test, y_pred)*100))"
      ],
      "metadata": {
        "colab": {
          "base_uri": "https://localhost:8080/"
        },
        "id": "FWS4XeZuJ_5W",
        "outputId": "3f83e67b-924c-40fe-cf0d-db653a206a0f"
      },
      "execution_count": 12,
      "outputs": [
        {
          "output_type": "stream",
          "name": "stdout",
          "text": [
            "Training accuracy: 100.00%\n",
            "Testing accuracy: 98.00%\n"
          ]
        }
      ]
    },
    {
      "cell_type": "markdown",
      "source": [
        "### **Confusion matrix plot**"
      ],
      "metadata": {
        "id": "JHBhMJolKbZH"
      }
    },
    {
      "cell_type": "code",
      "source": [
        "# visualizing the confusion matrix\n",
        "cm = confusion_matrix(y_test, y_pred)\n",
        "disp = ConfusionMatrixDisplay(confusion_matrix = cm)\n",
        "disp.plot()\n",
        "plt.title('Confusion Matrix')\n",
        "plt.show()"
      ],
      "metadata": {
        "colab": {
          "base_uri": "https://localhost:8080/",
          "height": 295
        },
        "id": "wfrt4X2zKXxg",
        "outputId": "4bc42dfe-258a-4654-a750-d3a34599623f"
      },
      "execution_count": 13,
      "outputs": [
        {
          "output_type": "display_data",
          "data": {
            "text/plain": [
              "<Figure size 432x288 with 2 Axes>"
            ],
            "image/png": "[encoded data removed]"
          },
          "metadata": {
            "needs_background": "light"
          }
        }
      ]
    },
    {
      "cell_type": "code",
      "source": [
        "print('Classification Report \\n')\n",
        "print(classification_report(y_test, y_pred))"
      ],
      "metadata": {
        "colab": {
          "base_uri": "https://localhost:8080/"
        },
        "id": "RmZiKV7sKxzt",
        "outputId": "3089b517-0607-4ea5-87ff-2802e7cf5626"
      },
      "execution_count": 14,
      "outputs": [
        {
          "output_type": "stream",
          "name": "stdout",
          "text": [
            "Classification Report \n",
            "\n",
            "              precision    recall  f1-score   support\n",
            "\n",
            "           0       0.98      0.99      0.98       980\n",
            "           1       0.99      0.99      0.99      1135\n",
            "           2       0.97      0.98      0.97      1032\n",
            "           3       0.98      0.98      0.98      1010\n",
            "           4       0.98      0.98      0.98       982\n",
            "           5       0.99      0.97      0.98       892\n",
            "           6       0.98      0.98      0.98       958\n",
            "           7       0.98      0.97      0.98      1028\n",
            "           8       0.98      0.97      0.98       974\n",
            "           9       0.97      0.98      0.97      1009\n",
            "\n",
            "    accuracy                           0.98     10000\n",
            "   macro avg       0.98      0.98      0.98     10000\n",
            "weighted avg       0.98      0.98      0.98     10000\n",
            "\n"
          ]
        }
      ]
    },
    {
      "cell_type": "markdown",
      "source": [
        "### Plot of test data along with predicted class labels"
      ],
      "metadata": {
        "id": "gpeaq_etL2Xj"
      }
    },
    {
      "cell_type": "code",
      "source": [
        "# Plotting some test samples and their predicted labels\n",
        "fig = plt.figure(figsize=(10, 7))\n",
        "for i in range(15):\n",
        "    ax = fig.add_subplot(3, 5, i+1)\n",
        "    ax.imshow(X_test[i].reshape(28, 28), cmap=plt.get_cmap('gray'))\n",
        "    ax.set_title('Label (y): {y}'.format(y=y_pred[i]))\n",
        "    plt.axis('off')"
      ],
      "metadata": {
        "colab": {
          "base_uri": "https://localhost:8080/",
          "height": 412
        },
        "id": "77Iwd9bAK7uB",
        "outputId": "bd4a13e5-f4f3-445e-ef71-1397b445df5c"
      },
      "execution_count": 17,
      "outputs": [
        {
          "output_type": "display_data",
          "data": {
            "text/plain": [
              "<Figure size 720x504 with 15 Axes>"
            ],
            "image/png": "[encoded data removed]"
          },
          "metadata": {
            "needs_background": "light"
          }
        }
      ]
    },
    {
      "cell_type": "markdown",
      "source": [
        "### **Visualization of multi-layer perceptron weights in hidden layer**\n",
        "- Looking at the learned coefficients of a neural network can provide insight into the learning behaviour\n",
        "- The input data consists 784 features in the dataset.\n",
        "- We have used one hidden layer with 128 neurons. Therefore weight matrix has the shape (784, 128)\n",
        "- We can therefore visualize a single column of the weight matrix as a 28 x 28 pixel image"
      ],
      "metadata": {
        "id": "e-3ICOPbMq7p"
      }
    },
    {
      "cell_type": "code",
      "source": [
        "w = mlpc.coefs_\n",
        "w = np.array(w[0])\n",
        "w.shape"
      ],
      "metadata": {
        "colab": {
          "base_uri": "https://localhost:8080/"
        },
        "id": "_OdrcnXbMgPk",
        "outputId": "1323de93-b990-4c66-d2f9-5bd7cf9c2871"
      },
      "execution_count": 18,
      "outputs": [
        {
          "output_type": "execute_result",
          "data": {
            "text/plain": [
              "(784, 128)"
            ]
          },
          "metadata": {},
          "execution_count": 18
        }
      ]
    },
    {
      "cell_type": "code",
      "source": [
        "w1 = np.array(w[:, 0])\n",
        "w1.shape"
      ],
      "metadata": {
        "colab": {
          "base_uri": "https://localhost:8080/"
        },
        "id": "wiDw7S-JNaW-",
        "outputId": "ecc5519b-e931-4693-ec6b-60d8251cee5f"
      },
      "execution_count": 19,
      "outputs": [
        {
          "output_type": "execute_result",
          "data": {
            "text/plain": [
              "(784,)"
            ]
          },
          "metadata": {},
          "execution_count": 19
        }
      ]
    },
    {
      "cell_type": "code",
      "source": [
        "w_matrix = w1.reshape(28, 28)\n",
        "fig = plt.figure()\n",
        "plt.imshow(w_matrix, cmap='gray')\n",
        "plt.grid(False)\n",
        "plt.axis(False)\n",
        "plt.colorbar()\n",
        "plt.show()"
      ],
      "metadata": {
        "colab": {
          "base_uri": "https://localhost:8080/",
          "height": 251
        },
        "id": "U0BqYDQbOBuo",
        "outputId": "70da75df-86e8-4b7f-892b-3f8d3c2b1745"
      },
      "execution_count": 20,
      "outputs": [
        {
          "output_type": "display_data",
          "data": {
            "text/plain": [
              "<Figure size 432x288 with 2 Axes>"
            ],
            "image/png": "[encoded data removed]"
          },
          "metadata": {
            "needs_background": "light"
          }
        }
      ]
    },
    {
      "cell_type": "code",
      "source": [
        "fig, axes = plt.subplots(4, 4)\n",
        "vmin, vmax = mlpc.coefs_[0].min(), mlpc.coefs_[0].max()\n",
        "for coef, ax in zip(mlpc.coefs_[0].T, axes.ravel()):\n",
        "    ax.matshow(coef.reshape(28, 28), cmap=plt.cm.gray, vmin=0.5*vmin, vmax=0.5*vmax)\n",
        "    ax.set_xticks(())\n",
        "    ax.set_yticks(())\n",
        "plt.show()"
      ],
      "metadata": {
        "colab": {
          "base_uri": "https://localhost:8080/",
          "height": 255
        },
        "id": "yZ_Ff2A0OTlV",
        "outputId": "a72dd277-2806-4641-9ebe-e912a90ddf6e"
      },
      "execution_count": 21,
      "outputs": [
        {
          "output_type": "display_data",
          "data": {
            "text/plain": [
              "<Figure size 432x288 with 16 Axes>"
            ],
            "image/png": "[encoded data removed]"
          },
          "metadata": {}
        }
      ]
    },
    {
      "cell_type": "code",
      "source": [
        "plt.plot(mlpc.loss_curve_, 'b-')\n",
        "plt.xlabel('epoch')\n",
        "plt.ylabel('loss')\n",
        "plt.title('Loss curve')"
      ],
      "metadata": {
        "colab": {
          "base_uri": "https://localhost:8080/",
          "height": 312
        },
        "id": "u6GqNpxUPJeW",
        "outputId": "2d766f4d-d646-4548-c42b-e59d9d863dc3"
      },
      "execution_count": 22,
      "outputs": [
        {
          "output_type": "execute_result",
          "data": {
            "text/plain": [
              "Text(0.5, 1.0, 'Loss curve')"
            ]
          },
          "metadata": {},
          "execution_count": 22
        },
        {
          "output_type": "display_data",
          "data": {
            "text/plain": [
              "<Figure size 432x288 with 1 Axes>"
            ],
            "image/png": "[encoded data removed]"
          },
          "metadata": {
            "needs_background": "light"
          }
        }
      ]
    },
    {
      "cell_type": "markdown",
      "source": [
        "### [Lecture 12.3: MLP Regressor on California Housing Dataset](https://www.youtube.com/watch?v=zsPNGpLFqgg)\n"
      ],
      "metadata": {
        "id": "CH-ElwYYQCZF"
      }
    },
    {
      "cell_type": "markdown",
      "source": [
        "### **MLP Regressor**\n",
        "MLPRegressor implements a multi-layer perceptron (MLP) that trains using backpropagation with no activation function in the output layer.\n",
        "\n",
        "Therefore, it uses the square error as the loss function, and the output is a set of continuous values"
      ],
      "metadata": {
        "id": "AHNHdMFcQXS-"
      }
    },
    {
      "cell_type": "markdown",
      "source": [
        "### **Import Basic Libraries**"
      ],
      "metadata": {
        "id": "gSVb1jL_Qvow"
      }
    },
    {
      "cell_type": "code",
      "source": [
        "import pandas as pd\n",
        "import matplotlib.pyplot as plt\n",
        "import seaborn as sns\n",
        "import numpy as np\n",
        "import sklearn as sklearn\n",
        "from sklearn import datasets\n",
        "\n",
        "from sklearn.model_selection import train_test_split\n",
        "from sklearn.neural_network import MLPRegressor\n",
        "from sklearn.preprocessing import StandardScaler\n",
        "from sklearn.pipeline import Pipeline\n",
        "from sklearn.metrics import mean_absolute_error\n",
        "from sklearn.metrics import mean_absolute_percentage_error\n",
        "from sklearn.model_selection import cross_validate, ShuffleSplit"
      ],
      "metadata": {
        "id": "-jc7PQG8PXI0"
      },
      "execution_count": 23,
      "outputs": []
    },
    {
      "cell_type": "code",
      "source": [
        "np.random.seed(42)\n",
        "cv = ShuffleSplit(n_splits=5, test_size=0.2, random_state=42)"
      ],
      "metadata": {
        "id": "D2Wa9RTzS4zI"
      },
      "execution_count": 25,
      "outputs": []
    },
    {
      "cell_type": "markdown",
      "source": [
        "### **Load Dataset**\n",
        "Let us use the California Housing Dataset for the demo of MLPRegressor"
      ],
      "metadata": {
        "id": "YJ3UjlG0TIsz"
      }
    },
    {
      "cell_type": "code",
      "source": [
        "# Load Dataset\n",
        "dataset = sklearn.datasets.fetch_california_housing()\n",
        "X, y = dataset.data, dataset.target\n",
        "\n",
        "X_train, X_test, y_train, y_test = train_test_split(X, y, test_size=0.2, random_state=1)"
      ],
      "metadata": {
        "id": "ngh6FGqYTD0X"
      },
      "execution_count": 26,
      "outputs": []
    },
    {
      "cell_type": "code",
      "source": [
        "print('Shape of training dataset', X_train.shape)\n",
        "print('Shape of testing dataset', X_test.shape)"
      ],
      "metadata": {
        "colab": {
          "base_uri": "https://localhost:8080/"
        },
        "id": "9r7buoLQTny9",
        "outputId": "51590473-78a5-41e0-e4a9-1853f2b439c5"
      },
      "execution_count": 27,
      "outputs": [
        {
          "output_type": "stream",
          "name": "stdout",
          "text": [
            "Shape of training dataset (16512, 8)\n",
            "Shape of testing dataset (4128, 8)\n"
          ]
        }
      ]
    },
    {
      "cell_type": "markdown",
      "source": [
        "### **Fit a pipeline to implement MLPRegressor on California Housing Dataset**\n",
        "Let us train a MLP Regressor with three hidden layers each with 32 neurons."
      ],
      "metadata": {
        "id": "fYvfMuMaTy_v"
      }
    },
    {
      "cell_type": "code",
      "source": [
        "pipe = Pipeline([('scaler', StandardScaler()),\n",
        "                 ('regressor', MLPRegressor(hidden_layer_sizes=(32, 32, 32)))])\n",
        "\n",
        "cv_results = cross_validate(pipe,\n",
        "                            X_train,\n",
        "                            y_train,\n",
        "                            cv=cv,\n",
        "                            scoring='neg_mean_absolute_percentage_error',\n",
        "                            return_train_score=True,\n",
        "                            return_estimator=True,\n",
        "                            n_jobs=2)\n",
        "\n",
        "mlp_train_error = -1 * cv_results['train_score']\n",
        "mlp_test_error = -1 * cv_results['test_score']\n",
        "\n",
        "print(f'Mean Absolute percentage error of MLP Regressor on training set: \\n'\n",
        "      f'{mlp_train_error.mean():.3f} +/- {mlp_train_error.std():.3f}')\n",
        "print(f'Mean Absolute percentage error of MLP Regressor on testing set: \\n'\n",
        "      f'{mlp_test_error.mean():.3f} +/- {mlp_test_error.std():.3f}')"
      ],
      "metadata": {
        "colab": {
          "base_uri": "https://localhost:8080/"
        },
        "id": "tPT8IxyrTwPx",
        "outputId": "c688e577-432e-484e-d7a2-fc2af5ae37b1"
      },
      "execution_count": 28,
      "outputs": [
        {
          "output_type": "stream",
          "name": "stdout",
          "text": [
            "Mean Absolute percentage error of MLP Regressor on training set: \n",
            "0.186 +/- 0.012\n",
            "Mean Absolute percentage error of MLP Regressor on testing set: \n",
            "0.198 +/- 0.015\n"
          ]
        }
      ]
    },
    {
      "cell_type": "code",
      "source": [
        "pipe.fit(X_train, y_train)"
      ],
      "metadata": {
        "colab": {
          "base_uri": "https://localhost:8080/"
        },
        "id": "B8QzFSabVWcV",
        "outputId": "97829d3d-1bd4-47d8-f417-7a99e37b0f89"
      },
      "execution_count": 29,
      "outputs": [
        {
          "output_type": "stream",
          "name": "stderr",
          "text": [
            "/usr/local/lib/python3.7/dist-packages/sklearn/neural_network/_multilayer_perceptron.py:696: ConvergenceWarning: Stochastic Optimizer: Maximum iterations (200) reached and the optimization hasn't converged yet.\n",
            "  ConvergenceWarning,\n"
          ]
        },
        {
          "output_type": "execute_result",
          "data": {
            "text/plain": [
              "Pipeline(steps=[('scaler', StandardScaler()),\n",
              "                ('regressor', MLPRegressor(hidden_layer_sizes=(32, 32, 32)))])"
            ]
          },
          "metadata": {},
          "execution_count": 29
        }
      ]
    },
    {
      "cell_type": "code",
      "source": [
        "mean_absolute_percentage_error(y_train, pipe.predict(X_train))"
      ],
      "metadata": {
        "colab": {
          "base_uri": "https://localhost:8080/"
        },
        "id": "TCjFGB8QVjF3",
        "outputId": "973a8e27-7bc1-43ee-e5f4-cac30a93f8c8"
      },
      "execution_count": 30,
      "outputs": [
        {
          "output_type": "execute_result",
          "data": {
            "text/plain": [
              "0.1688530677578464"
            ]
          },
          "metadata": {},
          "execution_count": 30
        }
      ]
    },
    {
      "cell_type": "code",
      "source": [
        "mean_absolute_percentage_error(y_test, pipe.predict(X_test))"
      ],
      "metadata": {
        "colab": {
          "base_uri": "https://localhost:8080/"
        },
        "id": "-w-Jx4aEVpwt",
        "outputId": "586f0b79-0826-4cd0-f782-1ecc7bbd3d05"
      },
      "execution_count": 31,
      "outputs": [
        {
          "output_type": "execute_result",
          "data": {
            "text/plain": [
              "0.19246846039639723"
            ]
          },
          "metadata": {},
          "execution_count": 31
        }
      ]
    },
    {
      "cell_type": "code",
      "source": [
        "plt.plot(y_test, pipe.predict(X_test), 'b*')\n",
        "plt.plot(y_test, y_test, 'g-')\n",
        "plt.xlabel('actual')\n",
        "plt.ylabel('predicted')"
      ],
      "metadata": {
        "colab": {
          "base_uri": "https://localhost:8080/",
          "height": 296
        },
        "id": "fFwdrseiVun5",
        "outputId": "15776902-6965-44bf-9af3-ea216d5909cc"
      },
      "execution_count": 33,
      "outputs": [
        {
          "output_type": "execute_result",
          "data": {
            "text/plain": [
              "Text(0, 0.5, 'predicted')"
            ]
          },
          "metadata": {},
          "execution_count": 33
        },
        {
          "output_type": "display_data",
          "data": {
            "text/plain": [
              "<Figure size 432x288 with 1 Axes>"
            ],
            "image/png": "[encoded data removed]"
          },
          "metadata": {
            "needs_background": "light"
          }
        }
      ]
    },
    {
      "cell_type": "code",
      "source": [
        ""
      ],
      "metadata": {
        "id": "lA8e195WV_U_"
      },
      "execution_count": null,
      "outputs": []
    }
  ]
}